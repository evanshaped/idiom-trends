{
 "cells": [
  {
   "cell_type": "code",
   "execution_count": 1,
   "id": "aaa5e303-97d3-4879-a217-f6fc179df084",
   "metadata": {},
   "outputs": [],
   "source": [
    "import numpy as np\n",
    "import matplotlib.pyplot as plt\n",
    "import pandas as pd\n",
    "corporaFolder = \"corpora/\""
   ]
  },
  {
   "cell_type": "code",
   "execution_count": 2,
   "id": "2c30bbc1-7d84-4d5a-be2e-8df93d8925a0",
   "metadata": {},
   "outputs": [],
   "source": [
    "import gzip\n",
    "import shutil\n",
    "import re\n",
    "import time\n",
    "import warnings\n",
    "import os"
   ]
  },
  {
   "cell_type": "code",
   "execution_count": 3,
   "id": "95b3af97-e1ef-4779-85cc-95ca1d530254",
   "metadata": {},
   "outputs": [],
   "source": [
    "class color:\n",
    "   PURPLE = '\\033[95m'\n",
    "   CYAN = '\\033[96m'\n",
    "   DARKCYAN = '\\033[36m'\n",
    "   BLUE = '\\033[94m'\n",
    "   GREEN = '\\033[92m'\n",
    "   YELLOW = '\\033[93m'\n",
    "   RED = '\\033[91m'\n",
    "   BOLD = '\\033[1m'\n",
    "   UNDERLINE = '\\033[4m'\n",
    "   END = '\\033[0m'"
   ]
  },
  {
   "cell_type": "markdown",
   "id": "dc424d1c-deaa-4ffa-952b-c5d93f902870",
   "metadata": {
    "jp-MarkdownHeadingCollapsed": true
   },
   "source": [
    "# (OLD) Initial idiom/corpus testing"
   ]
  },
  {
   "cell_type": "markdown",
   "id": "dc1159bb-e9ac-4057-a823-5631d163a258",
   "metadata": {
    "jp-MarkdownHeadingCollapsed": true
   },
   "source": [
    "## OLD HC Corpus"
   ]
  },
  {
   "cell_type": "markdown",
   "id": "873f3441-2175-4df8-9c63-072f8a11f731",
   "metadata": {},
   "source": [
    "### Description"
   ]
  },
  {
   "cell_type": "markdown",
   "id": "c41c3556-46e4-4b0d-93a3-ce5eee27ed82",
   "metadata": {},
   "source": [
    "Type:\n",
    "0:Twitter or similar\n",
    "1:Daily Newspapers (online version)\n",
    "2:Weekly or Monthly Magazine\n",
    "3:Blogs\n",
    "\n",
    "Subjects:\n",
    "0:No subject\n",
    "1:Politics\n",
    "2:Environment\n",
    "3:Food\n",
    "4:Arts & Culture\n",
    "5:Crime & Law\n",
    "6:International News (compared to the nation of the language)\n",
    "7:Local news\n",
    "8:Lifestyle & Fashion\n",
    "9:Religion\n",
    "10:Business & Economy\n",
    "11:Science & Technology\n",
    "12:Sport\n",
    "13:Entertainment\n",
    "14:Weather\n",
    "15:Travel\n",
    "16:Education\n",
    "17:Health\n",
    "18:Family\n",
    "19:WWII\n",
    "20:Holidays (Christmas, Hannukkah, Ramadan, etc.)\n",
    "21:Recipes\n",
    "22:Home & Garden\n",
    "23:Transport\n",
    "24:Obituaries\n",
    "25:Armed Forces\n",
    "26:Emergency & Disaster\n",
    "27:Leisure Time (hobbies, etc.)\n",
    "28;my life (blogs) - specific categories for blog posts about \"my life\""
   ]
  },
  {
   "cell_type": "markdown",
   "id": "e92784f5-10a2-4541-871e-6281c6993ef0",
   "metadata": {
    "jp-MarkdownHeadingCollapsed": true
   },
   "source": [
    "### Data cleaning"
   ]
  },
  {
   "cell_type": "code",
   "execution_count": 4,
   "id": "a0e47042-169e-4c28-b60e-28f8fa647151",
   "metadata": {},
   "outputs": [],
   "source": [
    "hcNews = corporaFolder + 'hc_corpus/Eng_US_Newspapers.txt'\n",
    "#hcNewsSmall = corporaFolder + 'hc_corpus/hc_news_small.txt'\n",
    "hcBlogs = corporaFolder + 'hc_corpus/Eng_US_Blogs.txt'\n",
    "hcTwitter = corporaFolder + 'hc_corpus/Eng_US_Twitter.txt'"
   ]
  },
  {
   "cell_type": "markdown",
   "id": "311f7c69-7b78-49ca-9d5b-e6b7e6c3e1fe",
   "metadata": {
    "jp-MarkdownHeadingCollapsed": true
   },
   "source": [
    "#### Testing with News corpus"
   ]
  },
  {
   "cell_type": "markdown",
   "id": "6660504b-2ca5-4b01-a10a-bf0f8bc9b28e",
   "metadata": {},
   "source": [
    "Read into pandas dataframe. Entries are separated by tab characters. Text may contain quote characters. Sample line:\n",
    "\n",
    "`latimes.com\t2012/04/29\t1\t7,12\tHe wasn't home alone, apparently.`"
   ]
  },
  {
   "cell_type": "code",
   "execution_count": 5,
   "id": "2c8e4a36-67ed-4edc-9052-3c5894c4178d",
   "metadata": {},
   "outputs": [
    {
     "data": {
      "text/html": [
       "<div>\n",
       "<style scoped>\n",
       "    .dataframe tbody tr th:only-of-type {\n",
       "        vertical-align: middle;\n",
       "    }\n",
       "\n",
       "    .dataframe tbody tr th {\n",
       "        vertical-align: top;\n",
       "    }\n",
       "\n",
       "    .dataframe thead th {\n",
       "        text-align: right;\n",
       "    }\n",
       "</style>\n",
       "<table border=\"1\" class=\"dataframe\">\n",
       "  <thead>\n",
       "    <tr style=\"text-align: right;\">\n",
       "      <th></th>\n",
       "      <th>website</th>\n",
       "      <th>date</th>\n",
       "      <th>type</th>\n",
       "      <th>subject</th>\n",
       "      <th>text</th>\n",
       "    </tr>\n",
       "  </thead>\n",
       "  <tbody>\n",
       "    <tr>\n",
       "      <th>0</th>\n",
       "      <td>latimes.com</td>\n",
       "      <td>2012/04/29</td>\n",
       "      <td>1</td>\n",
       "      <td>7,12</td>\n",
       "      <td>He wasn't home alone, apparently.</td>\n",
       "    </tr>\n",
       "    <tr>\n",
       "      <th>1</th>\n",
       "      <td>stltoday.com</td>\n",
       "      <td>2011/07/10</td>\n",
       "      <td>1</td>\n",
       "      <td>7,10</td>\n",
       "      <td>The St. Louis plant had to close. It would die...</td>\n",
       "    </tr>\n",
       "    <tr>\n",
       "      <th>2</th>\n",
       "      <td>freep.com</td>\n",
       "      <td>2012/05/07</td>\n",
       "      <td>1</td>\n",
       "      <td>10</td>\n",
       "      <td>WSU's plans quickly became a hot topic on loca...</td>\n",
       "    </tr>\n",
       "    <tr>\n",
       "      <th>3</th>\n",
       "      <td>nj.com</td>\n",
       "      <td>2011/02/05</td>\n",
       "      <td>1</td>\n",
       "      <td>1</td>\n",
       "      <td>The Alaimo Group of Mount Holly was up for a c...</td>\n",
       "    </tr>\n",
       "    <tr>\n",
       "      <th>4</th>\n",
       "      <td>sacbee.com</td>\n",
       "      <td>2011/10/02</td>\n",
       "      <td>1</td>\n",
       "      <td>5</td>\n",
       "      <td>And when it's often difficult to predict a law...</td>\n",
       "    </tr>\n",
       "  </tbody>\n",
       "</table>\n",
       "</div>"
      ],
      "text/plain": [
       "        website        date type subject  \\\n",
       "0   latimes.com  2012/04/29    1    7,12   \n",
       "1  stltoday.com  2011/07/10    1    7,10   \n",
       "2     freep.com  2012/05/07    1      10   \n",
       "3        nj.com  2011/02/05    1       1   \n",
       "4    sacbee.com  2011/10/02    1       5   \n",
       "\n",
       "                                                text  \n",
       "0                  He wasn't home alone, apparently.  \n",
       "1  The St. Louis plant had to close. It would die...  \n",
       "2  WSU's plans quickly became a hot topic on loca...  \n",
       "3  The Alaimo Group of Mount Holly was up for a c...  \n",
       "4  And when it's often difficult to predict a law...  "
      ]
     },
     "execution_count": 5,
     "metadata": {},
     "output_type": "execute_result"
    }
   ],
   "source": [
    "column_names = ['website', 'date', 'type', 'subject', 'text']\n",
    "dfNews = pd.read_csv(hcNews, sep='\\t', names=column_names, dtype=str)\n",
    "dfNews.head()"
   ]
  },
  {
   "cell_type": "code",
   "execution_count": 6,
   "id": "f62d3502-4bd2-40e0-b20a-2532ef70ef01",
   "metadata": {},
   "outputs": [
    {
     "data": {
      "text/plain": [
       "(1000105, 5)"
      ]
     },
     "execution_count": 6,
     "metadata": {},
     "output_type": "execute_result"
    }
   ],
   "source": [
    "dfNews.shape"
   ]
  },
  {
   "cell_type": "code",
   "execution_count": 7,
   "id": "0c52f392-4657-4469-bb38-9bd9cac9496b",
   "metadata": {},
   "outputs": [
    {
     "data": {
      "text/html": [
       "<div>\n",
       "<style scoped>\n",
       "    .dataframe tbody tr th:only-of-type {\n",
       "        vertical-align: middle;\n",
       "    }\n",
       "\n",
       "    .dataframe tbody tr th {\n",
       "        vertical-align: top;\n",
       "    }\n",
       "\n",
       "    .dataframe thead th {\n",
       "        text-align: right;\n",
       "    }\n",
       "</style>\n",
       "<table border=\"1\" class=\"dataframe\">\n",
       "  <thead>\n",
       "    <tr style=\"text-align: right;\">\n",
       "      <th></th>\n",
       "      <th>website</th>\n",
       "      <th>date</th>\n",
       "      <th>type</th>\n",
       "      <th>subject</th>\n",
       "      <th>text</th>\n",
       "    </tr>\n",
       "  </thead>\n",
       "  <tbody>\n",
       "    <tr>\n",
       "      <th>count</th>\n",
       "      <td>1000105</td>\n",
       "      <td>1000105</td>\n",
       "      <td>1000105</td>\n",
       "      <td>1000105</td>\n",
       "      <td>1000105</td>\n",
       "    </tr>\n",
       "    <tr>\n",
       "      <th>unique</th>\n",
       "      <td>31</td>\n",
       "      <td>2273</td>\n",
       "      <td>1</td>\n",
       "      <td>3412</td>\n",
       "      <td>1000074</td>\n",
       "    </tr>\n",
       "    <tr>\n",
       "      <th>top</th>\n",
       "      <td>cleveland.com</td>\n",
       "      <td>2012/05/02</td>\n",
       "      <td>1</td>\n",
       "      <td>0</td>\n",
       "      <td>Authority Song</td>\n",
       "    </tr>\n",
       "    <tr>\n",
       "      <th>freq</th>\n",
       "      <td>151188</td>\n",
       "      <td>32620</td>\n",
       "      <td>1000105</td>\n",
       "      <td>166460</td>\n",
       "      <td>2</td>\n",
       "    </tr>\n",
       "  </tbody>\n",
       "</table>\n",
       "</div>"
      ],
      "text/plain": [
       "              website        date     type  subject            text\n",
       "count         1000105     1000105  1000105  1000105         1000105\n",
       "unique             31        2273        1     3412         1000074\n",
       "top     cleveland.com  2012/05/02        1        0  Authority Song\n",
       "freq           151188       32620  1000105   166460               2"
      ]
     },
     "execution_count": 7,
     "metadata": {},
     "output_type": "execute_result"
    }
   ],
   "source": [
    "dfNews.describe()"
   ]
  },
  {
   "cell_type": "code",
   "execution_count": 8,
   "id": "819029f5-c9a9-4a3a-a6f8-f3e52f895004",
   "metadata": {},
   "outputs": [],
   "source": [
    "dfNews['words'] = dfNews['text'].apply(lambda x: len(x.split()))"
   ]
  },
  {
   "cell_type": "code",
   "execution_count": 9,
   "id": "59e3a208-9392-4772-a11e-c3223eeddbfb",
   "metadata": {},
   "outputs": [
    {
     "data": {
      "text/plain": [
       "count    1.000105e+06\n",
       "mean     3.440839e+01\n",
       "std      2.493637e+01\n",
       "min      1.000000e+00\n",
       "25%      1.900000e+01\n",
       "50%      3.100000e+01\n",
       "75%      4.500000e+01\n",
       "max      1.792000e+03\n",
       "Name: words, dtype: float64"
      ]
     },
     "execution_count": 9,
     "metadata": {},
     "output_type": "execute_result"
    }
   ],
   "source": [
    "dfNews['words'].describe()"
   ]
  },
  {
   "cell_type": "code",
   "execution_count": 10,
   "id": "f5385df7-810d-47f1-b6fc-2b39a057eb87",
   "metadata": {},
   "outputs": [
    {
     "data": {
      "text/plain": [
       "34412000"
      ]
     },
     "execution_count": 10,
     "metadata": {},
     "output_type": "execute_result"
    }
   ],
   "source": [
    "dfNews['words'].sum()"
   ]
  },
  {
   "cell_type": "code",
   "execution_count": 11,
   "id": "b73717cf-e947-4abe-a367-0e40754b5b9b",
   "metadata": {},
   "outputs": [],
   "source": [
    "dfNews = dfNews.drop(columns=[\"type\"])   # Everything in the News category has type 1\n",
    "dfNews['date'] = pd.to_datetime(dfNews['date'], format='%Y/%m/%d')\n",
    "dfNews['year'] = dfNews['date'].dt.year\n",
    "dfNews = dfNews.drop(columns=[\"date\"])\n",
    "dfNews['subject'] = dfNews['subject'].apply(lambda x: [int(i) for i in x.split(',')] if pd.notna(x) else [])"
   ]
  },
  {
   "cell_type": "code",
   "execution_count": 12,
   "id": "ca8bd1a4-2269-4d24-a2e1-3c13ef972c3e",
   "metadata": {},
   "outputs": [
    {
     "data": {
      "text/html": [
       "<div>\n",
       "<style scoped>\n",
       "    .dataframe tbody tr th:only-of-type {\n",
       "        vertical-align: middle;\n",
       "    }\n",
       "\n",
       "    .dataframe tbody tr th {\n",
       "        vertical-align: top;\n",
       "    }\n",
       "\n",
       "    .dataframe thead th {\n",
       "        text-align: right;\n",
       "    }\n",
       "</style>\n",
       "<table border=\"1\" class=\"dataframe\">\n",
       "  <thead>\n",
       "    <tr style=\"text-align: right;\">\n",
       "      <th></th>\n",
       "      <th>website</th>\n",
       "      <th>subject</th>\n",
       "      <th>text</th>\n",
       "      <th>words</th>\n",
       "      <th>year</th>\n",
       "    </tr>\n",
       "  </thead>\n",
       "  <tbody>\n",
       "    <tr>\n",
       "      <th>0</th>\n",
       "      <td>latimes.com</td>\n",
       "      <td>[7, 12]</td>\n",
       "      <td>He wasn't home alone, apparently.</td>\n",
       "      <td>5</td>\n",
       "      <td>2012</td>\n",
       "    </tr>\n",
       "    <tr>\n",
       "      <th>1</th>\n",
       "      <td>stltoday.com</td>\n",
       "      <td>[7, 10]</td>\n",
       "      <td>The St. Louis plant had to close. It would die...</td>\n",
       "      <td>29</td>\n",
       "      <td>2011</td>\n",
       "    </tr>\n",
       "    <tr>\n",
       "      <th>2</th>\n",
       "      <td>freep.com</td>\n",
       "      <td>[10]</td>\n",
       "      <td>WSU's plans quickly became a hot topic on loca...</td>\n",
       "      <td>29</td>\n",
       "      <td>2012</td>\n",
       "    </tr>\n",
       "    <tr>\n",
       "      <th>3</th>\n",
       "      <td>nj.com</td>\n",
       "      <td>[1]</td>\n",
       "      <td>The Alaimo Group of Mount Holly was up for a c...</td>\n",
       "      <td>85</td>\n",
       "      <td>2011</td>\n",
       "    </tr>\n",
       "    <tr>\n",
       "      <th>4</th>\n",
       "      <td>sacbee.com</td>\n",
       "      <td>[5]</td>\n",
       "      <td>And when it's often difficult to predict a law...</td>\n",
       "      <td>40</td>\n",
       "      <td>2011</td>\n",
       "    </tr>\n",
       "  </tbody>\n",
       "</table>\n",
       "</div>"
      ],
      "text/plain": [
       "        website  subject                                               text  \\\n",
       "0   latimes.com  [7, 12]                  He wasn't home alone, apparently.   \n",
       "1  stltoday.com  [7, 10]  The St. Louis plant had to close. It would die...   \n",
       "2     freep.com     [10]  WSU's plans quickly became a hot topic on loca...   \n",
       "3        nj.com      [1]  The Alaimo Group of Mount Holly was up for a c...   \n",
       "4    sacbee.com      [5]  And when it's often difficult to predict a law...   \n",
       "\n",
       "   words  year  \n",
       "0      5  2012  \n",
       "1     29  2011  \n",
       "2     29  2012  \n",
       "3     85  2011  \n",
       "4     40  2011  "
      ]
     },
     "execution_count": 12,
     "metadata": {},
     "output_type": "execute_result"
    }
   ],
   "source": [
    "dfNews.head()"
   ]
  },
  {
   "cell_type": "code",
   "execution_count": 13,
   "id": "de144d2f-ea2e-4bad-9100-4130aba644c8",
   "metadata": {},
   "outputs": [
    {
     "data": {
      "text/plain": [
       "year\n",
       "2012    537993\n",
       "2011    261364\n",
       "2010    121826\n",
       "2009     41759\n",
       "2008     17728\n",
       "2007      8607\n",
       "2006      6997\n",
       "2005      3831\n",
       "Name: count, dtype: int64"
      ]
     },
     "execution_count": 13,
     "metadata": {},
     "output_type": "execute_result"
    }
   ],
   "source": [
    "dfNews['year'].value_counts()"
   ]
  },
  {
   "cell_type": "markdown",
   "id": "f84eebe1-76c8-4988-9cce-f78f2d62ebe0",
   "metadata": {},
   "source": [
    "#### FINAL: Read in datasets (to Pandas DataFrame)"
   ]
  },
  {
   "cell_type": "code",
   "execution_count": 5,
   "id": "00ea67a6-63d6-4179-9978-d1e7d813718e",
   "metadata": {},
   "outputs": [],
   "source": [
    "def read_hc_corpus(hcFile):\n",
    "    column_names = ['website', 'date', 'type', 'subject', 'text']\n",
    "    df = pd.read_csv(hcFile, sep='\\t', names=column_names, dtype=str)\n",
    "\n",
    "    df['words'] = df['text'].apply(lambda x: len(x.split()))\n",
    "    total_words = df['words'].sum()\n",
    "    \n",
    "    df = df.drop(columns=[\"type\"])   # Everything in the News category has type 1\n",
    "    df['date'] = pd.to_datetime(df['date'], format='%Y/%m/%d')\n",
    "    df['year'] = df['date'].dt.year\n",
    "    df = df.drop(columns=[\"date\"])\n",
    "    df['subject'] = df['subject'].apply(lambda x: [int(i) for i in x.split(',')] if pd.notna(x) else [])\n",
    "\n",
    "    print(f\"{hcFile}\")\n",
    "    print(f\"{color.BOLD}{total_words/1000000:.3f} million words{color.END}\")\n",
    "    print(f\"{color.BOLD}{df.shape[0]/1000000:.3f} million lines{color.END} {color.BOLD}({total_words/df.shape[0]:.1f} words per line){color.END}\")\n",
    "    \n",
    "    return df"
   ]
  },
  {
   "cell_type": "code",
   "execution_count": 6,
   "id": "84b2d892-ec38-42f1-a231-22db875de084",
   "metadata": {},
   "outputs": [
    {
     "name": "stdout",
     "output_type": "stream",
     "text": [
      "corpora/hc_corpus/Eng_US_Newspapers.txt\n",
      "\u001b[1m34.412 million words\u001b[0m\n",
      "\u001b[1m1.000 million lines\u001b[0m \u001b[1m(34.4 words per line)\u001b[0m\n"
     ]
    }
   ],
   "source": [
    "dfNews = read_hc_corpus(hcNews)"
   ]
  },
  {
   "cell_type": "code",
   "execution_count": 7,
   "id": "51cef2c2-fe39-427d-a349-55428bdf6485",
   "metadata": {},
   "outputs": [
    {
     "name": "stdout",
     "output_type": "stream",
     "text": [
      "corpora/hc_corpus/Eng_US_Blogs.txt\n",
      "\u001b[1m37.417 million words\u001b[0m\n",
      "\u001b[1m0.879 million lines\u001b[0m \u001b[1m(42.6 words per line)\u001b[0m\n"
     ]
    }
   ],
   "source": [
    "dfBlogs = read_hc_corpus(hcBlogs)"
   ]
  },
  {
   "cell_type": "code",
   "execution_count": 8,
   "id": "9804787e-150e-4393-9cef-761b5645cca9",
   "metadata": {},
   "outputs": [
    {
     "name": "stdout",
     "output_type": "stream",
     "text": [
      "corpora/hc_corpus/Eng_US_Twitter.txt\n",
      "\u001b[1m30.442 million words\u001b[0m\n",
      "\u001b[1m2.343 million lines\u001b[0m \u001b[1m(13.0 words per line)\u001b[0m\n"
     ]
    }
   ],
   "source": [
    "dfTwitter = read_hc_corpus(hcTwitter)"
   ]
  },
  {
   "cell_type": "code",
   "execution_count": 16,
   "id": "2683681f-fb40-43f6-8e97-16a6ab3e76df",
   "metadata": {},
   "outputs": [
    {
     "data": {
      "text/html": [
       "<div>\n",
       "<style scoped>\n",
       "    .dataframe tbody tr th:only-of-type {\n",
       "        vertical-align: middle;\n",
       "    }\n",
       "\n",
       "    .dataframe tbody tr th {\n",
       "        vertical-align: top;\n",
       "    }\n",
       "\n",
       "    .dataframe thead th {\n",
       "        text-align: right;\n",
       "    }\n",
       "</style>\n",
       "<table border=\"1\" class=\"dataframe\">\n",
       "  <thead>\n",
       "    <tr style=\"text-align: right;\">\n",
       "      <th></th>\n",
       "      <th>website</th>\n",
       "      <th>subject</th>\n",
       "      <th>text</th>\n",
       "      <th>words</th>\n",
       "      <th>year</th>\n",
       "    </tr>\n",
       "  </thead>\n",
       "  <tbody>\n",
       "    <tr>\n",
       "      <th>0</th>\n",
       "      <td>wordpress.com</td>\n",
       "      <td>[0]</td>\n",
       "      <td>In the years thereafter, most of the Oil field...</td>\n",
       "      <td>16</td>\n",
       "      <td>2012</td>\n",
       "    </tr>\n",
       "    <tr>\n",
       "      <th>1</th>\n",
       "      <td>blogspot.com</td>\n",
       "      <td>[0]</td>\n",
       "      <td>We love you Mr. Brown.</td>\n",
       "      <td>5</td>\n",
       "      <td>2011</td>\n",
       "    </tr>\n",
       "    <tr>\n",
       "      <th>2</th>\n",
       "      <td>blogspot.com</td>\n",
       "      <td>[0]</td>\n",
       "      <td>Chad has been awesome with the kids and holdin...</td>\n",
       "      <td>140</td>\n",
       "      <td>2012</td>\n",
       "    </tr>\n",
       "    <tr>\n",
       "      <th>3</th>\n",
       "      <td>blogspot.com</td>\n",
       "      <td>[0]</td>\n",
       "      <td>so anyways, i am going to share some home deco...</td>\n",
       "      <td>40</td>\n",
       "      <td>2011</td>\n",
       "    </tr>\n",
       "    <tr>\n",
       "      <th>4</th>\n",
       "      <td>blogspot.com</td>\n",
       "      <td>[0]</td>\n",
       "      <td>With graduation season right around the corner...</td>\n",
       "      <td>111</td>\n",
       "      <td>2011</td>\n",
       "    </tr>\n",
       "    <tr>\n",
       "      <th>5</th>\n",
       "      <td>blogspot.com</td>\n",
       "      <td>[0]</td>\n",
       "      <td>If you have an alternative argument, let's hea...</td>\n",
       "      <td>10</td>\n",
       "      <td>2012</td>\n",
       "    </tr>\n",
       "    <tr>\n",
       "      <th>6</th>\n",
       "      <td>blogspot.com</td>\n",
       "      <td>[0]</td>\n",
       "      <td>If I were a bear,</td>\n",
       "      <td>5</td>\n",
       "      <td>2012</td>\n",
       "    </tr>\n",
       "    <tr>\n",
       "      <th>7</th>\n",
       "      <td>blogspot.com</td>\n",
       "      <td>[0]</td>\n",
       "      <td>Other friends have similar stories, of how the...</td>\n",
       "      <td>56</td>\n",
       "      <td>2007</td>\n",
       "    </tr>\n",
       "    <tr>\n",
       "      <th>8</th>\n",
       "      <td>wordpress.com</td>\n",
       "      <td>[0]</td>\n",
       "      <td>Although our beloved Cantab can’t claim the in...</td>\n",
       "      <td>45</td>\n",
       "      <td>2011</td>\n",
       "    </tr>\n",
       "    <tr>\n",
       "      <th>9</th>\n",
       "      <td>wordpress.com</td>\n",
       "      <td>[0]</td>\n",
       "      <td>Peter Schiff: Hard to tell. It will look prett...</td>\n",
       "      <td>137</td>\n",
       "      <td>2012</td>\n",
       "    </tr>\n",
       "  </tbody>\n",
       "</table>\n",
       "</div>"
      ],
      "text/plain": [
       "         website subject                                               text  \\\n",
       "0  wordpress.com     [0]  In the years thereafter, most of the Oil field...   \n",
       "1   blogspot.com     [0]                             We love you Mr. Brown.   \n",
       "2   blogspot.com     [0]  Chad has been awesome with the kids and holdin...   \n",
       "3   blogspot.com     [0]  so anyways, i am going to share some home deco...   \n",
       "4   blogspot.com     [0]  With graduation season right around the corner...   \n",
       "5   blogspot.com     [0]  If you have an alternative argument, let's hea...   \n",
       "6   blogspot.com     [0]                                  If I were a bear,   \n",
       "7   blogspot.com     [0]  Other friends have similar stories, of how the...   \n",
       "8  wordpress.com     [0]  Although our beloved Cantab can’t claim the in...   \n",
       "9  wordpress.com     [0]  Peter Schiff: Hard to tell. It will look prett...   \n",
       "\n",
       "   words  year  \n",
       "0     16  2012  \n",
       "1      5  2011  \n",
       "2    140  2012  \n",
       "3     40  2011  \n",
       "4    111  2011  \n",
       "5     10  2012  \n",
       "6      5  2012  \n",
       "7     56  2007  \n",
       "8     45  2011  \n",
       "9    137  2012  "
      ]
     },
     "execution_count": 16,
     "metadata": {},
     "output_type": "execute_result"
    }
   ],
   "source": [
    "dfBlogs.head(10)"
   ]
  },
  {
   "cell_type": "code",
   "execution_count": 18,
   "id": "5f3c787a-82e3-4c6a-a8ca-977882dea3fc",
   "metadata": {},
   "outputs": [
    {
     "data": {
      "text/plain": [
       "'Peter Schiff: Hard to tell. It will look pretty bad for most Americans when prices will go way up and they can’t afford to buy stuff. It could also get very bad as far as loss of individual liberty. A lot of people will blame it on capitalism, on freedom, and they will claim we need more government. It could be used as an impetus for more regulation, which would be a disaster, or it could be an impetus to get rid of all the regulation that was causing the problem. But whether we will do the right or the wrong thing here in America, there will be a lot of pain first. We got some serious problems we have to deal with, but we are not dealing with the problems, we only make the problems worse.'"
      ]
     },
     "execution_count": 18,
     "metadata": {},
     "output_type": "execute_result"
    }
   ],
   "source": [
    "dfBlogs.at[9,'text']"
   ]
  },
  {
   "cell_type": "code",
   "execution_count": 12,
   "id": "cdd3fdf8-23cb-472c-80aa-33277b3bc6de",
   "metadata": {},
   "outputs": [
    {
     "data": {
      "text/plain": [
       "\"When you meet someone special... you'll know. Your heart will beat more rapidly and you'll smile for no reason.\""
      ]
     },
     "execution_count": 12,
     "metadata": {},
     "output_type": "execute_result"
    }
   ],
   "source": [
    "dfTwitter.at[1,'text']"
   ]
  },
  {
   "cell_type": "markdown",
   "id": "c86b4e62-5617-4cea-a174-cf72d441a0f8",
   "metadata": {
    "jp-MarkdownHeadingCollapsed": true
   },
   "source": [
    "### Exploration in Newspapers dataset"
   ]
  },
  {
   "cell_type": "code",
   "execution_count": 194,
   "id": "d86bc599-d9dc-41ef-815e-b487bdaafee1",
   "metadata": {},
   "outputs": [],
   "source": [
    "def countIdiom(df, idiomPattern, hcStr = \"\"):\n",
    "    with warnings.catch_warnings():\n",
    "        # Apply a filter to suppress warnings with the specific message\n",
    "        warnings.filterwarnings(\n",
    "            \"ignore\",  # Action to ignore the warning\n",
    "            category=UserWarning,  # Category of the warning\n",
    "            message=\".*has match groups.*\",  # Regex pattern to match the warning message\n",
    "        )\n",
    "        dfSub = df[df['text'].str.contains(idiomPattern, regex=True, na=False, flags=re.IGNORECASE)]\n",
    "    matches = dfSub['text'].str.count(idiomPattern, flags=re.IGNORECASE).sum()\n",
    "    total_words = df['words'].sum()\n",
    "    print(f\"{hcStr}{color.BOLD}{matches}{color.END} matches ({dfSub.shape[0]} lines) is ({color.BOLD}{matches/total_words*1000000:.3f}{color.END} per million words) for {color.BOLD}{idiomPattern}{color.END}\")\n",
    "    return dfSub"
   ]
  },
  {
   "cell_type": "markdown",
   "id": "88489d75-4636-445f-92b3-98775d5f961c",
   "metadata": {
    "jp-MarkdownHeadingCollapsed": true
   },
   "source": [
    "#### Kick the bucket"
   ]
  },
  {
   "cell_type": "code",
   "execution_count": 195,
   "id": "0c0fd181-5680-4114-b7f9-ef70ba8ea649",
   "metadata": {},
   "outputs": [
    {
     "name": "stdout",
     "output_type": "stream",
     "text": [
      "News: \u001b[1m2\u001b[0m matches (2 lines) is (\u001b[1m0.058\u001b[0m per million words) for \u001b[1m\\bkick(s|ed)? the bucket(s)?\\b\u001b[0m\n"
     ]
    }
   ],
   "source": [
    "kickIdiom = r'\\bkick(s|ed)? the bucket(s)?\\b'\n",
    "dfNewsSub = countIdiom(dfNews, kickIdiom, hcStr=\"News: \")"
   ]
  },
  {
   "cell_type": "code",
   "execution_count": 174,
   "id": "6b6c0d33-6958-4723-95cf-a9bd90a95b39",
   "metadata": {},
   "outputs": [
    {
     "data": {
      "text/html": [
       "<div>\n",
       "<style scoped>\n",
       "    .dataframe tbody tr th:only-of-type {\n",
       "        vertical-align: middle;\n",
       "    }\n",
       "\n",
       "    .dataframe tbody tr th {\n",
       "        vertical-align: top;\n",
       "    }\n",
       "\n",
       "    .dataframe thead th {\n",
       "        text-align: right;\n",
       "    }\n",
       "</style>\n",
       "<table border=\"1\" class=\"dataframe\">\n",
       "  <thead>\n",
       "    <tr style=\"text-align: right;\">\n",
       "      <th></th>\n",
       "      <th>website</th>\n",
       "      <th>subject</th>\n",
       "      <th>text</th>\n",
       "      <th>words</th>\n",
       "      <th>year</th>\n",
       "    </tr>\n",
       "  </thead>\n",
       "  <tbody>\n",
       "    <tr>\n",
       "      <th>99976</th>\n",
       "      <td>startribune.com</td>\n",
       "      <td>[3, 13]</td>\n",
       "      <td>In the glitzy Top 40 nightclub world, Aqua tur...</td>\n",
       "      <td>58</td>\n",
       "      <td>2012</td>\n",
       "    </tr>\n",
       "    <tr>\n",
       "      <th>342082</th>\n",
       "      <td>stltoday.com</td>\n",
       "      <td>[10]</td>\n",
       "      <td>Do it before you croak, she said, launching th...</td>\n",
       "      <td>30</td>\n",
       "      <td>2012</td>\n",
       "    </tr>\n",
       "  </tbody>\n",
       "</table>\n",
       "</div>"
      ],
      "text/plain": [
       "                website  subject  \\\n",
       "99976   startribune.com  [3, 13]   \n",
       "342082     stltoday.com     [10]   \n",
       "\n",
       "                                                     text  words  year  \n",
       "99976   In the glitzy Top 40 nightclub world, Aqua tur...     58  2012  \n",
       "342082  Do it before you croak, she said, launching th...     30  2012  "
      ]
     },
     "execution_count": 174,
     "metadata": {},
     "output_type": "execute_result"
    }
   ],
   "source": [
    "dfNewsSub"
   ]
  },
  {
   "cell_type": "code",
   "execution_count": 175,
   "id": "cc150b1c-3884-44fd-9d04-4117589f568d",
   "metadata": {},
   "outputs": [
    {
     "data": {
      "text/plain": [
       "\"In the glitzy Top 40 nightclub world, Aqua turning five is almost as big a deal as the Saloon's achievement. That's because most bottle-service clubs kick the bucket about this time (R.I.P. Karma, Spin, Escape, etc.). Aqua is still popping bottles and even offering everyone free drinks from 9 to 11 p.m. Saturday (plus free champagne for women).\""
      ]
     },
     "execution_count": 175,
     "metadata": {},
     "output_type": "execute_result"
    }
   ],
   "source": [
    "dfNewsSub.at[99976,'text']"
   ]
  },
  {
   "cell_type": "markdown",
   "id": "13b785e9-33ee-4081-9e19-ea2dea6ecdc3",
   "metadata": {
    "jp-MarkdownHeadingCollapsed": true
   },
   "source": [
    "#### Multiple idioms"
   ]
  },
  {
   "cell_type": "code",
   "execution_count": 176,
   "id": "4d8dc2ae-fc59-4ed2-82eb-66eac1a3ebfa",
   "metadata": {},
   "outputs": [],
   "source": [
    "idioms = [r'\\bkick(s|ed)? the buckets?\\b',\n",
    "          r'\\bcr(y|ys|ied|ying) over spilled milk\\b',\n",
    "          r'\\blame ducks?\\b',\n",
    "          r'\\bunder the weather\\b',\n",
    "          r'\\bchip on my shoulders?\\b']"
   ]
  },
  {
   "cell_type": "code",
   "execution_count": 177,
   "id": "04c096b5-f809-47c9-ae8a-94cbb141c080",
   "metadata": {},
   "outputs": [
    {
     "name": "stdout",
     "output_type": "stream",
     "text": [
      "\u001b[1m2\u001b[0m matches (2 lines) is (\u001b[1m0.058\u001b[0m per million words) for \u001b[1m\\bkick(s|ed)? the buckets?\\b\u001b[0m\n",
      "\u001b[1m1\u001b[0m matches (1 lines) is (\u001b[1m0.029\u001b[0m per million words) for \u001b[1m\\bcr(y|ys|ied|ying) over spilled milk\\b\u001b[0m\n",
      "\u001b[1m20\u001b[0m matches (19 lines) is (\u001b[1m0.581\u001b[0m per million words) for \u001b[1m\\blame ducks?\\b\u001b[0m\n",
      "\u001b[1m12\u001b[0m matches (12 lines) is (\u001b[1m0.349\u001b[0m per million words) for \u001b[1m\\bunder the weather\\b\u001b[0m\n",
      "\u001b[1m13\u001b[0m matches (13 lines) is (\u001b[1m0.378\u001b[0m per million words) for \u001b[1m\\bchip on my shoulders?\\b\u001b[0m\n"
     ]
    }
   ],
   "source": [
    "for idiomPattern in idioms:\n",
    "    countIdiom(dfNews, idiomPattern)"
   ]
  },
  {
   "cell_type": "markdown",
   "id": "a0a611cc-12cb-40ac-a30f-974b0621dbb1",
   "metadata": {
    "jp-MarkdownHeadingCollapsed": true
   },
   "source": [
    "#### Genralizing regex helps"
   ]
  },
  {
   "cell_type": "code",
   "execution_count": 178,
   "id": "3ebbbb81-2f39-4ad0-9fc6-5e9b66d97036",
   "metadata": {},
   "outputs": [],
   "source": [
    "idioms = [r'\\bcr(y|ys|ied|ying) over spilled milk\\b',\n",
    "          r'\\bcr(y|i)\\S* over spilled milk\\b']"
   ]
  },
  {
   "cell_type": "code",
   "execution_count": 179,
   "id": "6db51cd5-ad25-4f8f-9d0f-32f22695780b",
   "metadata": {},
   "outputs": [
    {
     "name": "stdout",
     "output_type": "stream",
     "text": [
      "\u001b[1m1\u001b[0m matches (1 lines) is (\u001b[1m0.029\u001b[0m per million words) for \u001b[1m\\bcr(y|ys|ied|ying) over spilled milk\\b\u001b[0m\n",
      "\u001b[1m1\u001b[0m matches (1 lines) is (\u001b[1m0.029\u001b[0m per million words) for \u001b[1m\\bcr(y|i)\\S* over spilled milk\\b\u001b[0m\n"
     ]
    }
   ],
   "source": [
    "for idiomPattern in idioms:\n",
    "    countIdiom(dfNews, idiomPattern)"
   ]
  },
  {
   "cell_type": "code",
   "execution_count": 180,
   "id": "333c34ad-9025-4157-b46e-996dd55e0759",
   "metadata": {},
   "outputs": [],
   "source": [
    "idioms = [r'\\bchip on my shoulders?\\b',\n",
    "          r'\\bchip on \\w+ shoulders?\\b',\n",
    "          r'\\bchip on (\\w+\\s?){1,3}shoulders?\\b']"
   ]
  },
  {
   "cell_type": "code",
   "execution_count": 181,
   "id": "4b14c8ed-4afd-4d7d-b94f-bd7329ea2c18",
   "metadata": {},
   "outputs": [
    {
     "name": "stdout",
     "output_type": "stream",
     "text": [
      "\u001b[1m13\u001b[0m matches (13 lines) is (\u001b[1m0.378\u001b[0m per million words) for \u001b[1m\\bchip on my shoulders?\\b\u001b[0m\n",
      "\u001b[1m49\u001b[0m matches (49 lines) is (\u001b[1m1.424\u001b[0m per million words) for \u001b[1m\\bchip on \\w+ shoulders?\\b\u001b[0m\n",
      "\u001b[1m50\u001b[0m matches (50 lines) is (\u001b[1m1.453\u001b[0m per million words) for \u001b[1m\\bchip on (\\w+\\s?){1,3}shoulders?\\b\u001b[0m\n"
     ]
    }
   ],
   "source": [
    "for idiomPattern in idioms:\n",
    "    countIdiom(dfNews, idiomPattern)"
   ]
  },
  {
   "cell_type": "code",
   "execution_count": 235,
   "id": "6165b161-2097-4846-bdc9-906ad6379ce1",
   "metadata": {},
   "outputs": [],
   "source": [
    "idioms = [r'\\bsilver lining\\b',\n",
    "          r'\\bsilver linings?\\b',\n",
    "          r'silver lining']"
   ]
  },
  {
   "cell_type": "code",
   "execution_count": 236,
   "id": "b0f6598f-e5d9-4df7-b646-2b21b2d4521e",
   "metadata": {},
   "outputs": [
    {
     "name": "stdout",
     "output_type": "stream",
     "text": [
      "\u001b[1m59\u001b[0m matches (59 lines) is (\u001b[1m1.715\u001b[0m per million words) for \u001b[1m\\bsilver lining\\b\u001b[0m\n",
      "\u001b[1m63\u001b[0m matches (63 lines) is (\u001b[1m1.831\u001b[0m per million words) for \u001b[1m\\bsilver linings?\\b\u001b[0m\n",
      "\u001b[1m63\u001b[0m matches (63 lines) is (\u001b[1m1.831\u001b[0m per million words) for \u001b[1msilver lining\u001b[0m\n"
     ]
    }
   ],
   "source": [
    "for idiomPattern in idioms:\n",
    "    countIdiom(dfNews, idiomPattern)"
   ]
  },
  {
   "cell_type": "markdown",
   "id": "609d53d7-f195-4a62-871d-8b0a4d260c58",
   "metadata": {
    "jp-MarkdownHeadingCollapsed": true
   },
   "source": [
    "#### \"Over your head\" across generalizations and contexts"
   ]
  },
  {
   "cell_type": "code",
   "execution_count": 221,
   "id": "33b56f4d-3ec0-4996-a3b0-b5969400f5d8",
   "metadata": {},
   "outputs": [],
   "source": [
    "idioms = [r'\\bover your head\\b',\n",
    "          r'\\bover \\w+ head\\b',\n",
    "          r'\\bover (\\w+ ){1,3}head\\b']"
   ]
  },
  {
   "cell_type": "code",
   "execution_count": 223,
   "id": "048818a9-755b-43ce-9583-6b9013f07dc9",
   "metadata": {},
   "outputs": [
    {
     "name": "stdout",
     "output_type": "stream",
     "text": [
      "News: \u001b[1m14\u001b[0m matches (14 lines) is (\u001b[1m0.407\u001b[0m per million words) for \u001b[1m\\bover your head\\b\u001b[0m\n",
      "News: \u001b[1m204\u001b[0m matches (201 lines) is (\u001b[1m5.928\u001b[0m per million words) for \u001b[1m\\bover \\w+ head\\b\u001b[0m\n",
      "News: \u001b[1m218\u001b[0m matches (215 lines) is (\u001b[1m6.335\u001b[0m per million words) for \u001b[1m\\bover (\\w+ ){1,3}head\\b\u001b[0m\n"
     ]
    }
   ],
   "source": [
    "for idiomPattern in idioms:\n",
    "    countIdiom(dfNews, idiomPattern, \"News: \")"
   ]
  },
  {
   "cell_type": "code",
   "execution_count": 224,
   "id": "b3f96218-6922-427e-9700-730fbe1a8e14",
   "metadata": {},
   "outputs": [
    {
     "name": "stdout",
     "output_type": "stream",
     "text": [
      "Blogs: \u001b[1m32\u001b[0m matches (32 lines) is (\u001b[1m0.855\u001b[0m per million words) for \u001b[1m\\bover your head\\b\u001b[0m\n",
      "Blogs: \u001b[1m335\u001b[0m matches (333 lines) is (\u001b[1m8.953\u001b[0m per million words) for \u001b[1m\\bover \\w+ head\\b\u001b[0m\n",
      "Blogs: \u001b[1m368\u001b[0m matches (365 lines) is (\u001b[1m9.835\u001b[0m per million words) for \u001b[1m\\bover (\\w+ ){1,3}head\\b\u001b[0m\n"
     ]
    }
   ],
   "source": [
    "for idiomPattern in idioms:\n",
    "    countIdiom(dfBlogs, idiomPattern, \"Blogs: \")"
   ]
  },
  {
   "cell_type": "code",
   "execution_count": 225,
   "id": "253c45a9-0794-4078-9386-03a28dd9df97",
   "metadata": {},
   "outputs": [
    {
     "name": "stdout",
     "output_type": "stream",
     "text": [
      "Twitter: \u001b[1m28\u001b[0m matches (28 lines) is (\u001b[1m0.920\u001b[0m per million words) for \u001b[1m\\bover your head\\b\u001b[0m\n",
      "Twitter: \u001b[1m141\u001b[0m matches (141 lines) is (\u001b[1m4.632\u001b[0m per million words) for \u001b[1m\\bover \\w+ head\\b\u001b[0m\n",
      "Twitter: \u001b[1m159\u001b[0m matches (159 lines) is (\u001b[1m5.223\u001b[0m per million words) for \u001b[1m\\bover (\\w+ ){1,3}head\\b\u001b[0m\n"
     ]
    }
   ],
   "source": [
    "for idiomPattern in idioms:\n",
    "    countIdiom(dfTwitter, idiomPattern, \"Twitter: \")"
   ]
  },
  {
   "cell_type": "markdown",
   "id": "1e176d40-2d6f-41d7-a00e-52c5f8f0479f",
   "metadata": {
    "jp-MarkdownHeadingCollapsed": true
   },
   "source": [
    "#### \"Crying over spilled milk\" across generalizations and contexts"
   ]
  },
  {
   "cell_type": "code",
   "execution_count": 255,
   "id": "0c7f39ef-0a46-4cc4-9c87-fa5cbb22c22b",
   "metadata": {},
   "outputs": [],
   "source": [
    "idioms = [r'\\bcr(y|i)(\\w*) over spilled milk\\b',\n",
    "          r'\\bcr(y|i)(\\w*) over spilled\\b']"
   ]
  },
  {
   "cell_type": "code",
   "execution_count": 256,
   "id": "7e8ebc3e-4eba-4c5a-bb06-da6b744eccbc",
   "metadata": {},
   "outputs": [
    {
     "name": "stdout",
     "output_type": "stream",
     "text": [
      "News: \u001b[1m1\u001b[0m matches (1 lines) is (\u001b[1m0.029\u001b[0m per million words) for \u001b[1m\\bcr(y|i)(\\w*) over spilled milk\\b\u001b[0m\n",
      "News: \u001b[1m1\u001b[0m matches (1 lines) is (\u001b[1m0.029\u001b[0m per million words) for \u001b[1m\\bcr(y|i)(\\w*) over spilled\\b\u001b[0m\n"
     ]
    }
   ],
   "source": [
    "for idiomPattern in idioms:\n",
    "    countIdiom(dfNews, idiomPattern, \"News: \")"
   ]
  },
  {
   "cell_type": "code",
   "execution_count": 257,
   "id": "0d54e477-62b2-4d59-8ea5-9b58d0ef00a2",
   "metadata": {},
   "outputs": [
    {
     "name": "stdout",
     "output_type": "stream",
     "text": [
      "Blogs: \u001b[1m3\u001b[0m matches (3 lines) is (\u001b[1m0.080\u001b[0m per million words) for \u001b[1m\\bcr(y|i)(\\w*) over spilled milk\\b\u001b[0m\n",
      "Blogs: \u001b[1m3\u001b[0m matches (3 lines) is (\u001b[1m0.080\u001b[0m per million words) for \u001b[1m\\bcr(y|i)(\\w*) over spilled\\b\u001b[0m\n"
     ]
    }
   ],
   "source": [
    "for idiomPattern in idioms:\n",
    "    countIdiom(dfBlogs, idiomPattern, \"Blogs: \")"
   ]
  },
  {
   "cell_type": "code",
   "execution_count": 258,
   "id": "784ffa64-6b45-4477-8e8a-ec655001aa55",
   "metadata": {},
   "outputs": [
    {
     "name": "stdout",
     "output_type": "stream",
     "text": [
      "Twitter: \u001b[1m5\u001b[0m matches (5 lines) is (\u001b[1m0.164\u001b[0m per million words) for \u001b[1m\\bcr(y|i)(\\w*) over spilled milk\\b\u001b[0m\n",
      "Twitter: \u001b[1m6\u001b[0m matches (6 lines) is (\u001b[1m0.197\u001b[0m per million words) for \u001b[1m\\bcr(y|i)(\\w*) over spilled\\b\u001b[0m\n"
     ]
    }
   ],
   "source": [
    "for idiomPattern in idioms:\n",
    "    countIdiom(dfTwitter, idiomPattern, \"Twitter: \")"
   ]
  },
  {
   "cell_type": "code",
   "execution_count": 259,
   "id": "e93c76f3-6fea-401d-b670-c01486bec7f1",
   "metadata": {},
   "outputs": [
    {
     "name": "stdout",
     "output_type": "stream",
     "text": [
      "Twitter: \u001b[1m5\u001b[0m matches (5 lines) is (\u001b[1m0.164\u001b[0m per million words) for \u001b[1m\\bcr(y|i)(\\w*) over spilled milk\\b\u001b[0m\n",
      "Twitter: \u001b[1m6\u001b[0m matches (6 lines) is (\u001b[1m0.197\u001b[0m per million words) for \u001b[1m\\bcr(y|i)(\\w*) over spilled\\b\u001b[0m\n"
     ]
    }
   ],
   "source": [
    "df_1 = countIdiom(dfTwitter, r'\\bcr(y|i)(\\w*) over spilled milk\\b', \"Twitter: \")\n",
    "df_2 = countIdiom(dfTwitter, r'\\bcr(y|i)(\\w*) over spilled\\b', \"Twitter: \")"
   ]
  },
  {
   "cell_type": "code",
   "execution_count": 260,
   "id": "92cf1f9e-29ba-47ff-a7fc-1f8bfd41565f",
   "metadata": {},
   "outputs": [
    {
     "data": {
      "text/html": [
       "<div>\n",
       "<style scoped>\n",
       "    .dataframe tbody tr th:only-of-type {\n",
       "        vertical-align: middle;\n",
       "    }\n",
       "\n",
       "    .dataframe tbody tr th {\n",
       "        vertical-align: top;\n",
       "    }\n",
       "\n",
       "    .dataframe thead th {\n",
       "        text-align: right;\n",
       "    }\n",
       "</style>\n",
       "<table border=\"1\" class=\"dataframe\">\n",
       "  <thead>\n",
       "    <tr style=\"text-align: right;\">\n",
       "      <th></th>\n",
       "      <th>website</th>\n",
       "      <th>subject</th>\n",
       "      <th>text</th>\n",
       "      <th>words</th>\n",
       "      <th>year</th>\n",
       "    </tr>\n",
       "  </thead>\n",
       "  <tbody>\n",
       "    <tr>\n",
       "      <th>435806</th>\n",
       "      <td>twitter.com</td>\n",
       "      <td>[0]</td>\n",
       "      <td>If the CATTLE on a 1000 hills are HIS.......wh...</td>\n",
       "      <td>23</td>\n",
       "      <td>2012</td>\n",
       "    </tr>\n",
       "    <tr>\n",
       "      <th>1162562</th>\n",
       "      <td>twitter.com</td>\n",
       "      <td>[0]</td>\n",
       "      <td>Just live your life! Stop crying over spilled ...</td>\n",
       "      <td>9</td>\n",
       "      <td>2012</td>\n",
       "    </tr>\n",
       "    <tr>\n",
       "      <th>1238745</th>\n",
       "      <td>twitter.com</td>\n",
       "      <td>[0]</td>\n",
       "      <td>“ Momma said don't cry over spilled milk ... K...</td>\n",
       "      <td>13</td>\n",
       "      <td>2012</td>\n",
       "    </tr>\n",
       "    <tr>\n",
       "      <th>1464422</th>\n",
       "      <td>twitter.com</td>\n",
       "      <td>[0]</td>\n",
       "      <td>I feel good !!!! Can't cry over spilled milk r...</td>\n",
       "      <td>10</td>\n",
       "      <td>2012</td>\n",
       "    </tr>\n",
       "    <tr>\n",
       "      <th>1834122</th>\n",
       "      <td>twitter.com</td>\n",
       "      <td>[0]</td>\n",
       "      <td>Never cry over spilled milk just pour another ...</td>\n",
       "      <td>9</td>\n",
       "      <td>2012</td>\n",
       "    </tr>\n",
       "  </tbody>\n",
       "</table>\n",
       "</div>"
      ],
      "text/plain": [
       "             website subject  \\\n",
       "435806   twitter.com     [0]   \n",
       "1162562  twitter.com     [0]   \n",
       "1238745  twitter.com     [0]   \n",
       "1464422  twitter.com     [0]   \n",
       "1834122  twitter.com     [0]   \n",
       "\n",
       "                                                      text  words  year  \n",
       "435806   If the CATTLE on a 1000 hills are HIS.......wh...     23  2012  \n",
       "1162562  Just live your life! Stop crying over spilled ...      9  2012  \n",
       "1238745  “ Momma said don't cry over spilled milk ... K...     13  2012  \n",
       "1464422  I feel good !!!! Can't cry over spilled milk r...     10  2012  \n",
       "1834122  Never cry over spilled milk just pour another ...      9  2012  "
      ]
     },
     "execution_count": 260,
     "metadata": {},
     "output_type": "execute_result"
    }
   ],
   "source": [
    "df_1"
   ]
  },
  {
   "cell_type": "code",
   "execution_count": 261,
   "id": "bd2fc192-a256-4d65-a963-bfe789c548b4",
   "metadata": {},
   "outputs": [
    {
     "data": {
      "text/html": [
       "<div>\n",
       "<style scoped>\n",
       "    .dataframe tbody tr th:only-of-type {\n",
       "        vertical-align: middle;\n",
       "    }\n",
       "\n",
       "    .dataframe tbody tr th {\n",
       "        vertical-align: top;\n",
       "    }\n",
       "\n",
       "    .dataframe thead th {\n",
       "        text-align: right;\n",
       "    }\n",
       "</style>\n",
       "<table border=\"1\" class=\"dataframe\">\n",
       "  <thead>\n",
       "    <tr style=\"text-align: right;\">\n",
       "      <th></th>\n",
       "      <th>website</th>\n",
       "      <th>subject</th>\n",
       "      <th>text</th>\n",
       "      <th>words</th>\n",
       "      <th>year</th>\n",
       "    </tr>\n",
       "  </thead>\n",
       "  <tbody>\n",
       "    <tr>\n",
       "      <th>203807</th>\n",
       "      <td>twitter.com</td>\n",
       "      <td>[0]</td>\n",
       "      <td>Never cried over spilled beer. Why? Cuz I'm st...</td>\n",
       "      <td>10</td>\n",
       "      <td>2012</td>\n",
       "    </tr>\n",
       "    <tr>\n",
       "      <th>435806</th>\n",
       "      <td>twitter.com</td>\n",
       "      <td>[0]</td>\n",
       "      <td>If the CATTLE on a 1000 hills are HIS.......wh...</td>\n",
       "      <td>23</td>\n",
       "      <td>2012</td>\n",
       "    </tr>\n",
       "    <tr>\n",
       "      <th>1162562</th>\n",
       "      <td>twitter.com</td>\n",
       "      <td>[0]</td>\n",
       "      <td>Just live your life! Stop crying over spilled ...</td>\n",
       "      <td>9</td>\n",
       "      <td>2012</td>\n",
       "    </tr>\n",
       "    <tr>\n",
       "      <th>1238745</th>\n",
       "      <td>twitter.com</td>\n",
       "      <td>[0]</td>\n",
       "      <td>“ Momma said don't cry over spilled milk ... K...</td>\n",
       "      <td>13</td>\n",
       "      <td>2012</td>\n",
       "    </tr>\n",
       "    <tr>\n",
       "      <th>1464422</th>\n",
       "      <td>twitter.com</td>\n",
       "      <td>[0]</td>\n",
       "      <td>I feel good !!!! Can't cry over spilled milk r...</td>\n",
       "      <td>10</td>\n",
       "      <td>2012</td>\n",
       "    </tr>\n",
       "    <tr>\n",
       "      <th>1834122</th>\n",
       "      <td>twitter.com</td>\n",
       "      <td>[0]</td>\n",
       "      <td>Never cry over spilled milk just pour another ...</td>\n",
       "      <td>9</td>\n",
       "      <td>2012</td>\n",
       "    </tr>\n",
       "  </tbody>\n",
       "</table>\n",
       "</div>"
      ],
      "text/plain": [
       "             website subject  \\\n",
       "203807   twitter.com     [0]   \n",
       "435806   twitter.com     [0]   \n",
       "1162562  twitter.com     [0]   \n",
       "1238745  twitter.com     [0]   \n",
       "1464422  twitter.com     [0]   \n",
       "1834122  twitter.com     [0]   \n",
       "\n",
       "                                                      text  words  year  \n",
       "203807   Never cried over spilled beer. Why? Cuz I'm st...     10  2012  \n",
       "435806   If the CATTLE on a 1000 hills are HIS.......wh...     23  2012  \n",
       "1162562  Just live your life! Stop crying over spilled ...      9  2012  \n",
       "1238745  “ Momma said don't cry over spilled milk ... K...     13  2012  \n",
       "1464422  I feel good !!!! Can't cry over spilled milk r...     10  2012  \n",
       "1834122  Never cry over spilled milk just pour another ...      9  2012  "
      ]
     },
     "execution_count": 261,
     "metadata": {},
     "output_type": "execute_result"
    }
   ],
   "source": [
    "df_2"
   ]
  },
  {
   "cell_type": "code",
   "execution_count": 264,
   "id": "421b7549-6d7e-436b-9b44-18d4e4bd3b4f",
   "metadata": {},
   "outputs": [
    {
     "data": {
      "text/plain": [
       "\"Never cried over spilled beer. Why? Cuz I'm still here.\""
      ]
     },
     "execution_count": 264,
     "metadata": {},
     "output_type": "execute_result"
    }
   ],
   "source": [
    "df_2.iat[0,2]"
   ]
  },
  {
   "cell_type": "markdown",
   "id": "b936ae86-4095-4f0b-aef7-42ca6cfad469",
   "metadata": {
    "jp-MarkdownHeadingCollapsed": true
   },
   "source": [
    "#### Non idiomatic \"pigs fly\""
   ]
  },
  {
   "cell_type": "code",
   "execution_count": 287,
   "id": "1c41b0ec-8db0-4371-96d0-261fc8a1ed19",
   "metadata": {},
   "outputs": [
    {
     "name": "stdout",
     "output_type": "stream",
     "text": [
      "News:    \u001b[1m5\u001b[0m matches (3 lines) is (\u001b[1m0.145\u001b[0m per million words) for \u001b[1m\\bpigs? fl(y|i)\\w*\\b\u001b[0m\n",
      "Blogs:   \u001b[1m22\u001b[0m matches (20 lines) is (\u001b[1m0.588\u001b[0m per million words) for \u001b[1m\\bpigs? fl(y|i)\\w*\\b\u001b[0m\n",
      "Twitter: \u001b[1m14\u001b[0m matches (14 lines) is (\u001b[1m0.460\u001b[0m per million words) for \u001b[1m\\bpigs? fl(y|i)\\w*\\b\u001b[0m\n"
     ]
    }
   ],
   "source": [
    "idiom = r'\\bpigs? fl(y|i)\\w*\\b'\n",
    "corpora = [dfNews, dfBlogs, dfTwitter]\n",
    "hcStrs = [\"News:    \", \"Blogs:   \", \"Twitter: \"]\n",
    "dfs = [countIdiom(df, idiom, hcStr=hcStr) for df,hcStr in zip(corpora,hcStrs)]"
   ]
  },
  {
   "cell_type": "markdown",
   "id": "afc0571e-4142-4fba-95c6-5019837b851a",
   "metadata": {},
   "source": [
    "Non-idiomatic usages of \"pigs fly\""
   ]
  },
  {
   "cell_type": "code",
   "execution_count": 289,
   "id": "c3fd400e-3ba3-4c66-9307-f404fbfc3391",
   "metadata": {},
   "outputs": [
    {
     "data": {
      "text/plain": [
       "'øThis free website explores environmental issues as seen through the eyes of teen cousins Izz and Dex. The clever cartoon characters star in 15 animated episodes where they explore issues that most tweens and teens can relate to. For example, in one called \"Pigs Fly,\" Izz and Dex look at how their breakfast food got to them. Noting that the bacon had been flown in (and thus that \"Pigs Fly\"), the teens examine how this process uses a lot of gasoline. Kids discover that eating local can also cut down on the need for preservatives and will support local businesses. The brainchild of WGBH Interactive, this site also has games, a blog, downloads and special features like a Carbon Calculator and advice about cancelling unwanted catalogs.'"
      ]
     },
     "execution_count": 289,
     "metadata": {},
     "output_type": "execute_result"
    }
   ],
   "source": [
    "dfs[0].iat[2,2] # News"
   ]
  },
  {
   "cell_type": "code",
   "execution_count": 290,
   "id": "18495e12-d9d9-443d-b7af-5656472fc62e",
   "metadata": {},
   "outputs": [
    {
     "data": {
      "text/html": [
       "<div>\n",
       "<style scoped>\n",
       "    .dataframe tbody tr th:only-of-type {\n",
       "        vertical-align: middle;\n",
       "    }\n",
       "\n",
       "    .dataframe tbody tr th {\n",
       "        vertical-align: top;\n",
       "    }\n",
       "\n",
       "    .dataframe thead th {\n",
       "        text-align: right;\n",
       "    }\n",
       "</style>\n",
       "<table border=\"1\" class=\"dataframe\">\n",
       "  <thead>\n",
       "    <tr style=\"text-align: right;\">\n",
       "      <th></th>\n",
       "      <th>website</th>\n",
       "      <th>subject</th>\n",
       "      <th>text</th>\n",
       "      <th>words</th>\n",
       "      <th>year</th>\n",
       "    </tr>\n",
       "  </thead>\n",
       "  <tbody>\n",
       "    <tr>\n",
       "      <th>18590</th>\n",
       "      <td>blogspot.com</td>\n",
       "      <td>[0]</td>\n",
       "      <td>Inside the dough crust was a spatchcock stuffe...</td>\n",
       "      <td>53</td>\n",
       "      <td>2011</td>\n",
       "    </tr>\n",
       "    <tr>\n",
       "      <th>61877</th>\n",
       "      <td>blogspot.com</td>\n",
       "      <td>[0]</td>\n",
       "      <td>Beetroot pate de fruit were made on a whimsy b...</td>\n",
       "      <td>65</td>\n",
       "      <td>2011</td>\n",
       "    </tr>\n",
       "    <tr>\n",
       "      <th>65018</th>\n",
       "      <td>blogspot.com</td>\n",
       "      <td>[0]</td>\n",
       "      <td>If you ever have a bone to pick with someone, ...</td>\n",
       "      <td>46</td>\n",
       "      <td>2011</td>\n",
       "    </tr>\n",
       "    <tr>\n",
       "      <th>101911</th>\n",
       "      <td>blogspot.com</td>\n",
       "      <td>[0]</td>\n",
       "      <td>Our vegetables were a tribute to winter, with ...</td>\n",
       "      <td>39</td>\n",
       "      <td>2011</td>\n",
       "    </tr>\n",
       "    <tr>\n",
       "      <th>221081</th>\n",
       "      <td>blogspot.com</td>\n",
       "      <td>[0]</td>\n",
       "      <td>Our amuse bouche comes in squat glasses (they'...</td>\n",
       "      <td>81</td>\n",
       "      <td>2011</td>\n",
       "    </tr>\n",
       "    <tr>\n",
       "      <th>305129</th>\n",
       "      <td>blogspot.com</td>\n",
       "      <td>[0]</td>\n",
       "      <td>There are seven birds in the consomme, Mrs Pig...</td>\n",
       "      <td>16</td>\n",
       "      <td>2011</td>\n",
       "    </tr>\n",
       "    <tr>\n",
       "      <th>309101</th>\n",
       "      <td>blogspot.com</td>\n",
       "      <td>[0]</td>\n",
       "      <td>Pig Flyin' has smoked the squab breast with ap...</td>\n",
       "      <td>37</td>\n",
       "      <td>2011</td>\n",
       "    </tr>\n",
       "    <tr>\n",
       "      <th>316096</th>\n",
       "      <td>wordpress.com</td>\n",
       "      <td>[0]</td>\n",
       "      <td>A few weeks ago, I started a series on voice. ...</td>\n",
       "      <td>92</td>\n",
       "      <td>2012</td>\n",
       "    </tr>\n",
       "    <tr>\n",
       "      <th>347981</th>\n",
       "      <td>blogspot.com</td>\n",
       "      <td>[0]</td>\n",
       "      <td>The banana caramel, Pig Flyin' explains, is ma...</td>\n",
       "      <td>50</td>\n",
       "      <td>2011</td>\n",
       "    </tr>\n",
       "    <tr>\n",
       "      <th>401211</th>\n",
       "      <td>blogspot.com</td>\n",
       "      <td>[0]</td>\n",
       "      <td>The members of our merry dining crew have all ...</td>\n",
       "      <td>75</td>\n",
       "      <td>2011</td>\n",
       "    </tr>\n",
       "    <tr>\n",
       "      <th>404299</th>\n",
       "      <td>wordpress.com</td>\n",
       "      <td>[0]</td>\n",
       "      <td>Revenant tactics: The bolts have less splash b...</td>\n",
       "      <td>103</td>\n",
       "      <td>2012</td>\n",
       "    </tr>\n",
       "    <tr>\n",
       "      <th>405150</th>\n",
       "      <td>blogspot.com</td>\n",
       "      <td>[0]</td>\n",
       "      <td>The petit fours include chilli pate de fruits....</td>\n",
       "      <td>35</td>\n",
       "      <td>2011</td>\n",
       "    </tr>\n",
       "    <tr>\n",
       "      <th>424467</th>\n",
       "      <td>blogspot.com</td>\n",
       "      <td>[0]</td>\n",
       "      <td>What's most impressive about a dinner with the...</td>\n",
       "      <td>75</td>\n",
       "      <td>2011</td>\n",
       "    </tr>\n",
       "    <tr>\n",
       "      <th>425147</th>\n",
       "      <td>blogspot.com</td>\n",
       "      <td>[0]</td>\n",
       "      <td>I think I just saw a pig fly.....and was that ...</td>\n",
       "      <td>20</td>\n",
       "      <td>2005</td>\n",
       "    </tr>\n",
       "    <tr>\n",
       "      <th>425620</th>\n",
       "      <td>blogspot.com</td>\n",
       "      <td>[0]</td>\n",
       "      <td>We're not told what flavour they are. \"See if ...</td>\n",
       "      <td>31</td>\n",
       "      <td>2011</td>\n",
       "    </tr>\n",
       "    <tr>\n",
       "      <th>757326</th>\n",
       "      <td>blogspot.com</td>\n",
       "      <td>[0]</td>\n",
       "      <td>The orange macarons, we realise, are sandwiche...</td>\n",
       "      <td>44</td>\n",
       "      <td>2011</td>\n",
       "    </tr>\n",
       "    <tr>\n",
       "      <th>760802</th>\n",
       "      <td>blogspot.com</td>\n",
       "      <td>[0]</td>\n",
       "      <td>I've always loved bone marrow - is that not th...</td>\n",
       "      <td>56</td>\n",
       "      <td>2011</td>\n",
       "    </tr>\n",
       "    <tr>\n",
       "      <th>843185</th>\n",
       "      <td>blogspot.com</td>\n",
       "      <td>[0]</td>\n",
       "      <td>The shells are still sweet, but the savoury fi...</td>\n",
       "      <td>87</td>\n",
       "      <td>2011</td>\n",
       "    </tr>\n",
       "    <tr>\n",
       "      <th>848276</th>\n",
       "      <td>blogspot.com</td>\n",
       "      <td>[0]</td>\n",
       "      <td>To roast bone marrows, Pig Flyin' suggests you...</td>\n",
       "      <td>53</td>\n",
       "      <td>2011</td>\n",
       "    </tr>\n",
       "    <tr>\n",
       "      <th>848405</th>\n",
       "      <td>blogspot.com</td>\n",
       "      <td>[0]</td>\n",
       "      <td>This wasn't the place for yoga mamas who pack ...</td>\n",
       "      <td>92</td>\n",
       "      <td>2011</td>\n",
       "    </tr>\n",
       "  </tbody>\n",
       "</table>\n",
       "</div>"
      ],
      "text/plain": [
       "              website subject  \\\n",
       "18590    blogspot.com     [0]   \n",
       "61877    blogspot.com     [0]   \n",
       "65018    blogspot.com     [0]   \n",
       "101911   blogspot.com     [0]   \n",
       "221081   blogspot.com     [0]   \n",
       "305129   blogspot.com     [0]   \n",
       "309101   blogspot.com     [0]   \n",
       "316096  wordpress.com     [0]   \n",
       "347981   blogspot.com     [0]   \n",
       "401211   blogspot.com     [0]   \n",
       "404299  wordpress.com     [0]   \n",
       "405150   blogspot.com     [0]   \n",
       "424467   blogspot.com     [0]   \n",
       "425147   blogspot.com     [0]   \n",
       "425620   blogspot.com     [0]   \n",
       "757326   blogspot.com     [0]   \n",
       "760802   blogspot.com     [0]   \n",
       "843185   blogspot.com     [0]   \n",
       "848276   blogspot.com     [0]   \n",
       "848405   blogspot.com     [0]   \n",
       "\n",
       "                                                     text  words  year  \n",
       "18590   Inside the dough crust was a spatchcock stuffe...     53  2011  \n",
       "61877   Beetroot pate de fruit were made on a whimsy b...     65  2011  \n",
       "65018   If you ever have a bone to pick with someone, ...     46  2011  \n",
       "101911  Our vegetables were a tribute to winter, with ...     39  2011  \n",
       "221081  Our amuse bouche comes in squat glasses (they'...     81  2011  \n",
       "305129  There are seven birds in the consomme, Mrs Pig...     16  2011  \n",
       "309101  Pig Flyin' has smoked the squab breast with ap...     37  2011  \n",
       "316096  A few weeks ago, I started a series on voice. ...     92  2012  \n",
       "347981  The banana caramel, Pig Flyin' explains, is ma...     50  2011  \n",
       "401211  The members of our merry dining crew have all ...     75  2011  \n",
       "404299  Revenant tactics: The bolts have less splash b...    103  2012  \n",
       "405150  The petit fours include chilli pate de fruits....     35  2011  \n",
       "424467  What's most impressive about a dinner with the...     75  2011  \n",
       "425147  I think I just saw a pig fly.....and was that ...     20  2005  \n",
       "425620  We're not told what flavour they are. \"See if ...     31  2011  \n",
       "757326  The orange macarons, we realise, are sandwiche...     44  2011  \n",
       "760802  I've always loved bone marrow - is that not th...     56  2011  \n",
       "843185  The shells are still sweet, but the savoury fi...     87  2011  \n",
       "848276  To roast bone marrows, Pig Flyin' suggests you...     53  2011  \n",
       "848405  This wasn't the place for yoga mamas who pack ...     92  2011  "
      ]
     },
     "execution_count": 290,
     "metadata": {},
     "output_type": "execute_result"
    }
   ],
   "source": [
    "dfs[1]"
   ]
  },
  {
   "cell_type": "markdown",
   "id": "e64c6117-6e7a-44cc-b7ef-2d7c37779700",
   "metadata": {},
   "source": [
    "### Across Newspapers, Blogs, and Twitter"
   ]
  },
  {
   "cell_type": "markdown",
   "id": "dacd7a2c-6edc-4eea-9601-6f73db3cd011",
   "metadata": {},
   "source": [
    "#### Each idiom"
   ]
  },
  {
   "cell_type": "code",
   "execution_count": null,
   "id": "3994d880-c9c5-4eac-8656-c687dd73525e",
   "metadata": {},
   "outputs": [],
   "source": [
    "idiom_list = [r'\\bchip on (\\w+\\s?){1,3}shoulders?\\b',\n",
    "             r'\\blame ducks?\\b',\n",
    "             r'\\baxe to grind\\b',\n",
    "             r'\\bfollows? suit\\b',\n",
    "             r'\\bplay \\w+ card\\b',\n",
    "             r'\\bover (\\w+ ){1,3}heads?\\b',\n",
    "             r'\\blow hanging fruits?\\b',\n",
    "             r'\\bdodg(\\w+) (\\w+ ){0,3}bullets?\\b',\n",
    "             r'\\blead foot\\b',\n",
    "             r'\\btrigger happy\\b',\n",
    "             r'\\bin the cards\\b',\n",
    "             r'\\bsilver linings?\\b',\n",
    "             r'\\bon paper\\b',\n",
    "             r'\\bskin of (\\w+ ){1,3}teeth\\b',\n",
    "             r'\\bsplit(\\w*) hairs?\\b',\n",
    "             r'\\bcats? out of the bags?\\b',\n",
    "             r'\\ball bark no bite\\b',\n",
    "             r'\\bcards on the tables?\\b',\n",
    "             r'\\bburn (\\w+ ){1,3}bridges?\\b',\n",
    "             r'\\b(6|six) \\w+ one,? (\\w+ ){0,3}half(-| )dozen\\b',\n",
    "             r'\\bmade of money\\b',\n",
    "             r'\\brains? on (\\w+ ){1,3}parades?\\b',\n",
    "             r'\\bfish(\\w+) or cuts? bait\\b',\n",
    "             r'\\bcr(y|i)(\\w*) over spilled milk\\b',\n",
    "             r'\\bchopped liver\\b',\n",
    "             r'\\bdrops? of (\\w+ ){1,3}hats?\\b',\n",
    "             r'\\bpigs? fl(y|i)\\w*\\b',\n",
    "             "
   ]
  },
  {
   "cell_type": "code",
   "execution_count": 199,
   "id": "49801ef7-4bf3-42c2-9ccb-b8fec560dc1f",
   "metadata": {},
   "outputs": [
    {
     "name": "stdout",
     "output_type": "stream",
     "text": [
      "News:    \u001b[1m50\u001b[0m matches (50 lines) is (\u001b[1m1.453\u001b[0m per million words) for \u001b[1m\\bchip on (\\w+\\s?){1,3}shoulders?\\b\u001b[0m\n",
      "Blogs:   \u001b[1m15\u001b[0m matches (15 lines) is (\u001b[1m0.401\u001b[0m per million words) for \u001b[1m\\bchip on (\\w+\\s?){1,3}shoulders?\\b\u001b[0m\n",
      "Twitter: \u001b[1m13\u001b[0m matches (13 lines) is (\u001b[1m0.427\u001b[0m per million words) for \u001b[1m\\bchip on (\\w+\\s?){1,3}shoulders?\\b\u001b[0m\n"
     ]
    }
   ],
   "source": [
    "idiom = r'\\bchip on (\\w+\\s?){1,3}shoulders?\\b'\n",
    "corpora = [dfNews, dfBlogs, dfTwitter]\n",
    "hcStrs = [\"News:    \", \"Blogs:   \", \"Twitter: \"]\n",
    "dfs = [countIdiom(df, idiom, hcStr=hcStr) for df,hcStr in zip(corpora,hcStrs)]"
   ]
  },
  {
   "cell_type": "code",
   "execution_count": 200,
   "id": "47eca1d1-d22c-4250-9abf-567cb722a6df",
   "metadata": {},
   "outputs": [
    {
     "name": "stdout",
     "output_type": "stream",
     "text": [
      "News:    \u001b[1m20\u001b[0m matches (19 lines) is (\u001b[1m0.581\u001b[0m per million words) for \u001b[1m\\blame ducks?\\b\u001b[0m\n",
      "Blogs:   \u001b[1m11\u001b[0m matches (11 lines) is (\u001b[1m0.294\u001b[0m per million words) for \u001b[1m\\blame ducks?\\b\u001b[0m\n",
      "Twitter: \u001b[1m10\u001b[0m matches (10 lines) is (\u001b[1m0.328\u001b[0m per million words) for \u001b[1m\\blame ducks?\\b\u001b[0m\n"
     ]
    }
   ],
   "source": [
    "idiom = r'\\blame ducks?\\b'\n",
    "corpora = [dfNews, dfBlogs, dfTwitter]\n",
    "hcStrs = [\"News:    \", \"Blogs:   \", \"Twitter: \"]\n",
    "dfs = [countIdiom(df, idiom, hcStr=hcStr) for df,hcStr in zip(corpora,hcStrs)]"
   ]
  },
  {
   "cell_type": "code",
   "execution_count": 213,
   "id": "278d08f0-1b87-4115-844d-9a712d19394a",
   "metadata": {},
   "outputs": [
    {
     "data": {
      "text/plain": [
       "'Lame duck’s becoming so anticlimactic, said Senate Majority Leader Stephen Sweeney (D-Gloucester), who will become Senate president when the new session begins Jan. 12. \"There are very important pieces of legislation that are going to move through, but the energy level in past lame ducks seems different.\" Many bills faded because they would have required new spending without the state revenue to support them, Sweeney said.'"
      ]
     },
     "execution_count": 213,
     "metadata": {},
     "output_type": "execute_result"
    }
   ],
   "source": [
    "many = dfs[0][dfs[0]['text'].str.count(idiom, flags=re.IGNORECASE)>1]\n",
    "many.iat[0,2]"
   ]
  },
  {
   "cell_type": "code",
   "execution_count": 214,
   "id": "ee1ff022-83b6-4a0d-8cba-38ae313b5e17",
   "metadata": {},
   "outputs": [
    {
     "name": "stdout",
     "output_type": "stream",
     "text": [
      "News:    \u001b[1m1\u001b[0m matches (1 lines) is (\u001b[1m0.029\u001b[0m per million words) for \u001b[1m\\baxe to grind\\b\u001b[0m\n",
      "Blogs:   \u001b[1m22\u001b[0m matches (22 lines) is (\u001b[1m0.588\u001b[0m per million words) for \u001b[1m\\baxe to grind\\b\u001b[0m\n",
      "Twitter: \u001b[1m3\u001b[0m matches (3 lines) is (\u001b[1m0.099\u001b[0m per million words) for \u001b[1m\\baxe to grind\\b\u001b[0m\n"
     ]
    }
   ],
   "source": [
    "idiom = r'\\baxe to grind\\b'\n",
    "corpora = [dfNews, dfBlogs, dfTwitter]\n",
    "hcStrs = [\"News:    \", \"Blogs:   \", \"Twitter: \"]\n",
    "dfs = [countIdiom(df, idiom, hcStr=hcStr) for df,hcStr in zip(corpora,hcStrs)]"
   ]
  },
  {
   "cell_type": "code",
   "execution_count": 217,
   "id": "d23d034f-6fda-4760-82da-8ec1b41586ca",
   "metadata": {},
   "outputs": [
    {
     "name": "stdout",
     "output_type": "stream",
     "text": [
      "News:    \u001b[1m73\u001b[0m matches (73 lines) is (\u001b[1m2.121\u001b[0m per million words) for \u001b[1m\\bfollows? suit\\b\u001b[0m\n",
      "Blogs:   \u001b[1m49\u001b[0m matches (49 lines) is (\u001b[1m1.310\u001b[0m per million words) for \u001b[1m\\bfollows? suit\\b\u001b[0m\n",
      "Twitter: \u001b[1m27\u001b[0m matches (27 lines) is (\u001b[1m0.887\u001b[0m per million words) for \u001b[1m\\bfollows? suit\\b\u001b[0m\n"
     ]
    }
   ],
   "source": [
    "idiom = r'\\bfollows? suit\\b'\n",
    "corpora = [dfNews, dfBlogs, dfTwitter]\n",
    "hcStrs = [\"News:    \", \"Blogs:   \", \"Twitter: \"]\n",
    "dfs = [countIdiom(df, idiom, hcStr=hcStr) for df,hcStr in zip(corpora,hcStrs)]"
   ]
  },
  {
   "cell_type": "code",
   "execution_count": 218,
   "id": "ee8f96a7-2252-4688-8fd0-2b06a1511f32",
   "metadata": {},
   "outputs": [
    {
     "name": "stdout",
     "output_type": "stream",
     "text": [
      "News:    \u001b[1m3\u001b[0m matches (3 lines) is (\u001b[1m0.087\u001b[0m per million words) for \u001b[1m\\bplay \\w+ card\\b\u001b[0m\n",
      "Blogs:   \u001b[1m5\u001b[0m matches (5 lines) is (\u001b[1m0.134\u001b[0m per million words) for \u001b[1m\\bplay \\w+ card\\b\u001b[0m\n",
      "Twitter: \u001b[1m3\u001b[0m matches (2 lines) is (\u001b[1m0.099\u001b[0m per million words) for \u001b[1m\\bplay \\w+ card\\b\u001b[0m\n"
     ]
    }
   ],
   "source": [
    "idiom = r'\\bplay \\w+ card\\b'\n",
    "corpora = [dfNews, dfBlogs, dfTwitter]\n",
    "hcStrs = [\"News:    \", \"Blogs:   \", \"Twitter: \"]\n",
    "dfs = [countIdiom(df, idiom, hcStr=hcStr) for df,hcStr in zip(corpora,hcStrs)]"
   ]
  },
  {
   "cell_type": "code",
   "execution_count": 252,
   "id": "feb9a76a-2418-4a5f-927e-4ae4e155f51d",
   "metadata": {},
   "outputs": [
    {
     "name": "stdout",
     "output_type": "stream",
     "text": [
      "News:    \u001b[1m274\u001b[0m matches (271 lines) is (\u001b[1m7.962\u001b[0m per million words) for \u001b[1m\\bover (\\w+ ){1,3}heads?\\b\u001b[0m\n",
      "Blogs:   \u001b[1m441\u001b[0m matches (437 lines) is (\u001b[1m11.786\u001b[0m per million words) for \u001b[1m\\bover (\\w+ ){1,3}heads?\\b\u001b[0m\n",
      "Twitter: \u001b[1m184\u001b[0m matches (184 lines) is (\u001b[1m6.044\u001b[0m per million words) for \u001b[1m\\bover (\\w+ ){1,3}heads?\\b\u001b[0m\n"
     ]
    }
   ],
   "source": [
    "idiom = r'\\bover (\\w+ ){1,3}heads?\\b'\n",
    "corpora = [dfNews, dfBlogs, dfTwitter]\n",
    "hcStrs = [\"News:    \", \"Blogs:   \", \"Twitter: \"]\n",
    "dfs = [countIdiom(df, idiom, hcStr=hcStr) for df,hcStr in zip(corpora,hcStrs)]"
   ]
  },
  {
   "cell_type": "code",
   "execution_count": 226,
   "id": "2dfbcf46-f829-48fa-a6a2-cd826be564fc",
   "metadata": {},
   "outputs": [
    {
     "name": "stdout",
     "output_type": "stream",
     "text": [
      "News:    \u001b[1m1\u001b[0m matches (1 lines) is (\u001b[1m0.029\u001b[0m per million words) for \u001b[1m\\blow hanging fruits?\\b\u001b[0m\n",
      "Blogs:   \u001b[1m1\u001b[0m matches (1 lines) is (\u001b[1m0.027\u001b[0m per million words) for \u001b[1m\\blow hanging fruits?\\b\u001b[0m\n",
      "Twitter: \u001b[1m12\u001b[0m matches (12 lines) is (\u001b[1m0.394\u001b[0m per million words) for \u001b[1m\\blow hanging fruits?\\b\u001b[0m\n"
     ]
    }
   ],
   "source": [
    "idiom = r'\\blow hanging fruits?\\b'\n",
    "corpora = [dfNews, dfBlogs, dfTwitter]\n",
    "hcStrs = [\"News:    \", \"Blogs:   \", \"Twitter: \"]\n",
    "dfs = [countIdiom(df, idiom, hcStr=hcStr) for df,hcStr in zip(corpora,hcStrs)]"
   ]
  },
  {
   "cell_type": "code",
   "execution_count": 227,
   "id": "d240f093-178d-468e-912c-ea87e7dbffe1",
   "metadata": {},
   "outputs": [
    {
     "name": "stdout",
     "output_type": "stream",
     "text": [
      "News:    \u001b[1m25\u001b[0m matches (25 lines) is (\u001b[1m0.726\u001b[0m per million words) for \u001b[1m\\bdodg(\\w+) (\\w+ ){0,3}bullets?\\b\u001b[0m\n",
      "Blogs:   \u001b[1m18\u001b[0m matches (18 lines) is (\u001b[1m0.481\u001b[0m per million words) for \u001b[1m\\bdodg(\\w+) (\\w+ ){0,3}bullets?\\b\u001b[0m\n",
      "Twitter: \u001b[1m34\u001b[0m matches (34 lines) is (\u001b[1m1.117\u001b[0m per million words) for \u001b[1m\\bdodg(\\w+) (\\w+ ){0,3}bullets?\\b\u001b[0m\n"
     ]
    }
   ],
   "source": [
    "idiom = r'\\bdodg(\\w+) (\\w+ ){0,3}bullets?\\b'\n",
    "corpora = [dfNews, dfBlogs, dfTwitter]\n",
    "hcStrs = [\"News:    \", \"Blogs:   \", \"Twitter: \"]\n",
    "dfs = [countIdiom(df, idiom, hcStr=hcStr) for df,hcStr in zip(corpora,hcStrs)]"
   ]
  },
  {
   "cell_type": "code",
   "execution_count": 229,
   "id": "3d96dbac-3af8-4146-b12d-0c111c1d3dd4",
   "metadata": {},
   "outputs": [
    {
     "name": "stdout",
     "output_type": "stream",
     "text": [
      "News:    \u001b[1m1\u001b[0m matches (1 lines) is (\u001b[1m0.029\u001b[0m per million words) for \u001b[1m\\blead foot\\b\u001b[0m\n",
      "Blogs:   \u001b[1m2\u001b[0m matches (2 lines) is (\u001b[1m0.053\u001b[0m per million words) for \u001b[1m\\blead foot\\b\u001b[0m\n",
      "Twitter: \u001b[1m2\u001b[0m matches (2 lines) is (\u001b[1m0.066\u001b[0m per million words) for \u001b[1m\\blead foot\\b\u001b[0m\n"
     ]
    }
   ],
   "source": [
    "idiom = r'\\blead foot\\b'\n",
    "corpora = [dfNews, dfBlogs, dfTwitter]\n",
    "hcStrs = [\"News:    \", \"Blogs:   \", \"Twitter: \"]\n",
    "dfs = [countIdiom(df, idiom, hcStr=hcStr) for df,hcStr in zip(corpora,hcStrs)]"
   ]
  },
  {
   "cell_type": "code",
   "execution_count": 230,
   "id": "21a4307d-5475-4fa6-aa36-713b03147a59",
   "metadata": {},
   "outputs": [
    {
     "name": "stdout",
     "output_type": "stream",
     "text": [
      "News:    \u001b[1m0\u001b[0m matches (0 lines) is (\u001b[1m0.000\u001b[0m per million words) for \u001b[1m\\btrigger happy\\b\u001b[0m\n",
      "Blogs:   \u001b[1m5\u001b[0m matches (5 lines) is (\u001b[1m0.134\u001b[0m per million words) for \u001b[1m\\btrigger happy\\b\u001b[0m\n",
      "Twitter: \u001b[1m7\u001b[0m matches (7 lines) is (\u001b[1m0.230\u001b[0m per million words) for \u001b[1m\\btrigger happy\\b\u001b[0m\n"
     ]
    }
   ],
   "source": [
    "idiom = r'\\btrigger happy\\b'\n",
    "corpora = [dfNews, dfBlogs, dfTwitter]\n",
    "hcStrs = [\"News:    \", \"Blogs:   \", \"Twitter: \"]\n",
    "dfs = [countIdiom(df, idiom, hcStr=hcStr) for df,hcStr in zip(corpora,hcStrs)]"
   ]
  },
  {
   "cell_type": "code",
   "execution_count": 231,
   "id": "cdda80d8-226b-4610-aa51-2971470d9dd6",
   "metadata": {},
   "outputs": [
    {
     "name": "stdout",
     "output_type": "stream",
     "text": [
      "News:    \u001b[1m35\u001b[0m matches (35 lines) is (\u001b[1m1.017\u001b[0m per million words) for \u001b[1m\\bin the cards\\b\u001b[0m\n",
      "Blogs:   \u001b[1m25\u001b[0m matches (25 lines) is (\u001b[1m0.668\u001b[0m per million words) for \u001b[1m\\bin the cards\\b\u001b[0m\n",
      "Twitter: \u001b[1m20\u001b[0m matches (20 lines) is (\u001b[1m0.657\u001b[0m per million words) for \u001b[1m\\bin the cards\\b\u001b[0m\n"
     ]
    }
   ],
   "source": [
    "idiom = r'\\bin the cards\\b'\n",
    "corpora = [dfNews, dfBlogs, dfTwitter]\n",
    "hcStrs = [\"News:    \", \"Blogs:   \", \"Twitter: \"]\n",
    "dfs = [countIdiom(df, idiom, hcStr=hcStr) for df,hcStr in zip(corpora,hcStrs)]"
   ]
  },
  {
   "cell_type": "code",
   "execution_count": 238,
   "id": "dbd5504e-6713-4623-87d3-8c683996200a",
   "metadata": {},
   "outputs": [
    {
     "name": "stdout",
     "output_type": "stream",
     "text": [
      "News:    \u001b[1m63\u001b[0m matches (63 lines) is (\u001b[1m1.831\u001b[0m per million words) for \u001b[1m\\bsilver linings?\\b\u001b[0m\n",
      "Blogs:   \u001b[1m71\u001b[0m matches (70 lines) is (\u001b[1m1.898\u001b[0m per million words) for \u001b[1m\\bsilver linings?\\b\u001b[0m\n",
      "Twitter: \u001b[1m55\u001b[0m matches (55 lines) is (\u001b[1m1.807\u001b[0m per million words) for \u001b[1m\\bsilver linings?\\b\u001b[0m\n"
     ]
    }
   ],
   "source": [
    "idiom = r'\\bsilver linings?\\b'\n",
    "corpora = [dfNews, dfBlogs, dfTwitter]\n",
    "hcStrs = [\"News:    \", \"Blogs:   \", \"Twitter: \"]\n",
    "dfs = [countIdiom(df, idiom, hcStr=hcStr) for df,hcStr in zip(corpora,hcStrs)]"
   ]
  },
  {
   "cell_type": "code",
   "execution_count": 239,
   "id": "9b9d9f7e-dfa7-4812-87ec-a535b701fb0f",
   "metadata": {},
   "outputs": [
    {
     "name": "stdout",
     "output_type": "stream",
     "text": [
      "News:    \u001b[1m253\u001b[0m matches (248 lines) is (\u001b[1m7.352\u001b[0m per million words) for \u001b[1m\\bon paper\\b\u001b[0m\n",
      "Blogs:   \u001b[1m377\u001b[0m matches (364 lines) is (\u001b[1m10.076\u001b[0m per million words) for \u001b[1m\\bon paper\\b\u001b[0m\n",
      "Twitter: \u001b[1m134\u001b[0m matches (134 lines) is (\u001b[1m4.402\u001b[0m per million words) for \u001b[1m\\bon paper\\b\u001b[0m\n"
     ]
    }
   ],
   "source": [
    "idiom = r'\\bon paper\\b'\n",
    "corpora = [dfNews, dfBlogs, dfTwitter]\n",
    "hcStrs = [\"News:    \", \"Blogs:   \", \"Twitter: \"]\n",
    "dfs = [countIdiom(df, idiom, hcStr=hcStr) for df,hcStr in zip(corpora,hcStrs)]"
   ]
  },
  {
   "cell_type": "code",
   "execution_count": 240,
   "id": "a736fac6-2148-4636-89f8-42901f38dea3",
   "metadata": {},
   "outputs": [
    {
     "name": "stdout",
     "output_type": "stream",
     "text": [
      "News:    \u001b[1m4\u001b[0m matches (4 lines) is (\u001b[1m0.116\u001b[0m per million words) for \u001b[1m\\bskin of (\\w+ ){1,3}teeth\\b\u001b[0m\n",
      "Blogs:   \u001b[1m7\u001b[0m matches (7 lines) is (\u001b[1m0.187\u001b[0m per million words) for \u001b[1m\\bskin of (\\w+ ){1,3}teeth\\b\u001b[0m\n",
      "Twitter: \u001b[1m1\u001b[0m matches (1 lines) is (\u001b[1m0.033\u001b[0m per million words) for \u001b[1m\\bskin of (\\w+ ){1,3}teeth\\b\u001b[0m\n"
     ]
    }
   ],
   "source": [
    "idiom = r'\\bskin of (\\w+ ){1,3}teeth\\b'\n",
    "corpora = [dfNews, dfBlogs, dfTwitter]\n",
    "hcStrs = [\"News:    \", \"Blogs:   \", \"Twitter: \"]\n",
    "dfs = [countIdiom(df, idiom, hcStr=hcStr) for df,hcStr in zip(corpora,hcStrs)]"
   ]
  },
  {
   "cell_type": "code",
   "execution_count": 241,
   "id": "f2b6579c-f458-4e6d-a7a4-7c5b03f8c4b9",
   "metadata": {},
   "outputs": [
    {
     "name": "stdout",
     "output_type": "stream",
     "text": [
      "News:    \u001b[1m4\u001b[0m matches (4 lines) is (\u001b[1m0.116\u001b[0m per million words) for \u001b[1m\\bsplit(\\w*) hairs?\\b\u001b[0m\n",
      "Blogs:   \u001b[1m9\u001b[0m matches (9 lines) is (\u001b[1m0.241\u001b[0m per million words) for \u001b[1m\\bsplit(\\w*) hairs?\\b\u001b[0m\n",
      "Twitter: \u001b[1m6\u001b[0m matches (6 lines) is (\u001b[1m0.197\u001b[0m per million words) for \u001b[1m\\bsplit(\\w*) hairs?\\b\u001b[0m\n"
     ]
    }
   ],
   "source": [
    "idiom = r'\\bsplit(\\w*) hairs?\\b'\n",
    "corpora = [dfNews, dfBlogs, dfTwitter]\n",
    "hcStrs = [\"News:    \", \"Blogs:   \", \"Twitter: \"]\n",
    "dfs = [countIdiom(df, idiom, hcStr=hcStr) for df,hcStr in zip(corpora,hcStrs)]"
   ]
  },
  {
   "cell_type": "code",
   "execution_count": 243,
   "id": "020b958d-145d-4366-b830-07c822022fbf",
   "metadata": {},
   "outputs": [
    {
     "name": "stdout",
     "output_type": "stream",
     "text": [
      "News:    \u001b[1m2\u001b[0m matches (2 lines) is (\u001b[1m0.058\u001b[0m per million words) for \u001b[1m\\bcats? out of the bags?\\b\u001b[0m\n",
      "Blogs:   \u001b[1m18\u001b[0m matches (18 lines) is (\u001b[1m0.481\u001b[0m per million words) for \u001b[1m\\bcats? out of the bags?\\b\u001b[0m\n",
      "Twitter: \u001b[1m5\u001b[0m matches (5 lines) is (\u001b[1m0.164\u001b[0m per million words) for \u001b[1m\\bcats? out of the bags?\\b\u001b[0m\n"
     ]
    }
   ],
   "source": [
    "idiom = r'\\bcats? out of the bags?\\b'\n",
    "corpora = [dfNews, dfBlogs, dfTwitter]\n",
    "hcStrs = [\"News:    \", \"Blogs:   \", \"Twitter: \"]\n",
    "dfs = [countIdiom(df, idiom, hcStr=hcStr) for df,hcStr in zip(corpora,hcStrs)]"
   ]
  },
  {
   "cell_type": "code",
   "execution_count": 244,
   "id": "f51a3b0e-e545-4e1c-a9ce-d35137619ef6",
   "metadata": {},
   "outputs": [
    {
     "name": "stdout",
     "output_type": "stream",
     "text": [
      "News:    \u001b[1m0\u001b[0m matches (0 lines) is (\u001b[1m0.000\u001b[0m per million words) for \u001b[1m\\ball bark no bite\\b\u001b[0m\n",
      "Blogs:   \u001b[1m0\u001b[0m matches (0 lines) is (\u001b[1m0.000\u001b[0m per million words) for \u001b[1m\\ball bark no bite\\b\u001b[0m\n",
      "Twitter: \u001b[1m1\u001b[0m matches (1 lines) is (\u001b[1m0.033\u001b[0m per million words) for \u001b[1m\\ball bark no bite\\b\u001b[0m\n"
     ]
    }
   ],
   "source": [
    "idiom = r'\\ball bark no bite\\b'\n",
    "corpora = [dfNews, dfBlogs, dfTwitter]\n",
    "hcStrs = [\"News:    \", \"Blogs:   \", \"Twitter: \"]\n",
    "dfs = [countIdiom(df, idiom, hcStr=hcStr) for df,hcStr in zip(corpora,hcStrs)]"
   ]
  },
  {
   "cell_type": "code",
   "execution_count": 246,
   "id": "f6359999-7510-4a66-bd32-c40239256c18",
   "metadata": {},
   "outputs": [
    {
     "name": "stdout",
     "output_type": "stream",
     "text": [
      "News:    \u001b[1m8\u001b[0m matches (8 lines) is (\u001b[1m0.232\u001b[0m per million words) for \u001b[1m\\bcards on the tables?\\b\u001b[0m\n",
      "Blogs:   \u001b[1m5\u001b[0m matches (5 lines) is (\u001b[1m0.134\u001b[0m per million words) for \u001b[1m\\bcards on the tables?\\b\u001b[0m\n",
      "Twitter: \u001b[1m4\u001b[0m matches (4 lines) is (\u001b[1m0.131\u001b[0m per million words) for \u001b[1m\\bcards on the tables?\\b\u001b[0m\n"
     ]
    }
   ],
   "source": [
    "idiom = r'\\bcards on the tables?\\b'\n",
    "corpora = [dfNews, dfBlogs, dfTwitter]\n",
    "hcStrs = [\"News:    \", \"Blogs:   \", \"Twitter: \"]\n",
    "dfs = [countIdiom(df, idiom, hcStr=hcStr) for df,hcStr in zip(corpora,hcStrs)]"
   ]
  },
  {
   "cell_type": "code",
   "execution_count": 247,
   "id": "f209025e-76fc-4383-a3d2-57666547dd4d",
   "metadata": {},
   "outputs": [
    {
     "name": "stdout",
     "output_type": "stream",
     "text": [
      "News:    \u001b[1m2\u001b[0m matches (2 lines) is (\u001b[1m0.058\u001b[0m per million words) for \u001b[1m\\bburn (\\w+ ){1,3}bridges?\\b\u001b[0m\n",
      "Blogs:   \u001b[1m6\u001b[0m matches (6 lines) is (\u001b[1m0.160\u001b[0m per million words) for \u001b[1m\\bburn (\\w+ ){1,3}bridges?\\b\u001b[0m\n",
      "Twitter: \u001b[1m18\u001b[0m matches (18 lines) is (\u001b[1m0.591\u001b[0m per million words) for \u001b[1m\\bburn (\\w+ ){1,3}bridges?\\b\u001b[0m\n"
     ]
    }
   ],
   "source": [
    "idiom = r'\\bburn (\\w+ ){1,3}bridges?\\b'\n",
    "corpora = [dfNews, dfBlogs, dfTwitter]\n",
    "hcStrs = [\"News:    \", \"Blogs:   \", \"Twitter: \"]\n",
    "dfs = [countIdiom(df, idiom, hcStr=hcStr) for df,hcStr in zip(corpora,hcStrs)]"
   ]
  },
  {
   "cell_type": "code",
   "execution_count": 248,
   "id": "514b7962-1e94-40d0-a0ed-c7fb4f3397e8",
   "metadata": {},
   "outputs": [
    {
     "name": "stdout",
     "output_type": "stream",
     "text": [
      "News:    \u001b[1m0\u001b[0m matches (0 lines) is (\u001b[1m0.000\u001b[0m per million words) for \u001b[1m\\b(6|six) \\w+ one,? (\\w+ ){0,3}half(-| )dozen\\b\u001b[0m\n",
      "Blogs:   \u001b[1m1\u001b[0m matches (1 lines) is (\u001b[1m0.027\u001b[0m per million words) for \u001b[1m\\b(6|six) \\w+ one,? (\\w+ ){0,3}half(-| )dozen\\b\u001b[0m\n",
      "Twitter: \u001b[1m0\u001b[0m matches (0 lines) is (\u001b[1m0.000\u001b[0m per million words) for \u001b[1m\\b(6|six) \\w+ one,? (\\w+ ){0,3}half(-| )dozen\\b\u001b[0m\n"
     ]
    }
   ],
   "source": [
    "idiom = r'\\b(6|six) \\w+ one,? (\\w+ ){0,3}half(-| )dozen\\b'\n",
    "corpora = [dfNews, dfBlogs, dfTwitter]\n",
    "hcStrs = [\"News:    \", \"Blogs:   \", \"Twitter: \"]\n",
    "dfs = [countIdiom(df, idiom, hcStr=hcStr) for df,hcStr in zip(corpora,hcStrs)]"
   ]
  },
  {
   "cell_type": "code",
   "execution_count": 249,
   "id": "8131e1ef-6003-4d0b-80ae-e39ae2748762",
   "metadata": {},
   "outputs": [
    {
     "data": {
      "text/plain": [
       "'This phrase has been common in my family forever. I have heard it since I was little and it is easily understandable. But since I have moved to Iowa for college I have started to notice that everyone is confused when I say it. I will often here “six of one half dozen of the other” coming from people instead. This phrase is completely lost by me, I understand it but can never remember the correct words or how they are organized in the phrase.'"
      ]
     },
     "execution_count": 249,
     "metadata": {},
     "output_type": "execute_result"
    }
   ],
   "source": [
    "dfs[1].iat[0,2]"
   ]
  },
  {
   "cell_type": "code",
   "execution_count": 250,
   "id": "c0377f5b-1b77-41d9-81ae-8bd4cd3f0b35",
   "metadata": {},
   "outputs": [
    {
     "name": "stdout",
     "output_type": "stream",
     "text": [
      "News:    \u001b[1m0\u001b[0m matches (0 lines) is (\u001b[1m0.000\u001b[0m per million words) for \u001b[1m\\bmade of money\\b\u001b[0m\n",
      "Blogs:   \u001b[1m4\u001b[0m matches (4 lines) is (\u001b[1m0.107\u001b[0m per million words) for \u001b[1m\\bmade of money\\b\u001b[0m\n",
      "Twitter: \u001b[1m7\u001b[0m matches (7 lines) is (\u001b[1m0.230\u001b[0m per million words) for \u001b[1m\\bmade of money\\b\u001b[0m\n"
     ]
    }
   ],
   "source": [
    "idiom = r'\\bmade of money\\b'\n",
    "corpora = [dfNews, dfBlogs, dfTwitter]\n",
    "hcStrs = [\"News:    \", \"Blogs:   \", \"Twitter: \"]\n",
    "dfs = [countIdiom(df, idiom, hcStr=hcStr) for df,hcStr in zip(corpora,hcStrs)]"
   ]
  },
  {
   "cell_type": "code",
   "execution_count": 251,
   "id": "afe80aef-6679-40ef-b714-376b0e4f71f7",
   "metadata": {},
   "outputs": [
    {
     "name": "stdout",
     "output_type": "stream",
     "text": [
      "News:    \u001b[1m6\u001b[0m matches (6 lines) is (\u001b[1m0.174\u001b[0m per million words) for \u001b[1m\\brains? on (\\w+ ){1,3}parades?\\b\u001b[0m\n",
      "Blogs:   \u001b[1m6\u001b[0m matches (6 lines) is (\u001b[1m0.160\u001b[0m per million words) for \u001b[1m\\brains? on (\\w+ ){1,3}parades?\\b\u001b[0m\n",
      "Twitter: \u001b[1m27\u001b[0m matches (27 lines) is (\u001b[1m0.887\u001b[0m per million words) for \u001b[1m\\brains? on (\\w+ ){1,3}parades?\\b\u001b[0m\n"
     ]
    }
   ],
   "source": [
    "idiom = r'\\brains? on (\\w+ ){1,3}parades?\\b'\n",
    "corpora = [dfNews, dfBlogs, dfTwitter]\n",
    "hcStrs = [\"News:    \", \"Blogs:   \", \"Twitter: \"]\n",
    "dfs = [countIdiom(df, idiom, hcStr=hcStr) for df,hcStr in zip(corpora,hcStrs)]"
   ]
  },
  {
   "cell_type": "code",
   "execution_count": 253,
   "id": "e87b6510-3d27-4907-a5e4-f2584f8a71fb",
   "metadata": {},
   "outputs": [
    {
     "name": "stdout",
     "output_type": "stream",
     "text": [
      "News:    \u001b[1m0\u001b[0m matches (0 lines) is (\u001b[1m0.000\u001b[0m per million words) for \u001b[1m\\bfish(\\w+) or cuts? bait\\b\u001b[0m\n",
      "Blogs:   \u001b[1m0\u001b[0m matches (0 lines) is (\u001b[1m0.000\u001b[0m per million words) for \u001b[1m\\bfish(\\w+) or cuts? bait\\b\u001b[0m\n",
      "Twitter: \u001b[1m0\u001b[0m matches (0 lines) is (\u001b[1m0.000\u001b[0m per million words) for \u001b[1m\\bfish(\\w+) or cuts? bait\\b\u001b[0m\n"
     ]
    }
   ],
   "source": [
    "idiom = r'\\bfish(\\w+) or cuts? bait\\b'\n",
    "corpora = [dfNews, dfBlogs, dfTwitter]\n",
    "hcStrs = [\"News:    \", \"Blogs:   \", \"Twitter: \"]\n",
    "dfs = [countIdiom(df, idiom, hcStr=hcStr) for df,hcStr in zip(corpora,hcStrs)]"
   ]
  },
  {
   "cell_type": "code",
   "execution_count": 254,
   "id": "25f7d14b-e9b7-47cb-a2af-60b3635cb256",
   "metadata": {},
   "outputs": [
    {
     "name": "stdout",
     "output_type": "stream",
     "text": [
      "News:    \u001b[1m1\u001b[0m matches (1 lines) is (\u001b[1m0.029\u001b[0m per million words) for \u001b[1m\\bcr(y|i)(\\w*) over spilled milk\\b\u001b[0m\n",
      "Blogs:   \u001b[1m3\u001b[0m matches (3 lines) is (\u001b[1m0.080\u001b[0m per million words) for \u001b[1m\\bcr(y|i)(\\w*) over spilled milk\\b\u001b[0m\n",
      "Twitter: \u001b[1m5\u001b[0m matches (5 lines) is (\u001b[1m0.164\u001b[0m per million words) for \u001b[1m\\bcr(y|i)(\\w*) over spilled milk\\b\u001b[0m\n"
     ]
    }
   ],
   "source": [
    "idiom = r'\\bcr(y|i)(\\w*) over spilled milk\\b'\n",
    "corpora = [dfNews, dfBlogs, dfTwitter]\n",
    "hcStrs = [\"News:    \", \"Blogs:   \", \"Twitter: \"]\n",
    "dfs = [countIdiom(df, idiom, hcStr=hcStr) for df,hcStr in zip(corpora,hcStrs)]"
   ]
  },
  {
   "cell_type": "code",
   "execution_count": 265,
   "id": "2473ebe2-c315-4fa0-a192-31ef2dd95cbe",
   "metadata": {},
   "outputs": [
    {
     "name": "stdout",
     "output_type": "stream",
     "text": [
      "News:    \u001b[1m7\u001b[0m matches (7 lines) is (\u001b[1m0.203\u001b[0m per million words) for \u001b[1m\\bchopped liver\\b\u001b[0m\n",
      "Blogs:   \u001b[1m3\u001b[0m matches (3 lines) is (\u001b[1m0.080\u001b[0m per million words) for \u001b[1m\\bchopped liver\\b\u001b[0m\n",
      "Twitter: \u001b[1m19\u001b[0m matches (19 lines) is (\u001b[1m0.624\u001b[0m per million words) for \u001b[1m\\bchopped liver\\b\u001b[0m\n"
     ]
    }
   ],
   "source": [
    "idiom = r'\\bchopped liver\\b'\n",
    "corpora = [dfNews, dfBlogs, dfTwitter]\n",
    "hcStrs = [\"News:    \", \"Blogs:   \", \"Twitter: \"]\n",
    "dfs = [countIdiom(df, idiom, hcStr=hcStr) for df,hcStr in zip(corpora,hcStrs)]"
   ]
  },
  {
   "cell_type": "code",
   "execution_count": 266,
   "id": "0967c3f0-a4e4-47ae-916b-d4492423508d",
   "metadata": {},
   "outputs": [
    {
     "name": "stdout",
     "output_type": "stream",
     "text": [
      "News:    \u001b[1m3\u001b[0m matches (3 lines) is (\u001b[1m0.087\u001b[0m per million words) for \u001b[1m\\bdrops? of (\\w+ ){1,3}hats?\\b\u001b[0m\n",
      "Blogs:   \u001b[1m30\u001b[0m matches (30 lines) is (\u001b[1m0.802\u001b[0m per million words) for \u001b[1m\\bdrops? of (\\w+ ){1,3}hats?\\b\u001b[0m\n",
      "Twitter: \u001b[1m9\u001b[0m matches (9 lines) is (\u001b[1m0.296\u001b[0m per million words) for \u001b[1m\\bdrops? of (\\w+ ){1,3}hats?\\b\u001b[0m\n"
     ]
    }
   ],
   "source": [
    "idiom = r'\\bdrops? of (\\w+ ){1,3}hats?\\b'\n",
    "corpora = [dfNews, dfBlogs, dfTwitter]\n",
    "hcStrs = [\"News:    \", \"Blogs:   \", \"Twitter: \"]\n",
    "dfs = [countIdiom(df, idiom, hcStr=hcStr) for df,hcStr in zip(corpora,hcStrs)]"
   ]
  },
  {
   "cell_type": "code",
   "execution_count": 286,
   "id": "e6ee8cdd-0ef4-4909-adca-94cd4d902176",
   "metadata": {},
   "outputs": [
    {
     "name": "stdout",
     "output_type": "stream",
     "text": [
      "News:    \u001b[1m5\u001b[0m matches (3 lines) is (\u001b[1m0.145\u001b[0m per million words) for \u001b[1m\\bpigs? fl(y|i)\\w*\\b\u001b[0m\n",
      "Blogs:   \u001b[1m22\u001b[0m matches (20 lines) is (\u001b[1m0.588\u001b[0m per million words) for \u001b[1m\\bpigs? fl(y|i)\\w*\\b\u001b[0m\n",
      "Twitter: \u001b[1m14\u001b[0m matches (14 lines) is (\u001b[1m0.460\u001b[0m per million words) for \u001b[1m\\bpigs? fl(y|i)\\w*\\b\u001b[0m\n"
     ]
    }
   ],
   "source": [
    "idiom = r'\\bpigs? fl(y|i)\\w*\\b'\n",
    "corpora = [dfNews, dfBlogs, dfTwitter]\n",
    "hcStrs = [\"News:    \", \"Blogs:   \", \"Twitter: \"]\n",
    "dfs = [countIdiom(df, idiom, hcStr=hcStr) for df,hcStr in zip(corpora,hcStrs)]"
   ]
  },
  {
   "cell_type": "markdown",
   "id": "22ab4116-3172-460b-8874-b60650249ec2",
   "metadata": {},
   "source": [
    "Use [this paper](https://deepblue.lib.umich.edu/bitstream/handle/2027.42/90255/3588398.pdf?sequence) for new idioms"
   ]
  },
  {
   "cell_type": "markdown",
   "id": "61124de8-e1ae-497a-835a-6470298211c7",
   "metadata": {},
   "source": [
    "#### All idioms"
   ]
  },
  {
   "cell_type": "code",
   "execution_count": 5,
   "id": "9fdcfe20-f5e2-4297-85b0-6b359172b922",
   "metadata": {},
   "outputs": [],
   "source": [
    "idiom_list = [r'\\bchip on (\\w+\\s?){1,3}shoulders?\\b',\n",
    "             r'\\blame ducks?\\b',\n",
    "             r'\\baxe to grind\\b',\n",
    "             r'\\bfollows? suit\\b',\n",
    "             r'\\bplay \\w+ card\\b',\n",
    "             r'\\bover (\\w+ ){1,3}heads?\\b',\n",
    "             r'\\blow hanging fruits?\\b',\n",
    "             r'\\bdodg(\\w+) (\\w+ ){0,3}bullets?\\b',\n",
    "             r'\\blead foot\\b',\n",
    "             r'\\btrigger happy\\b',\n",
    "             r'\\bin the cards\\b',\n",
    "             r'\\bsilver linings?\\b',\n",
    "             r'\\bon paper\\b',\n",
    "             r'\\bskin of (\\w+ ){1,3}teeth\\b',\n",
    "             r'\\bsplit(\\w*) hairs?\\b',\n",
    "             r'\\bcats? out of the bags?\\b',\n",
    "             r'\\ball bark no bite\\b',\n",
    "             r'\\bcards on the tables?\\b',\n",
    "             r'\\bburn (\\w+ ){1,3}bridges?\\b',\n",
    "             r'\\b(6|six) \\w+ one,? (\\w+ ){0,3}half(-| )dozen\\b',\n",
    "             r'\\bmade of money\\b',\n",
    "             r'\\brains? on (\\w+ ){1,3}parades?\\b',\n",
    "             r'\\bfish(\\w+) or cuts? bait\\b',\n",
    "             r'\\bcr(y|i)(\\w*) over spilled milk\\b',\n",
    "             r'\\bchopped liver\\b',\n",
    "             r'\\bdrops? of (\\w+ ){1,3}hats?\\b',\n",
    "             r'\\bpigs? fl(y|i)\\w*\\b']"
   ]
  },
  {
   "cell_type": "code",
   "execution_count": 39,
   "id": "e50c5038-3c77-4ac2-86ee-079674221a63",
   "metadata": {},
   "outputs": [],
   "source": [
    "def countIdiomEfficient(df, idiomPattern):\n",
    "    with warnings.catch_warnings():\n",
    "        # Apply a filter to suppress warnings with the specific message\n",
    "        warnings.filterwarnings(\n",
    "            \"ignore\",  # Action to ignore the warning\n",
    "            category=UserWarning,  # Category of the warning\n",
    "            message=\".*has match groups.*\",  # Regex pattern to match the warning message\n",
    "        )\n",
    "        dfSub = df[df['text'].str.contains(idiomPattern, regex=True, na=False, flags=re.IGNORECASE)]\n",
    "    total_matches = dfSub['text'].str.count(idiomPattern, flags=re.IGNORECASE).sum()\n",
    "    #total_words = df['words'].sum()\n",
    "    #print(f\"{hcStr}{color.BOLD}{total_matches}{color.END} matches ({dfSub.shape[0]} lines) is ({color.BOLD}{total_matches/total_words*1000000:.3f}{color.END} per million words) for {color.BOLD}{idiomPattern}{color.END}\")\n",
    "    return total_matches"
   ]
  },
  {
   "cell_type": "code",
   "execution_count": 51,
   "id": "e6b96121-1d54-4f33-872e-764e925c827b",
   "metadata": {},
   "outputs": [
    {
     "name": "stdout",
     "output_type": "stream",
     "text": [
      "\u001b[1mTesting 27 idioms\u001b[0m\n",
      "0: Testing \u001b[1m\\bchip on (\\w+\\s?){1,3}shoulders?\\b\u001b[0m...\tAverage \u001b[1m0.760\u001b[0m matches per million words  (News: 1.453  |  Blogs: 0.401  |  Twitter: 0.427)\n",
      "1: Testing \u001b[1m\\blame ducks?\\b\u001b[0m...\tAverage \u001b[1m0.401\u001b[0m matches per million words  (News: 0.581  |  Blogs: 0.294  |  Twitter: 0.328)\n",
      "2: Testing \u001b[1m\\baxe to grind\\b\u001b[0m...\tAverage \u001b[1m0.239\u001b[0m matches per million words  (News: 0.029  |  Blogs: 0.588  |  Twitter: 0.099)\n",
      "3: Testing \u001b[1m\\bfollows? suit\\b\u001b[0m...\tAverage \u001b[1m1.439\u001b[0m matches per million words  (News: 2.121  |  Blogs: 1.310  |  Twitter: 0.887)\n",
      "4: Testing \u001b[1m\\bplay \\w+ card\\b\u001b[0m...\tAverage \u001b[1m0.106\u001b[0m matches per million words  (News: 0.087  |  Blogs: 0.134  |  Twitter: 0.099)\n",
      "5: Testing \u001b[1m\\bover (\\w+ ){1,3}heads?\\b\u001b[0m...\tAverage \u001b[1m8.598\u001b[0m matches per million words  (News: 7.962  |  Blogs: 11.786  |  Twitter: 6.044)\n",
      "6: Testing \u001b[1m\\blow hanging fruits?\\b\u001b[0m...\tAverage \u001b[1m0.150\u001b[0m matches per million words  (News: 0.029  |  Blogs: 0.027  |  Twitter: 0.394)\n",
      "7: Testing \u001b[1m\\bdodg(\\w+) (\\w+ ){0,3}bullets?\\b\u001b[0m...\tAverage \u001b[1m0.775\u001b[0m matches per million words  (News: 0.726  |  Blogs: 0.481  |  Twitter: 1.117)\n",
      "8: Testing \u001b[1m\\blead foot\\b\u001b[0m...\tAverage \u001b[1m0.049\u001b[0m matches per million words  (News: 0.029  |  Blogs: 0.053  |  Twitter: 0.066)\n",
      "9: Testing \u001b[1m\\btrigger happy\\b\u001b[0m...\tAverage \u001b[1m0.121\u001b[0m matches per million words  (News: 0.000  |  Blogs: 0.134  |  Twitter: 0.230)\n",
      "10: Testing \u001b[1m\\bin the cards\\b\u001b[0m...\tAverage \u001b[1m0.781\u001b[0m matches per million words  (News: 1.017  |  Blogs: 0.668  |  Twitter: 0.657)\n",
      "11: Testing \u001b[1m\\bsilver linings?\\b\u001b[0m...\tAverage \u001b[1m1.845\u001b[0m matches per million words  (News: 1.831  |  Blogs: 1.898  |  Twitter: 1.807)\n",
      "12: Testing \u001b[1m\\bon paper\\b\u001b[0m...\tAverage \u001b[1m7.277\u001b[0m matches per million words  (News: 7.352  |  Blogs: 10.076  |  Twitter: 4.402)\n",
      "13: Testing \u001b[1m\\bskin of (\\w+ ){1,3}teeth\\b\u001b[0m...\tAverage \u001b[1m0.112\u001b[0m matches per million words  (News: 0.116  |  Blogs: 0.187  |  Twitter: 0.033)\n",
      "14: Testing \u001b[1m\\bsplit(\\w*) hairs?\\b\u001b[0m...\tAverage \u001b[1m0.185\u001b[0m matches per million words  (News: 0.116  |  Blogs: 0.241  |  Twitter: 0.197)\n",
      "15: Testing \u001b[1m\\bcats? out of the bags?\\b\u001b[0m...\tAverage \u001b[1m0.234\u001b[0m matches per million words  (News: 0.058  |  Blogs: 0.481  |  Twitter: 0.164)\n",
      "16: Testing \u001b[1m\\ball bark no bite\\b\u001b[0m...\tAverage \u001b[1m0.011\u001b[0m matches per million words  (News: 0.000  |  Blogs: 0.000  |  Twitter: 0.033)\n",
      "17: Testing \u001b[1m\\bcards on the tables?\\b\u001b[0m...\tAverage \u001b[1m0.166\u001b[0m matches per million words  (News: 0.232  |  Blogs: 0.134  |  Twitter: 0.131)\n",
      "18: Testing \u001b[1m\\bburn (\\w+ ){1,3}bridges?\\b\u001b[0m...\tAverage \u001b[1m0.270\u001b[0m matches per million words  (News: 0.058  |  Blogs: 0.160  |  Twitter: 0.591)\n",
      "19: Testing \u001b[1m\\b(6|six) \\w+ one,? (\\w+ ){0,3}half(-| )dozen\\b\u001b[0m...\tAverage \u001b[1m0.009\u001b[0m matches per million words  (News: 0.000  |  Blogs: 0.027  |  Twitter: 0.000)\n",
      "20: Testing \u001b[1m\\bmade of money\\b\u001b[0m...\tAverage \u001b[1m0.112\u001b[0m matches per million words  (News: 0.000  |  Blogs: 0.107  |  Twitter: 0.230)\n",
      "21: Testing \u001b[1m\\brains? on (\\w+ ){1,3}parades?\\b\u001b[0m...\tAverage \u001b[1m0.407\u001b[0m matches per million words  (News: 0.174  |  Blogs: 0.160  |  Twitter: 0.887)\n",
      "22: Testing \u001b[1m\\bfish(\\w+) or cuts? bait\\b\u001b[0m...\tAverage \u001b[1m0.000\u001b[0m matches per million words  (News: 0.000  |  Blogs: 0.000  |  Twitter: 0.000)\n",
      "23: Testing \u001b[1m\\bcr(y|i)(\\w*) over spilled milk\\b\u001b[0m...\tAverage \u001b[1m0.091\u001b[0m matches per million words  (News: 0.029  |  Blogs: 0.080  |  Twitter: 0.164)\n",
      "24: Testing \u001b[1m\\bchopped liver\\b\u001b[0m...\tAverage \u001b[1m0.303\u001b[0m matches per million words  (News: 0.203  |  Blogs: 0.080  |  Twitter: 0.624)\n",
      "25: Testing \u001b[1m\\bdrops? of (\\w+ ){1,3}hats?\\b\u001b[0m...\tAverage \u001b[1m0.395\u001b[0m matches per million words  (News: 0.087  |  Blogs: 0.802  |  Twitter: 0.296)\n",
      "26: Testing \u001b[1m\\bpigs? fl(y|i)\\w*\\b\u001b[0m...\tAverage \u001b[1m0.398\u001b[0m matches per million words  (News: 0.145  |  Blogs: 0.588  |  Twitter: 0.460)\n"
     ]
    }
   ],
   "source": [
    "corpora = [dfNews, dfBlogs, dfTwitter]\n",
    "corpora_word_counts = [df['words'].sum() for df in corpora]\n",
    "\n",
    "print(f\"{color.BOLD}Testing {len(idiom_list)} idioms{color.END}\")\n",
    "\n",
    "all_idioms_search_results = []\n",
    "for idiom in idiom_list:\n",
    "    print(f\"{len(all_idioms_search_results)}: Testing {color.BOLD}{idiom}{color.END}...\", end=\"\")\n",
    "    matches_row = [countIdiomEfficient(df, idiom) for df in corpora]\n",
    "    frequency_row = [matches / word_count * 1000000 for (matches, word_count) in zip(matches_row, corpora_word_counts)]\n",
    "    all_idioms_search_results.append(frequency_row)\n",
    "    print(f\"\\tAverage {color.BOLD}{sum(frequency_row)/3:.3f}{color.END} matches per million words  (News: {frequency_row[0]:.3f}  |  Blogs: {frequency_row[1]:.3f}  |  Twitter: {frequency_row[2]:.3f})\")"
   ]
  },
  {
   "cell_type": "code",
   "execution_count": 52,
   "id": "3b2bfaef-c644-4a73-87c8-13f527944702",
   "metadata": {},
   "outputs": [],
   "source": [
    "frequency_df = pd.DataFrame(all_idioms_search_results, columns=[\"News\", \"Blogs\", \"Twitter\"], index=idiom_list)"
   ]
  },
  {
   "cell_type": "code",
   "execution_count": 55,
   "id": "3e2a6eb9-cf54-4d5d-8a83-031813f3d2bb",
   "metadata": {},
   "outputs": [],
   "source": [
    "frequency_df['Average'] = frequency_df[[\"News\", \"Blogs\", \"Twitter\"]].mean(axis=1)"
   ]
  },
  {
   "cell_type": "code",
   "execution_count": 57,
   "id": "176933e0-53cf-4a63-9ad2-ea899b8596f7",
   "metadata": {},
   "outputs": [
    {
     "data": {
      "text/html": [
       "<div>\n",
       "<style scoped>\n",
       "    .dataframe tbody tr th:only-of-type {\n",
       "        vertical-align: middle;\n",
       "    }\n",
       "\n",
       "    .dataframe tbody tr th {\n",
       "        vertical-align: top;\n",
       "    }\n",
       "\n",
       "    .dataframe thead th {\n",
       "        text-align: right;\n",
       "    }\n",
       "</style>\n",
       "<table border=\"1\" class=\"dataframe\">\n",
       "  <thead>\n",
       "    <tr style=\"text-align: right;\">\n",
       "      <th></th>\n",
       "      <th>News</th>\n",
       "      <th>Blogs</th>\n",
       "      <th>Twitter</th>\n",
       "      <th>Average</th>\n",
       "    </tr>\n",
       "  </thead>\n",
       "  <tbody>\n",
       "    <tr>\n",
       "      <th>\\bchip on (\\w+\\s?){1,3}shoulders?\\b</th>\n",
       "      <td>1.452982</td>\n",
       "      <td>0.400891</td>\n",
       "      <td>0.427041</td>\n",
       "      <td>0.760304</td>\n",
       "    </tr>\n",
       "    <tr>\n",
       "      <th>\\blame ducks?\\b</th>\n",
       "      <td>0.581193</td>\n",
       "      <td>0.293987</td>\n",
       "      <td>0.328493</td>\n",
       "      <td>0.401224</td>\n",
       "    </tr>\n",
       "    <tr>\n",
       "      <th>\\baxe to grind\\b</th>\n",
       "      <td>0.029060</td>\n",
       "      <td>0.587973</td>\n",
       "      <td>0.098548</td>\n",
       "      <td>0.238527</td>\n",
       "    </tr>\n",
       "    <tr>\n",
       "      <th>\\bfollows? suit\\b</th>\n",
       "      <td>2.121353</td>\n",
       "      <td>1.309576</td>\n",
       "      <td>0.886932</td>\n",
       "      <td>1.439287</td>\n",
       "    </tr>\n",
       "    <tr>\n",
       "      <th>\\bplay \\w+ card\\b</th>\n",
       "      <td>0.087179</td>\n",
       "      <td>0.133630</td>\n",
       "      <td>0.098548</td>\n",
       "      <td>0.106452</td>\n",
       "    </tr>\n",
       "  </tbody>\n",
       "</table>\n",
       "</div>"
      ],
      "text/plain": [
       "                                         News     Blogs   Twitter   Average\n",
       "\\bchip on (\\w+\\s?){1,3}shoulders?\\b  1.452982  0.400891  0.427041  0.760304\n",
       "\\blame ducks?\\b                      0.581193  0.293987  0.328493  0.401224\n",
       "\\baxe to grind\\b                     0.029060  0.587973  0.098548  0.238527\n",
       "\\bfollows? suit\\b                    2.121353  1.309576  0.886932  1.439287\n",
       "\\bplay \\w+ card\\b                    0.087179  0.133630  0.098548  0.106452"
      ]
     },
     "execution_count": 57,
     "metadata": {},
     "output_type": "execute_result"
    }
   ],
   "source": [
    "frequency_df.head()"
   ]
  },
  {
   "cell_type": "code",
   "execution_count": 67,
   "id": "7f07f700-ca85-49c4-a9ba-e5895538adf2",
   "metadata": {},
   "outputs": [
    {
     "data": {
      "text/html": [
       "<div>\n",
       "<style scoped>\n",
       "    .dataframe tbody tr th:only-of-type {\n",
       "        vertical-align: middle;\n",
       "    }\n",
       "\n",
       "    .dataframe tbody tr th {\n",
       "        vertical-align: top;\n",
       "    }\n",
       "\n",
       "    .dataframe thead th {\n",
       "        text-align: right;\n",
       "    }\n",
       "</style>\n",
       "<table border=\"1\" class=\"dataframe\">\n",
       "  <thead>\n",
       "    <tr style=\"text-align: right;\">\n",
       "      <th></th>\n",
       "      <th>News</th>\n",
       "      <th>Blogs</th>\n",
       "      <th>Twitter</th>\n",
       "      <th>Average</th>\n",
       "    </tr>\n",
       "  </thead>\n",
       "  <tbody>\n",
       "    <tr>\n",
       "      <th>count</th>\n",
       "      <td>27.000000</td>\n",
       "      <td>27.000000</td>\n",
       "      <td>27.000000</td>\n",
       "      <td>27.000000</td>\n",
       "    </tr>\n",
       "    <tr>\n",
       "      <th>mean</th>\n",
       "      <td>0.905154</td>\n",
       "      <td>1.144271</td>\n",
       "      <td>0.754318</td>\n",
       "      <td>0.934581</td>\n",
       "    </tr>\n",
       "    <tr>\n",
       "      <th>std</th>\n",
       "      <td>2.032364</td>\n",
       "      <td>2.862991</td>\n",
       "      <td>1.369844</td>\n",
       "      <td>2.071889</td>\n",
       "    </tr>\n",
       "    <tr>\n",
       "      <th>min</th>\n",
       "      <td>0.000000</td>\n",
       "      <td>0.000000</td>\n",
       "      <td>0.000000</td>\n",
       "      <td>0.000000</td>\n",
       "    </tr>\n",
       "    <tr>\n",
       "      <th>25%</th>\n",
       "      <td>0.029060</td>\n",
       "      <td>0.093541</td>\n",
       "      <td>0.114973</td>\n",
       "      <td>0.112170</td>\n",
       "    </tr>\n",
       "    <tr>\n",
       "      <th>50%</th>\n",
       "      <td>0.116239</td>\n",
       "      <td>0.187082</td>\n",
       "      <td>0.295644</td>\n",
       "      <td>0.238527</td>\n",
       "    </tr>\n",
       "    <tr>\n",
       "      <th>75%</th>\n",
       "      <td>0.653842</td>\n",
       "      <td>0.587973</td>\n",
       "      <td>0.640562</td>\n",
       "      <td>0.583760</td>\n",
       "    </tr>\n",
       "    <tr>\n",
       "      <th>max</th>\n",
       "      <td>7.962339</td>\n",
       "      <td>11.786188</td>\n",
       "      <td>6.044274</td>\n",
       "      <td>8.597600</td>\n",
       "    </tr>\n",
       "  </tbody>\n",
       "</table>\n",
       "</div>"
      ],
      "text/plain": [
       "            News      Blogs    Twitter    Average\n",
       "count  27.000000  27.000000  27.000000  27.000000\n",
       "mean    0.905154   1.144271   0.754318   0.934581\n",
       "std     2.032364   2.862991   1.369844   2.071889\n",
       "min     0.000000   0.000000   0.000000   0.000000\n",
       "25%     0.029060   0.093541   0.114973   0.112170\n",
       "50%     0.116239   0.187082   0.295644   0.238527\n",
       "75%     0.653842   0.587973   0.640562   0.583760\n",
       "max     7.962339  11.786188   6.044274   8.597600"
      ]
     },
     "execution_count": 67,
     "metadata": {},
     "output_type": "execute_result"
    }
   ],
   "source": [
    "frequency_df.describe()"
   ]
  },
  {
   "cell_type": "code",
   "execution_count": 82,
   "id": "0575aba7-5dc2-40c3-9809-f0d66c272491",
   "metadata": {},
   "outputs": [
    {
     "data": {
      "image/png": "[encoded data removed]",
      "text/plain": [
       "<Figure size 2000x400 with 4 Axes>"
      ]
     },
     "metadata": {},
     "output_type": "display_data"
    }
   ],
   "source": [
    "fig, axes = plt.subplots(1, 4, figsize=(20, 4), sharey=True, sharex=True)\n",
    "\n",
    "for i, source in enumerate([\"News\", \"Blogs\", \"Twitter\", \"Average\"]):\n",
    "    axes[i].hist(frequency_df[source], bins=50, edgecolor=\"black\")\n",
    "    source_mean = frequency_df[source].mean()\n",
    "    axes[i].set_xlabel(\"Matches per million words\")\n",
    "    axes[i].set_ylabel(\"Occurrences\")\n",
    "    axes[i].set_title(source)\n",
    "    axes[i].grid()\n",
    "    axes[i].axvline(source_mean, color=\"red\", linestyle=\"dashed\")\n",
    "    axes[i].text(source_mean + 2, 0.9 * axes[i].get_ylim()[1], f'mean: {source_mean:.2f}', color='red', ha='center')"
   ]
  },
  {
   "cell_type": "code",
   "execution_count": 87,
   "id": "f5de613d-8a0c-4051-aeb9-70dc42e68869",
   "metadata": {},
   "outputs": [],
   "source": [
    "### Realized doing a combined histogram is somewhat meaningless since entries vary over both source *and* idiom; they only vary over idiom in the above plots\n",
    "# combined_values = pd.concat([frequency_df['News'], frequency_df['Blogs'], frequency_df['Twitter']])\n",
    "# fig, ax = plt.subplots(figsize=(5,4))\n",
    "# ax.hist(combined_values, bins=50, edgecolor=\"black\")\n",
    "# source_mean = combined_values.mean()\n",
    "# ax.set_xlabel(\"Matches per million words\")\n",
    "# ax.set_ylabel(\"Occurrences\")\n",
    "# ax.set_title(\"Collectively\")\n",
    "# ax.grid()\n",
    "# ax.axvline(source_mean, color=\"red\", linestyle=\"dashed\")\n",
    "# ax.text(source_mean + 2, 0.9 * ax.get_ylim()[1], f'mean: {source_mean:.2f}', color='red', ha='center')"
   ]
  },
  {
   "cell_type": "code",
   "execution_count": 93,
   "id": "49fed264-85df-41a9-b067-2dfd6c845bc6",
   "metadata": {},
   "outputs": [
    {
     "data": {
      "text/html": [
       "<div>\n",
       "<style scoped>\n",
       "    .dataframe tbody tr th:only-of-type {\n",
       "        vertical-align: middle;\n",
       "    }\n",
       "\n",
       "    .dataframe tbody tr th {\n",
       "        vertical-align: top;\n",
       "    }\n",
       "\n",
       "    .dataframe thead th {\n",
       "        text-align: right;\n",
       "    }\n",
       "</style>\n",
       "<table border=\"1\" class=\"dataframe\">\n",
       "  <thead>\n",
       "    <tr style=\"text-align: right;\">\n",
       "      <th></th>\n",
       "      <th>News</th>\n",
       "      <th>Blogs</th>\n",
       "      <th>Twitter</th>\n",
       "      <th>Average</th>\n",
       "    </tr>\n",
       "  </thead>\n",
       "  <tbody>\n",
       "    <tr>\n",
       "      <th>\\bover (\\w+ ){1,3}heads?\\b</th>\n",
       "      <td>7.962339</td>\n",
       "      <td>11.786188</td>\n",
       "      <td>6.044274</td>\n",
       "      <td>8.597600</td>\n",
       "    </tr>\n",
       "    <tr>\n",
       "      <th>\\bon paper\\b</th>\n",
       "      <td>7.352086</td>\n",
       "      <td>10.075721</td>\n",
       "      <td>4.401809</td>\n",
       "      <td>7.276539</td>\n",
       "    </tr>\n",
       "  </tbody>\n",
       "</table>\n",
       "</div>"
      ],
      "text/plain": [
       "                                News      Blogs   Twitter   Average\n",
       "\\bover (\\w+ ){1,3}heads?\\b  7.962339  11.786188  6.044274  8.597600\n",
       "\\bon paper\\b                7.352086  10.075721  4.401809  7.276539"
      ]
     },
     "execution_count": 93,
     "metadata": {},
     "output_type": "execute_result"
    }
   ],
   "source": [
    "frequency_df[(frequency_df[\"News\"] > 4) | (frequency_df[\"Blogs\"] > 4) | (frequency_df[\"Twitter\"] > 4)]"
   ]
  },
  {
   "cell_type": "markdown",
   "id": "515d79b0-9e27-404b-ba11-6894014a544c",
   "metadata": {},
   "source": [
    "#### TLDR"
   ]
  },
  {
   "cell_type": "markdown",
   "id": "9de1c05b-e6db-4405-9a61-65395eb599b2",
   "metadata": {},
   "source": [
    "* Tested 27 idioms over ~100 million words\n",
    "    * ...using regular expression (likely overcounts occurrences)\n",
    "* On average, an idioms occurs **0.93 times for every million words searched**\n",
    "    * **0.91 in News articles** (~34.4 million words)\n",
    "    * **1.14 in Blogs** (~37.4 million words)\n",
    "    * **0.75 in Twitter posts** (~30.4 million words)\n",
    "* Most idioms occurred infrequently\n",
    "    * A few occurring much more frequently (skewing the mean)\n",
    "    * Specifically, **\"over one's head\"** and **\"on paper\"** occurred much more frequently, with an average of **8.6** and **7.3** occurrences per million words, respectively"
   ]
  },
  {
   "cell_type": "markdown",
   "id": "15c489d2-6efc-4c39-8fdd-9548afcd5887",
   "metadata": {},
   "source": [
    "# *Formal read in of corpora*"
   ]
  },
  {
   "cell_type": "markdown",
   "id": "2ddc45c9-8f02-44c7-b183-360708a1f0ba",
   "metadata": {},
   "source": [
    "## Helper Functions"
   ]
  },
  {
   "cell_type": "code",
   "execution_count": 4,
   "id": "9ceadbbe-a2c3-46c9-b566-a2c2fd06ae50",
   "metadata": {},
   "outputs": [],
   "source": [
    "def standardizeQuotes(textString):\n",
    "    \"\"\"\n",
    "    Replaces variations of the apostrophe and quotation mark with a standard version (' and \").\n",
    "    Used in \"preprocessThisText\" functions.\n",
    "    \"\"\"\n",
    "    textString = re.sub(r\"’\", \"'\", textString) # Right single quotation mark\n",
    "    textString = re.sub(r\"‘\", \"'\", textString) # Left single quotation mark\n",
    "    textString = re.sub(r\"′\", \"'\", textString) # Prime\n",
    "    textString = re.sub(r\"ʼ\", \"'\", textString) # Modifier letter apostrophe\n",
    "\n",
    "    textString = re.sub(r'“', '\"', textString) # Left double quotation mark\n",
    "    textString = re.sub(r'”', '\"', textString) # Right double quotation mark\n",
    "    textString = re.sub(r'″', '\"', textString) # Double prime\n",
    "    textString = re.sub(r'„', '\"', textString) # Low-9 quotation mark\n",
    "\n",
    "    return textString"
   ]
  },
  {
   "cell_type": "code",
   "execution_count": 5,
   "id": "8e4895b0-7c47-4413-9c14-4d244282fb71",
   "metadata": {},
   "outputs": [],
   "source": [
    "def removeQuotes(textString):\n",
    "    \"\"\"\n",
    "    Removes (standardized) single and double quotes.\n",
    "    \"\"\"\n",
    "    textString = re.sub(r'\"', '', textString)\n",
    "    textString = re.sub(r\"'\", '', textString)\n",
    "    return textString"
   ]
  },
  {
   "cell_type": "code",
   "execution_count": 6,
   "id": "02391f26-9bfe-4e3b-a871-74f5f999e413",
   "metadata": {},
   "outputs": [],
   "source": [
    "def calcCorpusSize(corpusTexts):\n",
    "    \"\"\"\n",
    "    Calculates the total words in a corpus by splitting based on whitespace.\n",
    "\n",
    "    Args:\n",
    "        corpusTexts (list[string]): Corpus\n",
    "\n",
    "    Returns:\n",
    "        int: number of words in corpus\n",
    "    \"\"\"\n",
    "    i=0\n",
    "    for text in corpusTexts:\n",
    "        i += len(re.findall(r'\\s+', text))\n",
    "    return i"
   ]
  },
  {
   "cell_type": "code",
   "execution_count": 7,
   "id": "31b89409-e74a-4a36-93ef-1fd81cf4c5bb",
   "metadata": {},
   "outputs": [],
   "source": [
    "def testIdiomOnCorpus(corpusTexts, idiomPattern):\n",
    "    \"\"\"\n",
    "    Locates, records, and returns all occurrences of an idiom regex in a corpus.\n",
    "\n",
    "    Args:\n",
    "        corpusTexts (list[string]): Corpus to be searched\n",
    "        idiomPattern (raw string): Idiom regex. Uses python's \"re\" module. i.e. r'\\bidioms?'\n",
    "\n",
    "    Returns:\n",
    "        matchList (list[string]): list of the identified matches\n",
    "        indexList (list[int]): corresponding list of indices identifying which corpus string the match was found in\n",
    "    \"\"\"\n",
    "    matchList = []\n",
    "    indexList = []\n",
    "    for i,text in enumerate(corpusTexts):\n",
    "        newMatches = re.findall(idiomPattern, text)\n",
    "        matchList += newMatches\n",
    "        indexList += [i]*len(newMatches)\n",
    "    return matchList, indexList"
   ]
  },
  {
   "cell_type": "code",
   "execution_count": 8,
   "id": "54eee58f-a536-4eab-93ac-5729ebc16916",
   "metadata": {},
   "outputs": [],
   "source": [
    "def testCorpus(corpusTexts, idiom_list, corpusName=\"UNKNOWN\"):\n",
    "    \"\"\"\n",
    "    For a corpus, identifies number of matches over a list of idioms.\n",
    "\n",
    "    Args:\n",
    "        idiom_list (list[raw string]): list of idiom regexs to test\n",
    "        corpusTexts (list[string]): Corpus to be searched\n",
    "        corpusName (string, optional): For printing, name of corpus\n",
    "\n",
    "    Returns:\n",
    "        num_matches_list (list[int]): list (size of idiom_list) of idiom match counts\n",
    "        freq_matches_list (list[float]): list (size of idiom_list) of raw counts normalized by total words in corpus\n",
    "    \"\"\"\n",
    "    print(f\"Testing {color.YELLOW}{len(idiom_list)}{color.END} idioms on {color.BLUE}{corpusName}{color.END} corpus | \", end=\"\")\n",
    "    corpusSize = calcCorpusSize(corpusTexts)\n",
    "    print(f\"{color.BLUE}{corpusSize/1000000:.2f}M{color.END} words\")\n",
    "    \n",
    "    num_matches_list = []\n",
    "    freq_matches_list = []\n",
    "    for i,idiom in enumerate(idiom_list):\n",
    "        print(f\"{i:>3}: Testing {color.YELLOW}{idiom:<50}{color.END} | \", end=\"\")\n",
    "        start_time = time.time()\n",
    "        matchList, indexList = testIdiomOnCorpus(corpusTexts, idiom)\n",
    "        end_time = time.time() - start_time\n",
    "        num_matches_list.append(len(matchList))\n",
    "        freq = len(matchList)/corpusSize * 1000000\n",
    "        freq_matches_list.append(freq)\n",
    "        print(f\"{color.DARKCYAN}{end_time:>3.2f} seconds{color.END} | {color.RED}{len(matchList):>4}{color.END} matches ({color.RED}{freq:>6.3f}{color.END} per million words)\")\n",
    "    return num_matches_list, freq_matches_list"
   ]
  },
  {
   "cell_type": "code",
   "execution_count": 9,
   "id": "eddacf0f-6d15-4406-b1e5-cdc9e2f93e2f",
   "metadata": {},
   "outputs": [],
   "source": [
    "def histCorpusMatches(num_matches_list, freq_matches_list, corpusSize, corpusName=\"UNKNOWN\"):\n",
    "    \"\"\"\n",
    "    For a particular corpus, plots histograms of idiom match counts, unnormalized and normalized.\n",
    "\n",
    "    Args:\n",
    "        num_matches_list (list[int]): list of raw idiom match counts\n",
    "        freq_matches_list (list[float]): list of normalized match counts\n",
    "        corpusSize (int): For display purposes, total words in corpus\n",
    "        corpusName (string, optional): For display purposes, name of corpus\n",
    "    \"\"\"\n",
    "    fig, axes = plt.subplots(1,2,figsize=(10,4))\n",
    "    fig.suptitle(f\"Idiom matches in {corpusName} corpus ({corpusSize/1000000:.2f}M words)\")\n",
    "\n",
    "    # Histogram of raw idiom match counts\n",
    "    axes[0].hist(num_matches_list, bins=50, edgecolor=\"black\")\n",
    "    num_matches_mean = sum(num_matches_list)/len(num_matches_list)\n",
    "    axes[0].set_xlabel(\"Matches\")\n",
    "    axes[0].set_ylabel(\"Frequency\")\n",
    "    axes[0].set_title(\"Raw match counts\")\n",
    "    axes[0].grid()\n",
    "    axes[0].axvline(num_matches_mean, color=\"red\", linestyle=\"dashed\")\n",
    "    axes[0].text(num_matches_mean + 0.2 * axes[0].get_xlim()[1], 0.9 * axes[0].get_ylim()[1], f'mean: {num_matches_mean:.2f}', color='red', ha='center')\n",
    "\n",
    "    # Histogram of normalized idiom match counts\n",
    "    axes[1].hist(freq_matches_list, bins=50, edgecolor=\"black\")\n",
    "    freq_matches_mean = sum(freq_matches_list)/len(freq_matches_list)\n",
    "    axes[1].set_xlabel(\"Matches per million words\")\n",
    "    axes[1].set_ylabel(\"Frequency\")\n",
    "    axes[1].set_title(\"Normalized match counts\")\n",
    "    axes[1].grid()\n",
    "    axes[1].axvline(freq_matches_mean, color=\"red\", linestyle=\"dashed\")\n",
    "    axes[1].text(freq_matches_mean + 0.2 * axes[1].get_xlim()[1], 0.9 * axes[1].get_ylim()[1], f'mean: {freq_matches_mean:.2f}', color='red', ha='center')"
   ]
  },
  {
   "cell_type": "markdown",
   "id": "6675808a-c280-40e7-b990-11fbcd95086e",
   "metadata": {
    "jp-MarkdownHeadingCollapsed": true
   },
   "source": [
    "## **Open American National Corpus**"
   ]
  },
  {
   "cell_type": "markdown",
   "id": "7cd47f91-159c-4627-aefd-bf688b290ba5",
   "metadata": {
    "jp-MarkdownHeadingCollapsed": true
   },
   "source": [
    "### Description"
   ]
  },
  {
   "cell_type": "markdown",
   "id": "f8f1f027-778a-49c2-8d56-399a60d51ebe",
   "metadata": {},
   "source": [
    "* [OANC Contents](https://anc.org/data/oanc/contents/#switchboard)\n",
    "* 14.6M words\n",
    "    * 3.2M spoken\n",
    "    * 11.4M written\n",
    "* Spoken text categories:\n",
    "    * Telephone:\n",
    "        * switchboard (3.0M) (transcriptions of many (labeled!) spontaneous conversations)\n",
    "    * Face-to-face:\n",
    "        * charlotte (0.2M) (interviews with residents of a SC county)\n",
    "* Written text categories:\n",
    "    * Journal:\n",
    "        * slate (4.2M) (general magazine)\n",
    "        * verbatim (0.6M) (*linguistics* magazine)\n",
    "    * Technical:\n",
    "        * biomed (3.3M) (academic papers)\n",
    "        * government (1.0M) (conference proceedings)\n",
    "        * plos (0.4M) (academic literature)\n",
    "        * 9/11 report (0.3M) (gov. report on terrorists)\n",
    "    * Travel guides:\n",
    "        * berlitz (1.0M) (travel guides for Americans)\n",
    "    * Letters:\n",
    "        * icic (0.1M) (philanthropic fundraising texts)\n",
    "    * Fiction:\n",
    "        * eggan (0.06M) (single novel)\n",
    "    * Non-fiction:\n",
    "        * oup (0.3M) (various non-fiction pieces from Oxford University Press)"
   ]
  },
  {
   "cell_type": "markdown",
   "id": "e015128e-da69-4f94-ac01-ab59edd00048",
   "metadata": {
    "jp-MarkdownHeadingCollapsed": true
   },
   "source": [
    "### Switchboard corpus"
   ]
  },
  {
   "cell_type": "markdown",
   "id": "12982596-0674-4069-9be7-20fd44319677",
   "metadata": {},
   "source": [
    "Clean data"
   ]
  },
  {
   "cell_type": "code",
   "execution_count": 10,
   "id": "ba7385b2-b7d7-45d6-9c58-7bd4cf217f10",
   "metadata": {},
   "outputs": [],
   "source": [
    "switchboardDir = corporaFolder + \"anc/data/spoken/telephone/switchboard/\""
   ]
  },
  {
   "cell_type": "code",
   "execution_count": 11,
   "id": "07ac7fb2-722b-4a41-91d9-ff3fc92fdee8",
   "metadata": {},
   "outputs": [],
   "source": [
    "def preprocessSwitchboardText(textString):\n",
    "    textString = standardizeQuotes(textString)\n",
    "    textString = removeQuotes(textString)\n",
    "    textString = re.sub(r'\\n\\s*', '. ', textString)\n",
    "    textString = re.sub(r'\\s+', ' ', textString)\n",
    "    textString = re.sub(r'^.? ', '', textString)\n",
    "    textString = re.sub(r' $', '', textString)\n",
    "    textString = textString.lower()\n",
    "    return textString"
   ]
  },
  {
   "cell_type": "code",
   "execution_count": 12,
   "id": "101287db-0c1a-414d-a9d1-7b6bf53e73f9",
   "metadata": {},
   "outputs": [
    {
     "name": "stdout",
     "output_type": "stream",
     "text": [
      "\u001b[1m2904961\u001b[0m words in switchboard corpus\n"
     ]
    }
   ],
   "source": [
    "switchboardTexts = []\n",
    "switchboardDirlist = []\n",
    "for folder in os.listdir(switchboardDir):\n",
    "    folderPath = os.path.join(switchboardDir, folder)\n",
    "    for filename in os.listdir(folderPath):\n",
    "        if filename.endswith(\".txt\"):\n",
    "            filePath = os.path.join(folderPath, filename)\n",
    "            switchboardDirlist.append(filePath)\n",
    "            with open(filePath, 'r', encoding='utf-8') as f:\n",
    "                text = f.read()\n",
    "                text = preprocessSwitchboardText(text)\n",
    "                switchboardTexts.append(text)\n",
    "switchboard_size = calcCorpusSize(switchboardTexts)\n",
    "print(f\"{color.BOLD}{switchboard_size}{color.END} words in switchboard corpus\")"
   ]
  },
  {
   "cell_type": "code",
   "execution_count": 15,
   "id": "d9f53699-0f98-4389-9c53-29a522c09937",
   "metadata": {},
   "outputs": [
    {
     "data": {
      "text/plain": [
       "'okay hi. hi um yeah id like to talk about how you dress for work and and um what do you normally what type of outfit do you normally have to wear. well i work in uh corporate control so we have to dress kind of nice so i usually wear skirts and sweaters in the winter time slacks i guess and in the summer just dresses. um-hum. we cant even well were not even really supposed to wear jeans very often. so it really doesnt vary that much from season to season since the office is kind of you know always the same temperature. and is. right right is there is there um any is there a like a code of dress where you work do they ask. so. not formally. right. but its kind of understood that were supposed to dress a little bit nice a lot of times we have to go over to uh like jerry junkins office and bill ellsworths office to deliver stuff. right. and we prepare a lot of foils for marvin and bill so we have to dress a little bit nice were not. right right and does it does it change i guess um you can can you judge like depending on what you think youll be doing that day. yes now you know if if everybody like in august when everybodys on vacation or something we can dress a little more casual or. right. ice storms of course you know we all came in in our tennis shoes but i guess that would have to do with the weather but um. yes. yeah yeah well it it thats right and it. unless its an extremely you know an unusual day. yeah and it was usually uh also uh where i was it was um in in engineering and and it was it was a casual office there was no formal dress code but. um-hum. um uh usually engineers are expected to to dress you know little more professionally it just in case things would come up during the day sometimes unexpected meetings or a client would come in and wanna see you. yeah. um-hum. right. uh other times it could be very casual if you knew you would be at a desk all day and nobody would see you um. yeah or um-hum what area do you work in. uh well i was i was in a uh private consulting firm so um and uh and uh anyway um right now im im not im not there but but anyway. um. okay. um and season really same season to season um uh it changes with the weather you know uh wear light clothing i guess if its hot out but um. it with the. yeah. but then usually in the summer its cold in the offices because the air conditioners doing its job so well. thats. thats true and and i think also that um the women actually have uh uh you have a little bit more variety maybe maybe lighter cotton clothing in the summer and woolens in the winter whereas the. oh yeah. the men often have to wear shirt and tie no matter right right right what time of what time of the year thats right. it. uh-huh just suits and theres not a whole lot of fabric variance there and they cant have a rayon suit so. thats thats true so um do they were were there um are you allowed to um be casual like if it was summer were were you allowed to wear sandals and those that not really. not really i think i mean its kind of unwritten but i think were supposed to wear hose and and shoes you know most of the people do anyway. right. uh most of the women wear uh most actually most of the women wear suits more than anything else. oh i see uh-huh. but im not in that professional of a position so i dont im not expected to do that. okay and and. and also like the um also the the all the supporting kind of stuff secretaries and clerks and things are they also they have same similar similar yeah. um-hum. yes pretty much im a secretary yeah. yeah ours were ours were different i guess it seemed like they they were much there was much more casual dress although i dont think everybody looked at that you know as a good thing. yeah yeah but theres really no written rule i guess they couldnt write that down that might be discrimination or something i dont know i mean ive never been told what to wear or what not to wear. right. thats thats right. its just you know judging from what everyone else wears is how i determine. yeah. yeah and. you know what i feel a comfortable in you dont wanna stand out too much. thats right. yeah thats true and um hm well thats it. well that pretty much covers the subject well thanks for calling me. yeah i dont know what else what more we can say about that thats. oh its been nice talking to you and i guess we just hang up huh okay all right nice talking to you bye-bye. yep thats all good-bye okay bye.'"
      ]
     },
     "execution_count": 15,
     "metadata": {},
     "output_type": "execute_result"
    }
   ],
   "source": [
    "# Sample text after being cleaned\n",
    "switchboardTexts[0]"
   ]
  },
  {
   "cell_type": "markdown",
   "id": "7b05cd7d-bc2e-4a9b-8408-1943e524ac7d",
   "metadata": {},
   "source": [
    "Test idioms in corpus"
   ]
  },
  {
   "cell_type": "code",
   "execution_count": 16,
   "id": "4f2d05d1-57fd-4d4a-a3e2-f2690a3957b6",
   "metadata": {},
   "outputs": [
    {
     "name": "stdout",
     "output_type": "stream",
     "text": [
      "Testing \u001b[1m27\u001b[0m idioms on \u001b[1mSWITCHBOARD\u001b[0m corpus\n",
      "0: Testing \u001b[1m\\bchip on (\\w+\\s?){1,3}shoulders?\\b\u001b[0m...\t\u001b[1m0\u001b[0m matches (\u001b[1m0.000\u001b[0m per million words)\n",
      "1: Testing \u001b[1m\\blame ducks?\\b\u001b[0m...\t\u001b[1m1\u001b[0m matches (\u001b[1m0.344\u001b[0m per million words)\n",
      "2: Testing \u001b[1m\\baxe to grind\\b\u001b[0m...\t\u001b[1m4\u001b[0m matches (\u001b[1m1.377\u001b[0m per million words)\n",
      "3: Testing \u001b[1m\\bfollows? suit\\b\u001b[0m...\t\u001b[1m1\u001b[0m matches (\u001b[1m0.344\u001b[0m per million words)\n",
      "4: Testing \u001b[1m\\bplay \\w+ card\\b\u001b[0m...\t\u001b[1m0\u001b[0m matches (\u001b[1m0.000\u001b[0m per million words)\n",
      "5: Testing \u001b[1m\\bover (\\w+ ){1,3}heads?\\b\u001b[0m...\t\u001b[1m24\u001b[0m matches (\u001b[1m8.262\u001b[0m per million words)\n",
      "6: Testing \u001b[1m\\blow hanging fruits?\\b\u001b[0m...\t\u001b[1m0\u001b[0m matches (\u001b[1m0.000\u001b[0m per million words)\n",
      "7: Testing \u001b[1m\\bdodg(\\w+) (\\w+ ){0,3}bullets?\\b\u001b[0m...\t\u001b[1m0\u001b[0m matches (\u001b[1m0.000\u001b[0m per million words)\n",
      "8: Testing \u001b[1m\\blead foot\\b\u001b[0m...\t\u001b[1m2\u001b[0m matches (\u001b[1m0.688\u001b[0m per million words)\n",
      "9: Testing \u001b[1m\\btrigger happy\\b\u001b[0m...\t\u001b[1m0\u001b[0m matches (\u001b[1m0.000\u001b[0m per million words)\n",
      "10: Testing \u001b[1m\\bin the cards\\b\u001b[0m...\t\u001b[1m1\u001b[0m matches (\u001b[1m0.344\u001b[0m per million words)\n",
      "11: Testing \u001b[1m\\bsilver linings?\\b\u001b[0m...\t\u001b[1m0\u001b[0m matches (\u001b[1m0.000\u001b[0m per million words)\n",
      "12: Testing \u001b[1m\\bon paper\\b\u001b[0m...\t\u001b[1m14\u001b[0m matches (\u001b[1m4.819\u001b[0m per million words)\n",
      "13: Testing \u001b[1m\\bskin of (\\w+ ){1,3}teeth\\b\u001b[0m...\t\u001b[1m0\u001b[0m matches (\u001b[1m0.000\u001b[0m per million words)\n",
      "14: Testing \u001b[1m\\bsplit(\\w*) hairs?\\b\u001b[0m...\t\u001b[1m0\u001b[0m matches (\u001b[1m0.000\u001b[0m per million words)\n",
      "15: Testing \u001b[1m\\bcats? out of the bags?\\b\u001b[0m...\t\u001b[1m0\u001b[0m matches (\u001b[1m0.000\u001b[0m per million words)\n",
      "16: Testing \u001b[1m\\ball bark no bite\\b\u001b[0m...\t\u001b[1m0\u001b[0m matches (\u001b[1m0.000\u001b[0m per million words)\n",
      "17: Testing \u001b[1m\\bcards on the tables?\\b\u001b[0m...\t\u001b[1m0\u001b[0m matches (\u001b[1m0.000\u001b[0m per million words)\n",
      "18: Testing \u001b[1m\\bburn (\\w+ ){1,3}bridges?\\b\u001b[0m...\t\u001b[1m0\u001b[0m matches (\u001b[1m0.000\u001b[0m per million words)\n",
      "19: Testing \u001b[1m\\b(6|six) \\w+ one,? (\\w+ ){0,3}half(-| )dozen\\b\u001b[0m...\t\u001b[1m0\u001b[0m matches (\u001b[1m0.000\u001b[0m per million words)\n",
      "20: Testing \u001b[1m\\bmade of money\\b\u001b[0m...\t\u001b[1m0\u001b[0m matches (\u001b[1m0.000\u001b[0m per million words)\n",
      "21: Testing \u001b[1m\\brains? on (\\w+ ){1,3}parades?\\b\u001b[0m...\t\u001b[1m1\u001b[0m matches (\u001b[1m0.344\u001b[0m per million words)\n",
      "22: Testing \u001b[1m\\bfish(\\w+) or cuts? bait\\b\u001b[0m...\t\u001b[1m0\u001b[0m matches (\u001b[1m0.000\u001b[0m per million words)\n",
      "23: Testing \u001b[1m\\bcr(y|i)(\\w*) over spilled milk\\b\u001b[0m...\t\u001b[1m0\u001b[0m matches (\u001b[1m0.000\u001b[0m per million words)\n",
      "24: Testing \u001b[1m\\bchopped liver\\b\u001b[0m...\t\u001b[1m0\u001b[0m matches (\u001b[1m0.000\u001b[0m per million words)\n",
      "25: Testing \u001b[1m\\bdrops? of (\\w+ ){1,3}hats?\\b\u001b[0m...\t\u001b[1m1\u001b[0m matches (\u001b[1m0.344\u001b[0m per million words)\n",
      "26: Testing \u001b[1m\\bpigs? fl(y|i)\\w*\\b\u001b[0m...\t\u001b[1m0\u001b[0m matches (\u001b[1m0.000\u001b[0m per million words)\n"
     ]
    }
   ],
   "source": [
    "switchboard_results = testCorpus(switchboardTexts, idiom_list, \"SWITCHBOARD\")"
   ]
  },
  {
   "cell_type": "code",
   "execution_count": 17,
   "id": "c817b58c-50ec-4ffa-a300-ccebb802b9f6",
   "metadata": {},
   "outputs": [
    {
     "data": {
      "image/png": "[encoded data removed]",
      "text/plain": [
       "<Figure size 1000x400 with 2 Axes>"
      ]
     },
     "metadata": {},
     "output_type": "display_data"
    }
   ],
   "source": [
    "histCorpusMatches(*switchboard_results, switchboard_size, corpusName=\"SWITCHBOARD\")"
   ]
  },
  {
   "cell_type": "markdown",
   "id": "e3ae229a-18b7-48f1-979c-94dd028e0852",
   "metadata": {
    "jp-MarkdownHeadingCollapsed": true
   },
   "source": [
    "### Slate corpus"
   ]
  },
  {
   "cell_type": "code",
   "execution_count": 13,
   "id": "eb86c4cc-5afc-420f-b977-49e76e7f1143",
   "metadata": {},
   "outputs": [],
   "source": [
    "slateDir = corporaFolder + \"anc/data/written_1/journal/slate/\""
   ]
  },
  {
   "cell_type": "code",
   "execution_count": 14,
   "id": "edbaa606-d89b-4378-85cb-b2ee3073358c",
   "metadata": {},
   "outputs": [],
   "source": [
    "def preprocessSlateText(textString):\n",
    "    textString = standardizeQuotes(textString)\n",
    "    textString = removeQuotes(textString)\n",
    "    textString = re.sub(r'\\s*\\n\\s*\\n\\s*', '. ', textString)\n",
    "    textString = re.sub(r'\\.\\.', '.', textString)\n",
    "    textString = re.sub(r'\\s+', ' ', textString)\n",
    "    textString = re.sub(r'^\\s*.?\\s*', '', textString)\n",
    "    textString = re.sub(r'\\s*$', '', textString)\n",
    "    textString = re.sub(r' ,', ',', textString)\n",
    "    textString = re.sub(r' \\.', '.', textString)\n",
    "    textString = textString.lower()\n",
    "    return textString"
   ]
  },
  {
   "cell_type": "code",
   "execution_count": 15,
   "id": "b0a91790-2b2f-45d1-a05d-03d7248d7cb8",
   "metadata": {},
   "outputs": [
    {
     "name": "stdout",
     "output_type": "stream",
     "text": [
      "\u001b[1m4179920\u001b[0m words in slate corpus\n"
     ]
    }
   ],
   "source": [
    "slateTexts = []\n",
    "slateDirlist = []\n",
    "for folder in os.listdir(slateDir):\n",
    "    folderPath = os.path.join(slateDir, folder)\n",
    "    for filename in os.listdir(folderPath):\n",
    "        if filename.endswith(\".txt\"):\n",
    "            filePath = os.path.join(folderPath, filename)\n",
    "            slateDirlist.append(filePath)\n",
    "            with open(filePath, 'r', encoding='utf-8') as f:\n",
    "                text = f.read()\n",
    "                text = preprocessSlateText(text)\n",
    "                slateTexts.append(text)\n",
    "slate_size = calcCorpusSize(slateTexts)\n",
    "print(f\"{color.BOLD}{slate_size}{color.END} words in slate corpus\")"
   ]
  },
  {
   "cell_type": "code",
   "execution_count": 20,
   "id": "0a197c04-b1f7-4a59-8e54-1ae527923e70",
   "metadata": {},
   "outputs": [
    {
     "data": {
      "text/plain": [
       "'harmonic convergences. youre right, maxims strong point is that its totally unsentimental and ungenteel. its a sendup of the old model, but in a different way than, say, hustler was, and the difference (surprise) reflects the sexual culture of the 90s. with its belligerent grossness and misogyny, hustler rebelled against the establishment mens mags class condescension, the earnest philosophizing about the sexual revolution, the thinking mens sex bomb syndrome, at the same time that it was deliberately goading feminists. it came right out with the anger that the regular mens mags tried to hide. maxim pokes fun at its progenitors but with considerable ironic affection. its not angry. in fact, while its fondness for the most idiotic, juvenile humor knows no bounds, any strong emotion is taboo (unless you count horror at having your penis mangled)--thats part of the british influence, i guess. and feminism isnt an issue, at least not directly--partly because its basic ideas have been assimilated and are taken for granted, partly because politics in general and feminism in particular barely exist in the consciousness of maxims age group. (whereas gear, which retains certain elements of the old mens mag ethos, and the old hostility--and not incidentally runs somewhat longer articles--does worry about and argue with feminism, as in its recent piece on sexual repression in the military, in which it is argued, after a fashion, that 1) we cant suppress male soldiers urge to rape and harass women without suppressing the urge to kill thats the militarys reason for being, 2) sexual harassment crusades interfere with womens equality, 3) women soldiers arent mens equals anyway, and 4) why do we need women in the military in the first place?). another thing ive noticed is that the trajectory of the new mens magazines and that of contemporary womens magazines seem to be converging, at least compared with 20 years ago. there used to be an enormous gulf between the sense of entitlement to the good things of life, including women, that pervaded the mens mags and womens anxious obsession with self-improvement in order to be worthy of male attention. in young womens magazines now, cosmo being the paradigm, theres a much more bluntly instrumental, male attitude toward getting sex of the quantity and quality desired. beauty is as central a preoccupation as ever, if anything more so, but the preoccupation has much more of a narcissistic, self-pampering quality and less of a desperation to make up for some irrecoverable, primal imperfection. in the mens magazines, theres much more of a sense that if you want women to give you the time of day, you have to make some effort to find out what they want and give it to them. in the old model, if men needed advice on women or sex, they got it from a male expert like the playboy advisor. now maxim features advice from women on such matters as how not to give the wrong impression on a first date. on the other hand, men still dont like to express anxiety directly--id guess that part of the reason mens mags have gotten sillier is that theyve seized on mens time-honored method of covering up insecurity by clowning around. regarding your suggestion that these magazines give men a safe place to be together without their heterosexuality being questioned: that sounds like more of a hope (on their part) than a reality. because its ultimately self-doubt that really matters, no place can really be safe--hence the need to escalate the jokes.'"
      ]
     },
     "execution_count": 20,
     "metadata": {},
     "output_type": "execute_result"
    }
   ],
   "source": [
    "# Sample of cleaned data\n",
    "slateTexts[0]"
   ]
  },
  {
   "cell_type": "code",
   "execution_count": 21,
   "id": "bbe8a7f6-ec1b-4739-8628-e13d9049989d",
   "metadata": {},
   "outputs": [
    {
     "name": "stdout",
     "output_type": "stream",
     "text": [
      "Testing \u001b[1m27\u001b[0m idioms on \u001b[1mSLATE\u001b[0m corpus\n",
      "0: Testing \u001b[1m\\bchip on (\\w+\\s?){1,3}shoulders?\\b\u001b[0m...\t\u001b[1m1\u001b[0m matches (\u001b[1m0.239\u001b[0m per million words)\n",
      "1: Testing \u001b[1m\\blame ducks?\\b\u001b[0m...\t\u001b[1m20\u001b[0m matches (\u001b[1m4.785\u001b[0m per million words)\n",
      "2: Testing \u001b[1m\\baxe to grind\\b\u001b[0m...\t\u001b[1m0\u001b[0m matches (\u001b[1m0.000\u001b[0m per million words)\n",
      "3: Testing \u001b[1m\\bfollows? suit\\b\u001b[0m...\t\u001b[1m13\u001b[0m matches (\u001b[1m3.110\u001b[0m per million words)\n",
      "4: Testing \u001b[1m\\bplay \\w+ card\\b\u001b[0m...\t\u001b[1m0\u001b[0m matches (\u001b[1m0.000\u001b[0m per million words)\n",
      "5: Testing \u001b[1m\\bover (\\w+ ){1,3}heads?\\b\u001b[0m...\t\u001b[1m30\u001b[0m matches (\u001b[1m7.177\u001b[0m per million words)\n",
      "6: Testing \u001b[1m\\blow hanging fruits?\\b\u001b[0m...\t\u001b[1m1\u001b[0m matches (\u001b[1m0.239\u001b[0m per million words)\n",
      "7: Testing \u001b[1m\\bdodg(\\w+) (\\w+ ){0,3}bullets?\\b\u001b[0m...\t\u001b[1m3\u001b[0m matches (\u001b[1m0.718\u001b[0m per million words)\n",
      "8: Testing \u001b[1m\\blead foot\\b\u001b[0m...\t\u001b[1m0\u001b[0m matches (\u001b[1m0.000\u001b[0m per million words)\n",
      "9: Testing \u001b[1m\\btrigger happy\\b\u001b[0m...\t\u001b[1m0\u001b[0m matches (\u001b[1m0.000\u001b[0m per million words)\n",
      "10: Testing \u001b[1m\\bin the cards\\b\u001b[0m...\t\u001b[1m3\u001b[0m matches (\u001b[1m0.718\u001b[0m per million words)\n",
      "11: Testing \u001b[1m\\bsilver linings?\\b\u001b[0m...\t\u001b[1m12\u001b[0m matches (\u001b[1m2.871\u001b[0m per million words)\n",
      "12: Testing \u001b[1m\\bon paper\\b\u001b[0m...\t\u001b[1m74\u001b[0m matches (\u001b[1m17.704\u001b[0m per million words)\n",
      "13: Testing \u001b[1m\\bskin of (\\w+ ){1,3}teeth\\b\u001b[0m...\t\u001b[1m0\u001b[0m matches (\u001b[1m0.000\u001b[0m per million words)\n",
      "14: Testing \u001b[1m\\bsplit(\\w*) hairs?\\b\u001b[0m...\t\u001b[1m4\u001b[0m matches (\u001b[1m0.957\u001b[0m per million words)\n",
      "15: Testing \u001b[1m\\bcats? out of the bags?\\b\u001b[0m...\t\u001b[1m0\u001b[0m matches (\u001b[1m0.000\u001b[0m per million words)\n",
      "16: Testing \u001b[1m\\ball bark no bite\\b\u001b[0m...\t\u001b[1m0\u001b[0m matches (\u001b[1m0.000\u001b[0m per million words)\n",
      "17: Testing \u001b[1m\\bcards on the tables?\\b\u001b[0m...\t\u001b[1m2\u001b[0m matches (\u001b[1m0.478\u001b[0m per million words)\n",
      "18: Testing \u001b[1m\\bburn (\\w+ ){1,3}bridges?\\b\u001b[0m...\t\u001b[1m0\u001b[0m matches (\u001b[1m0.000\u001b[0m per million words)\n",
      "19: Testing \u001b[1m\\b(6|six) \\w+ one,? (\\w+ ){0,3}half(-| )dozen\\b\u001b[0m...\t\u001b[1m0\u001b[0m matches (\u001b[1m0.000\u001b[0m per million words)\n",
      "20: Testing \u001b[1m\\bmade of money\\b\u001b[0m...\t\u001b[1m0\u001b[0m matches (\u001b[1m0.000\u001b[0m per million words)\n",
      "21: Testing \u001b[1m\\brains? on (\\w+ ){1,3}parades?\\b\u001b[0m...\t\u001b[1m0\u001b[0m matches (\u001b[1m0.000\u001b[0m per million words)\n",
      "22: Testing \u001b[1m\\bfish(\\w+) or cuts? bait\\b\u001b[0m...\t\u001b[1m0\u001b[0m matches (\u001b[1m0.000\u001b[0m per million words)\n",
      "23: Testing \u001b[1m\\bcr(y|i)(\\w*) over spilled milk\\b\u001b[0m...\t\u001b[1m0\u001b[0m matches (\u001b[1m0.000\u001b[0m per million words)\n",
      "24: Testing \u001b[1m\\bchopped liver\\b\u001b[0m...\t\u001b[1m0\u001b[0m matches (\u001b[1m0.000\u001b[0m per million words)\n",
      "25: Testing \u001b[1m\\bdrops? of (\\w+ ){1,3}hats?\\b\u001b[0m...\t\u001b[1m0\u001b[0m matches (\u001b[1m0.000\u001b[0m per million words)\n",
      "26: Testing \u001b[1m\\bpigs? fl(y|i)\\w*\\b\u001b[0m...\t\u001b[1m1\u001b[0m matches (\u001b[1m0.239\u001b[0m per million words)\n"
     ]
    }
   ],
   "source": [
    "slate_results = testCorpus(slateTexts, idiom_list, \"SLATE\")"
   ]
  },
  {
   "cell_type": "code",
   "execution_count": 22,
   "id": "9a32aefd-21c5-4d07-a379-b1c0d9ffd957",
   "metadata": {},
   "outputs": [
    {
     "data": {
      "image/png": "[encoded data removed]",
      "text/plain": [
       "<Figure size 1000x400 with 2 Axes>"
      ]
     },
     "metadata": {},
     "output_type": "display_data"
    }
   ],
   "source": [
    "histCorpusMatches(*slate_results, slate_size, corpusName=\"SLATE\")"
   ]
  },
  {
   "cell_type": "markdown",
   "id": "c186c843-58bc-4991-9ecf-2209ea22a0cc",
   "metadata": {
    "jp-MarkdownHeadingCollapsed": true
   },
   "source": [
    "### Biomed corpus"
   ]
  },
  {
   "cell_type": "code",
   "execution_count": 16,
   "id": "ed9dff6e-8d1c-48e6-9800-5c243666561c",
   "metadata": {},
   "outputs": [],
   "source": [
    "biomedDir = corporaFolder + \"anc/data/written_2/technical/biomed/\""
   ]
  },
  {
   "cell_type": "code",
   "execution_count": 17,
   "id": "22de1826-da38-4632-91b2-d1db395cf8f1",
   "metadata": {},
   "outputs": [],
   "source": [
    "def preprocessBiomedText(textString):\n",
    "    textString = standardizeQuotes(textString)\n",
    "    textString = removeQuotes(textString)\n",
    "    textString = re.sub(r'\\[[\\s\\d]*\\]', '', textString) # Lots of citations \"[ 1 3 4 7]\" which we remove\n",
    "    textString = re.sub(r'\\s+', ' ', textString)\n",
    "    textString = re.sub(r'^\\s*', '', textString)\n",
    "    textString = re.sub(r'\\s*$', '', textString)\n",
    "    textString = re.sub(r' ,', ',', textString)\n",
    "    textString = re.sub(r' \\.', '.', textString)\n",
    "    textString = textString.lower()\n",
    "    return textString"
   ]
  },
  {
   "cell_type": "code",
   "execution_count": 18,
   "id": "33f582d0-5649-421e-8913-848676678c39",
   "metadata": {},
   "outputs": [
    {
     "name": "stdout",
     "output_type": "stream",
     "text": [
      "\u001b[1m3318142\u001b[0m words in biomed corpus\n"
     ]
    }
   ],
   "source": [
    "biomedTexts = []\n",
    "biomedDirlist = []\n",
    "for filename in os.listdir(biomedDir):\n",
    "    if filename.endswith(\".txt\"):\n",
    "        filePath = os.path.join(biomedDir, filename)\n",
    "        biomedDirlist.append(filePath)\n",
    "        with open(filePath, 'r', encoding='utf-8') as f:\n",
    "            text = f.read()\n",
    "            text = preprocessBiomedText(text)\n",
    "            biomedTexts.append(text)\n",
    "biomed_size = calcCorpusSize(biomedTexts)\n",
    "print(f\"{color.BOLD}{biomed_size}{color.END} words in biomed corpus\")"
   ]
  },
  {
   "cell_type": "code",
   "execution_count": 26,
   "id": "68344ddb-d207-4a87-b64d-0f51e1aa6e59",
   "metadata": {
    "scrolled": true
   },
   "outputs": [
    {
     "data": {
      "text/plain": [
       "'introduction older adults are frequently counseled to lose weight, even though there is little evidence that overweight is associated with increased mortality in those over age 65. six large controlled population-based studies of non-smoking older adults have investigated the association between body mass index (bmi) and mortality, controlling for relevant covariates. all studies found excess risk for persons with very low bmi, but that persons with moderately high bmi had little or no extra risk except in certain small subsets. a review of 13 studies of older adults drew similar conclusions. many healthy older adults report gradual weight gain throughout adult life. it may be that a small amount of gradual weight gain is normative and associated with the most robust health as we age. it has been suggested that weight standards be adjusted upwards for age. such recommendations remain controversial, however, because the number of studies of older persons is fairly small, and because few studies have examined the relation of bmi to quality of life or years of healthy life (yhl) in the elderly. in older adults, risk factors may have a greater effect on health than on mortality. if so, then behavior change trials of weight modification might be more successful if they were evaluated on improved health, rather than on decreased mortality. clinical trials powered to detect differences in yhl would often require fewer subjects than trials to detect survival differences or cardiovascular events. in this paper we study whether bmi at baseline is associated with living longer, and/or with more years of being healthy, in a cohort of older adults for whom risk factors, subclinical disease, and morbidity are well characterized. the goal is to determine whether analyses based on years of life (yol) or on yhl would provide substantively different results, and which measure would yield more powerful evaluations of weight modification interventions in older adults. materials and methods study design: the cardiovascular health study the cardiovascular health study (chs) is a population-based longitudinal study of 5,888 adults aged 65 and older at baseline. subjects were recruited from a random sample of the medicare eligibility lists in four us counties. extensive baseline data were collected for all subjects using a baseline home interview, an annual mail questionnaire, and annual clinic examinations. additional information was collected in a brief telephone interview 6 months after each scheduled visit. two cohorts were followed, one with 7 years of follow-up (n = 5,201) and the second (all african american, n = 687) with 4 years of follow-up to date. data collection began in 1989, and follow-up is virtually complete for all surviving subjects. body mass index bmi was calculated as measured weight in kilograms divided by the square of measured height in meters. a report from the national heart lung and blood institute classifies normal weight (without reference to age) as a bmi of 18.5 to 24.9; overweight as 25 to 29.9; and obesity as 30.0 and higher. we consider separately the group with bmi between 18.5 and 20, which was associated with lower survival in studies cited above. years of life and years of healthy life yol is the number of years that a person lived in the 7 years after baseline. yhl is the number of years in which the person was healthy, and is similar in concept to quality-adjusted life-years, healthy year equivalents, or active life expectancy. we based yhl on self-rated health (is your health excellent, very good, good, fair, or poor?) (evgfp) which was collected every 6 months. evgfp is a simple but well-known measure, which has been studied in detail, and is predictive of health events in many studies. because we are examining health status over time, we added a sixth health state, dead. data were available about 93% of the time. we used linear interpolation to estimate missing data when there were known values before and after the missing value, bringing the percent complete to 95%. for this analysis we defined yhl as the number of years (of 7) in which a person reported excellent, very good, or good health (were healthy). yhl ranges from 0 (for persons who were never in excellent, very good, or good health) to 7 years (for persons who were healthy throughout). since people reported their health every 6 months, yhl has a reasonably continuous distribution. a drawback of this simple definition of healthy is that it does not distinguish between fair or poor health and death, since all are considered not healthy. we also used an alternative approach, which assigns a different value to each level of evgfp. preliminary results were similar for the two approaches, however, and we report results using only the simpler definition. the calculations had to be modified to include the 438 persons in the second african american cohort, who have been followed only 4 years to date. for those persons, and for 70 persons in the first cohort who did not have complete data, we estimated the last 4 years of yol and yhl from their age, sex, and health at the end of 3 years, using validated methods presented elsewhere. that article showed that estimated 4-year yol and yhl were unbiased for the african american cohort. in the primary analysis we used observed 7-year yol and yhl when they were available, and observed 3-year yol and yhl plus 4-year estimated yol and yhl when they were not (about 10% of the sample). we performed all analyses with and without the persons who had partially estimated data, to ensure that the estimation had not distorted the findings. covariates the goal is to examine the association of yol and yhl with bmi. to adjust for possible confounding we chose baseline covariates that were prevalent in the elderly, related to mortality and morbidity in previous studies, and likely to be related to bmi. self-reported covariates include age, gender, smoking (never or former), history of arthritis, cancer, diabetes, fair or poor self-rated health status, limitations in activities of daily living or in instrumental activities of daily living, and 10 pounds or more unintended weight loss in the year before baseline. clinical covariates include hypertension, cardiovascular disease (prevalent heart disease, peripheral vascular disease, or cerebrovascular disease), maximum thickness of the internal carotid artery, depression (cesd score), serum albumin, serum cholesterol, and serum creatinine. these measures are explained in more detail elsewhere. we excluded 697 current smokers and 313 others with incomplete covariate data, leaving 4,878 persons on whom this analysis is based. analysis all analyses were performed separately for men and women. we calculated two sets of adjusted values, as follows. we regressed yol and yhl first on age, age squared, race, and smoking history (former or never), and second on all of the covariates listed above. we calculated adjusted yol as a persons observed yol minus predicted yol (from the regression) plus the mean yol (6.52 years for women or 6.06 for men). that is, a persons adjusted yol is his residual from the regression plus the grand mean. the mean of this new variable, for a group of subjects, is the adjusted mean yol for that group. adjusted yhl was calculated in a similar manner. we calculated two sets of adjusted variables because of the possibility of over-adjustment, controlling inappropriately for factors (such as diabetes) which may have been causally affected by the persons weight. we plotted mean adjusted yol and yhl against bmi, and tested for difference among bmi groups using confidence intervals or analysis of variance. finally we calculated the effect size for each measure, comparing each bmi subgroup to the normal group. the effect size is the difference in mean yol (or yhl) in two groups divided by their common standard deviation. since the sample size required to detect an effect of this magnitude is proportional to the inverse of the squared effect size, large effect sizes are desirable. results table 1shows the distribution of key variables by sex and race. mean age at baseline was 73.1 and about two thirds of the men and a third of the women were former smokers. black women had a higher mean bmi and higher percent obese (bmi ≥ 30) than the other three groups. black men were most likely to have unintentionally lost more than 10 pounds in the past year; white women were least likely. about 78% of the subjects were healthy at baseline, declining to 57% at the end of 7 years; 20% had died (data not shown). of the 22% who were unhealthy (fair or poor) at baseline, about 24% were healthy 7 years later. there was thus substantial change in evgfp over time, in both directions. table 1shows the mean yol and yhl (calculated from evgfp) in the first seven years of the study, adjusted to age 73. for example, black women averaged 6.3 yol, but only 4.2 yhl of a maximum possible 7. we calculated some additional descriptive statistics, shown in the final two lines: years of unhealthy life (yol minus yhl) and years lost to death (7 minus yol). white women had the most yhl and black men the fewest; black women had the most years of unhealthy life, and white men the fewest; black men lost the most years to death (1.3 out of 7) while white women lost only 0.4 years. for blacks, about 68% of their yol were healthy (yhl/yol, not shown); for whites, about 75% were healthy. among whites, the gender differences in table 1were statistically significant (p <.05) except for bmi and unintended weight loss. among blacks, gender differences were significant except for 10 pounds unintended weight loss and weight loss since age 50. among males, there were significant differences between black and white for bmi, unintended weight loss, yol, yhl, years of unhealthy life, and years lost to death. whites in the sample had higher income and education (data not shown). after adjusting for income and education, as well as age and former smoking, the difference in bmi was no longer statistically significant. among females, blacks and whites differed significantly on bmi, bmi>30, weight loss since age 50, yol, yhl, years of unhealthy life, and years lost to death. after adjustment for income and education, the difference in weight loss since age 50 was no longer significant. blacks had significantly lower yol and yhl than whites after adjustment for age, but the difference disappeared after adjustment for the entire set of health-related baseline covariates (analyses not shown). we next examined the relationship of bmi to yol and yhl. table 2presents the mean values of yol and yhl, adjusted for age, race, and previous smoking (columns 1 and 3), and also adjusted for the entire set of covariates (columns 2 and 4). for example, yol for women, adjusted for age, race, and smoking, averaged 6.0 years for women with a baseline bmi below 18.5, but averaged 6.6 years for women with a bmi from 25 to 29.9. the second column, which shows results adjusted for all covariates, is not very different (the only discrepancy is for men with bmi < 18.5, a category containing only 14 men). adjustment for extensive covariates also made little difference for yhl (columns 3 and 4). subsequent analyses are adjusted only for age, race, and former smoking. as mentioned above, the group with bmi from 18.5 to 20 would be considered normal by the nhlbi guidelines, but had lower yol and yhl than those with 20-24.9 in all comparisons. for this reason, and to increase sample size for those with low bmi, we combined the two lower categories, defining underweight as a bmi under 20. figure 1is a plot of adjusted yol and yhl by sex and bmi. for each bmi category the mean and its 95% confidence interval are plotted. categories whose confidence intervals do not overlap, or overlap only slightly, are significantly different. the bars are slightly offset to permit all error bars to be seen. yol for women (the uppermost curve on figure 1) averaged about 6.5 out of 7 years, and showed no evident association between bmi and yol for bmi above 20. underweight women averaged about.25 fewer yol than other women (p <.05 compared with normal group). underweight men also had lower yol, but this group was not significantly different from the normal group, in part because of low sample size. men classified as normal, overweight or obese all had about the same yol. the lowermost two lines in figure 1show mean yhl for women and men. women who were normal or overweight averaged about 4.9 yhl. the yhl for underweight or obese women was about 4.5 years, which was significantly lower than the normal group. the relationship of bmi to yhl for men is similar, but differences among bmi groups were not statistically significant. yhl was significantly higher for women than for men in the normal and overweight groups, but the sexes had similar yhl in the underweight and obese groups. we next present the effect size for comparing each group to the normal bmi group. the effect sizes are shown in table 3, with the significance results of the associated t-tests for the differences in means of the two groups being compared. for example, underweight women averaged 4.50 yhl compared to 4.92 for normal women, and the common standard deviation was 1.44. the effect size is thus (4.92-4.50)/1.44 =.29. the two groups had significantly different yhl, implying that the effect size is also significantly greater than zero. a clinical trial of a treatment to help underweight women achieve normal weight (presumably by addressing the underlying cause) could be expected to have 80% power with n = (1.96+.84) 2/.29 2= about 93 women per treatment arm, if 7-year yhl were the outcome measure. the biggest effect sizes are in the first row, comparing underweight to normal. yhl and yol have similar effect sizes for women, and are significantly different from zero. the effect sizes are not significantly different from zero for men, in part because there were only 42 men in the underweight category. the effect size comparing overweight to normal yielded small, non-significant effect sizes, with inconsistent signs, suggesting extremely large sample sizes would be needed. for comparing obese to normal, only yhl for women showed a large and significant effect size. thus, an intervention to improve the health of underweight women to that of their normal weight peers could be performed using either yhl or yol as the outcome variable. trials to make obese women comparable to normal women could be evaluated using yhl, but not yol. trials to improve the health of the other groups to that of the normals would probably be fruitless since there is no evidence that being overweight (for men or women) or obese (for men) affects yol or yhl. as mentioned above, we repeated these analyses excluding the persons with partially estimated data, and using two different ways of coding yhl. the only substantive change was that some of the differences between blacks and whites shown in table 1were no longer statistically significant, due to a smaller sample size. discussion optimal weight and overweight recent studies have defined obesity without reference to age. andres et al proposed a desirable bmi of 24-30 for persons aged 60 to 69. allison et al proposed 27-30 for older men and 30-35 for older women. in figure 1, the overweight (as opposed to the obese) are no different from those of normal weight, suggesting that these two categories could be combined for older adults. since future improvements in life expectancy may be limited, the greatest advances may be made by improving peoples yhl. this suggests that the development of future guidelines should take yhl or other measures of quality of life into account. implications for clinical trials based on these findings, trials to address obesity in older women could be efficient if yhl (but not yol) was the outcome measure. that is, women who changed from being obese to being normal would likely show changes in yhl, but not yol. clinical trials of weight modification interventions for older adults who were merely overweight would appear to be fruitless since the interventions would probably not have a direct effect on either yol or yhl. weight or weight change are sometimes used as the outcome in evaluations of interventions such as diet or exercise programs. the fact that weight is not associated in a consistent way with health suggests that such evaluations should be considered critically when older adults are the subjects. this is particularly important in the light of recent findings, which found that interventions such as weight-loss drugs may be harmful. for older adults, the risks associated with higher weight are especially unclear, and the optimal outcome for a trial of weight loss in older adults requires specific attention to improved health and mortality. interestingly, the strongest health relationships were found for underweight older adults. clinical trials whose objective was to make the underweight as healthy as their normal-weight peers (presumably by addressing the underlying conditions that caused the low weight) could be performed efficiently using either yol or yhl as the outcome measure. both yol and yhl would be clinically significant in this patient group. potential limitations chs participants were somewhat healthier than the average older adult; however, adjustment for detailed covariates made little difference in the findings. we estimated the last four years of health data for about 10% of the sample, but results with and without this group were similar. analysis of mean yol instead of the more traditional survival analysis survival analysis was appropriate here, since virtually no persons were lost to follow-up. biases caused by over-adjustment are probably not large, since the findings were not sensitive to the number of variables adjusted for. these results are for a 7-year follow-up. the relative superiority of yhl to yol would probably hold in trials with shorter follow-up. the effect sizes in table 3might also be appropriate in shorter trials, since lengthy trials often add little information. evgfp, on which yhl was based, might have missed some effects of obesity on risk factors for future health. a person who is depressed because of a poor self-image related to obesity or who has osteo-arthritis related to obesity and limits to activities to successfully avoid pain would surely have worse evgfp than others, based on results from many studies. however, health measures designed specifically to measure those conditions might be more sensitive to change in weight than evgfp. if yhl were based on such measures, the superiority of yhl to yol would likely be even greater than that shown here. these more sensitive measures might also have detected differences between the overweight and normal weight persons, but we think this is unlikely given the absence of any differences in evgfp. conclusion recommendations for desirable weight have been criticized for emphasizing mortality rather than health. we found associations between yhl and obesity that were not present in the mortality analysis, suggesting that yhl may be a more sensitive measure of the burden of obesity in older adults, especially for women. future efforts to determine desirable weight guidelines should include measures of yhl. using either yol or yhl, however, we found no excess risk for older adults who would be classified as overweight by the nhlbi guidelines. this suggests using yhl as the outcome measure in clinical trials involving obese or underweight older adults, and discouraging trials that address older adults who are merely overweight. competing interests none declared abbreviations bmi body mass index cesd center for epidemiologic studies depression scale chs cardiovascular health study evgfp is your health excellent, very good, good, fair or poor? qaly quality-adjusted life years yhl years of healthy life yol years of life'"
      ]
     },
     "execution_count": 26,
     "metadata": {},
     "output_type": "execute_result"
    }
   ],
   "source": [
    "# Sample of cleaned biomed text\n",
    "biomedTexts[0]"
   ]
  },
  {
   "cell_type": "code",
   "execution_count": 27,
   "id": "870060e7-e195-4443-b9ab-24b935b785f4",
   "metadata": {},
   "outputs": [
    {
     "name": "stdout",
     "output_type": "stream",
     "text": [
      "Testing \u001b[1m27\u001b[0m idioms on \u001b[1mBIOMED\u001b[0m corpus\n",
      "0: Testing \u001b[1m\\bchip on (\\w+\\s?){1,3}shoulders?\\b\u001b[0m...\t\u001b[1m0\u001b[0m matches (\u001b[1m0.000\u001b[0m per million words)\n",
      "1: Testing \u001b[1m\\blame ducks?\\b\u001b[0m...\t\u001b[1m0\u001b[0m matches (\u001b[1m0.000\u001b[0m per million words)\n",
      "2: Testing \u001b[1m\\baxe to grind\\b\u001b[0m...\t\u001b[1m0\u001b[0m matches (\u001b[1m0.000\u001b[0m per million words)\n",
      "3: Testing \u001b[1m\\bfollows? suit\\b\u001b[0m...\t\u001b[1m0\u001b[0m matches (\u001b[1m0.000\u001b[0m per million words)\n",
      "4: Testing \u001b[1m\\bplay \\w+ card\\b\u001b[0m...\t\u001b[1m0\u001b[0m matches (\u001b[1m0.000\u001b[0m per million words)\n",
      "5: Testing \u001b[1m\\bover (\\w+ ){1,3}heads?\\b\u001b[0m...\t\u001b[1m1\u001b[0m matches (\u001b[1m0.301\u001b[0m per million words)\n",
      "6: Testing \u001b[1m\\blow hanging fruits?\\b\u001b[0m...\t\u001b[1m0\u001b[0m matches (\u001b[1m0.000\u001b[0m per million words)\n",
      "7: Testing \u001b[1m\\bdodg(\\w+) (\\w+ ){0,3}bullets?\\b\u001b[0m...\t\u001b[1m0\u001b[0m matches (\u001b[1m0.000\u001b[0m per million words)\n",
      "8: Testing \u001b[1m\\blead foot\\b\u001b[0m...\t\u001b[1m0\u001b[0m matches (\u001b[1m0.000\u001b[0m per million words)\n",
      "9: Testing \u001b[1m\\btrigger happy\\b\u001b[0m...\t\u001b[1m0\u001b[0m matches (\u001b[1m0.000\u001b[0m per million words)\n",
      "10: Testing \u001b[1m\\bin the cards\\b\u001b[0m...\t\u001b[1m0\u001b[0m matches (\u001b[1m0.000\u001b[0m per million words)\n",
      "11: Testing \u001b[1m\\bsilver linings?\\b\u001b[0m...\t\u001b[1m0\u001b[0m matches (\u001b[1m0.000\u001b[0m per million words)\n",
      "12: Testing \u001b[1m\\bon paper\\b\u001b[0m...\t\u001b[1m0\u001b[0m matches (\u001b[1m0.000\u001b[0m per million words)\n",
      "13: Testing \u001b[1m\\bskin of (\\w+ ){1,3}teeth\\b\u001b[0m...\t\u001b[1m0\u001b[0m matches (\u001b[1m0.000\u001b[0m per million words)\n",
      "14: Testing \u001b[1m\\bsplit(\\w*) hairs?\\b\u001b[0m...\t\u001b[1m0\u001b[0m matches (\u001b[1m0.000\u001b[0m per million words)\n",
      "15: Testing \u001b[1m\\bcats? out of the bags?\\b\u001b[0m...\t\u001b[1m0\u001b[0m matches (\u001b[1m0.000\u001b[0m per million words)\n",
      "16: Testing \u001b[1m\\ball bark no bite\\b\u001b[0m...\t\u001b[1m0\u001b[0m matches (\u001b[1m0.000\u001b[0m per million words)\n",
      "17: Testing \u001b[1m\\bcards on the tables?\\b\u001b[0m...\t\u001b[1m0\u001b[0m matches (\u001b[1m0.000\u001b[0m per million words)\n",
      "18: Testing \u001b[1m\\bburn (\\w+ ){1,3}bridges?\\b\u001b[0m...\t\u001b[1m0\u001b[0m matches (\u001b[1m0.000\u001b[0m per million words)\n",
      "19: Testing \u001b[1m\\b(6|six) \\w+ one,? (\\w+ ){0,3}half(-| )dozen\\b\u001b[0m...\t\u001b[1m0\u001b[0m matches (\u001b[1m0.000\u001b[0m per million words)\n",
      "20: Testing \u001b[1m\\bmade of money\\b\u001b[0m...\t\u001b[1m0\u001b[0m matches (\u001b[1m0.000\u001b[0m per million words)\n",
      "21: Testing \u001b[1m\\brains? on (\\w+ ){1,3}parades?\\b\u001b[0m...\t\u001b[1m0\u001b[0m matches (\u001b[1m0.000\u001b[0m per million words)\n",
      "22: Testing \u001b[1m\\bfish(\\w+) or cuts? bait\\b\u001b[0m...\t\u001b[1m0\u001b[0m matches (\u001b[1m0.000\u001b[0m per million words)\n",
      "23: Testing \u001b[1m\\bcr(y|i)(\\w*) over spilled milk\\b\u001b[0m...\t\u001b[1m0\u001b[0m matches (\u001b[1m0.000\u001b[0m per million words)\n",
      "24: Testing \u001b[1m\\bchopped liver\\b\u001b[0m...\t\u001b[1m0\u001b[0m matches (\u001b[1m0.000\u001b[0m per million words)\n",
      "25: Testing \u001b[1m\\bdrops? of (\\w+ ){1,3}hats?\\b\u001b[0m...\t\u001b[1m0\u001b[0m matches (\u001b[1m0.000\u001b[0m per million words)\n",
      "26: Testing \u001b[1m\\bpigs? fl(y|i)\\w*\\b\u001b[0m...\t\u001b[1m0\u001b[0m matches (\u001b[1m0.000\u001b[0m per million words)\n"
     ]
    }
   ],
   "source": [
    "biomed_results = testCorpus(biomedTexts, idiom_list, \"BIOMED\")"
   ]
  },
  {
   "cell_type": "code",
   "execution_count": 28,
   "id": "cbe35275-2197-4192-b5db-88fc5ffc417b",
   "metadata": {},
   "outputs": [
    {
     "data": {
      "image/png": "[encoded data removed]",
      "text/plain": [
       "<Figure size 1000x400 with 2 Axes>"
      ]
     },
     "metadata": {},
     "output_type": "display_data"
    }
   ],
   "source": [
    "histCorpusMatches(*biomed_results, biomed_size, corpusName=\"BIOMED\")"
   ]
  },
  {
   "cell_type": "markdown",
   "id": "97a479fb-4a93-4d7e-8dc0-863d4b678604",
   "metadata": {
    "jp-MarkdownHeadingCollapsed": true
   },
   "source": [
    "## **HC corpus**"
   ]
  },
  {
   "cell_type": "markdown",
   "id": "bc1b02ae-52e2-47ea-8c9f-503855fc4092",
   "metadata": {
    "jp-MarkdownHeadingCollapsed": true
   },
   "source": [
    "#### News corpus"
   ]
  },
  {
   "cell_type": "code",
   "execution_count": 19,
   "id": "dfd7ee29-70f1-41c3-9fc1-46d46a12b8ca",
   "metadata": {},
   "outputs": [],
   "source": [
    "newsFile = corporaFolder + 'hc_corpus/Eng_US_Newspapers.txt'"
   ]
  },
  {
   "cell_type": "code",
   "execution_count": 20,
   "id": "9011f89b-ce94-4a3e-8783-b4eb24b0de2c",
   "metadata": {},
   "outputs": [],
   "source": [
    "def preprocessNewsText(textString):\n",
    "    textString = re.search(r'\\t[^\\t]*\\n$', textString).group(0)\n",
    "    textString = standardizeQuotes(textString)\n",
    "    textString = removeQuotes(textString)\n",
    "    textString = re.sub(r'\\s+', ' ', textString)\n",
    "    textString = re.sub(r'^\\s*', '', textString)\n",
    "    textString = re.sub(r'\\s*$', '', textString)\n",
    "    textString = re.sub(r' ,', ',', textString)\n",
    "    textString = re.sub(r' \\.', '.', textString)\n",
    "    textString = textString.lower()\n",
    "    return textString"
   ]
  },
  {
   "cell_type": "code",
   "execution_count": 21,
   "id": "2eaa2d11-47cc-42ab-8eb8-edd77c3ca865",
   "metadata": {},
   "outputs": [
    {
     "name": "stdout",
     "output_type": "stream",
     "text": [
      "\u001b[1m33337987\u001b[0m words in news corpus\n"
     ]
    }
   ],
   "source": [
    "newsTexts = []\n",
    "with open(newsFile, 'r', encoding='utf-8') as f:\n",
    "    for line in f:\n",
    "        text = preprocessNewsText(line)\n",
    "        newsTexts.append(text)\n",
    "news_size = calcCorpusSize(newsTexts)\n",
    "print(f\"{color.BOLD}{news_size}{color.END} words in news corpus\")"
   ]
  },
  {
   "cell_type": "code",
   "execution_count": 26,
   "id": "cc2b8be9-a4eb-4922-a82a-cb7d8570d055",
   "metadata": {},
   "outputs": [
    {
     "data": {
      "text/plain": [
       "'the alaimo group of mount holly was up for a contract last fall to evaluate and suggest improvements to trenton water works. but campaign finance records released this week show the two employees donated a total of $4,500 to the political action committee (pac) partners for progress in early june. partners for progress reported it gave more than $10,000 in both direct and in-kind contributions to mayor tony mack in the two weeks leading up to his victory in the mayoral runoff election june 15.'"
      ]
     },
     "execution_count": 26,
     "metadata": {},
     "output_type": "execute_result"
    }
   ],
   "source": [
    "# Sample of cleaned news text\n",
    "newsTexts[3]"
   ]
  },
  {
   "cell_type": "code",
   "execution_count": 33,
   "id": "f7b11ab4-55ad-4368-8555-1c1493a88bf1",
   "metadata": {},
   "outputs": [
    {
     "name": "stdout",
     "output_type": "stream",
     "text": [
      "Testing \u001b[1m27\u001b[0m idioms on \u001b[1mNEWS\u001b[0m corpus\n",
      "0: Testing \u001b[1m\\bchip on (\\w+\\s?){1,3}shoulders?\\b\u001b[0m...\t\u001b[1m52\u001b[0m matches (\u001b[1m1.560\u001b[0m per million words)\n",
      "1: Testing \u001b[1m\\blame ducks?\\b\u001b[0m...\t\u001b[1m20\u001b[0m matches (\u001b[1m0.600\u001b[0m per million words)\n",
      "2: Testing \u001b[1m\\baxe to grind\\b\u001b[0m...\t\u001b[1m1\u001b[0m matches (\u001b[1m0.030\u001b[0m per million words)\n",
      "3: Testing \u001b[1m\\bfollows? suit\\b\u001b[0m...\t\u001b[1m73\u001b[0m matches (\u001b[1m2.190\u001b[0m per million words)\n",
      "4: Testing \u001b[1m\\bplay \\w+ card\\b\u001b[0m...\t\u001b[1m3\u001b[0m matches (\u001b[1m0.090\u001b[0m per million words)\n",
      "5: Testing \u001b[1m\\bover (\\w+ ){1,3}heads?\\b\u001b[0m...\t\u001b[1m311\u001b[0m matches (\u001b[1m9.329\u001b[0m per million words)\n",
      "6: Testing \u001b[1m\\blow hanging fruits?\\b\u001b[0m...\t\u001b[1m1\u001b[0m matches (\u001b[1m0.030\u001b[0m per million words)\n",
      "7: Testing \u001b[1m\\bdodg(\\w+) (\\w+ ){0,3}bullets?\\b\u001b[0m...\t\u001b[1m25\u001b[0m matches (\u001b[1m0.750\u001b[0m per million words)\n",
      "8: Testing \u001b[1m\\blead foot\\b\u001b[0m...\t\u001b[1m1\u001b[0m matches (\u001b[1m0.030\u001b[0m per million words)\n",
      "9: Testing \u001b[1m\\btrigger happy\\b\u001b[0m...\t\u001b[1m0\u001b[0m matches (\u001b[1m0.000\u001b[0m per million words)\n",
      "10: Testing \u001b[1m\\bin the cards\\b\u001b[0m...\t\u001b[1m36\u001b[0m matches (\u001b[1m1.080\u001b[0m per million words)\n",
      "11: Testing \u001b[1m\\bsilver linings?\\b\u001b[0m...\t\u001b[1m63\u001b[0m matches (\u001b[1m1.890\u001b[0m per million words)\n",
      "12: Testing \u001b[1m\\bon paper\\b\u001b[0m...\t\u001b[1m253\u001b[0m matches (\u001b[1m7.589\u001b[0m per million words)\n",
      "13: Testing \u001b[1m\\bskin of (\\w+ ){1,3}teeth\\b\u001b[0m...\t\u001b[1m4\u001b[0m matches (\u001b[1m0.120\u001b[0m per million words)\n",
      "14: Testing \u001b[1m\\bsplit(\\w*) hairs?\\b\u001b[0m...\t\u001b[1m4\u001b[0m matches (\u001b[1m0.120\u001b[0m per million words)\n",
      "15: Testing \u001b[1m\\bcats? out of the bags?\\b\u001b[0m...\t\u001b[1m2\u001b[0m matches (\u001b[1m0.060\u001b[0m per million words)\n",
      "16: Testing \u001b[1m\\ball bark no bite\\b\u001b[0m...\t\u001b[1m0\u001b[0m matches (\u001b[1m0.000\u001b[0m per million words)\n",
      "17: Testing \u001b[1m\\bcards on the tables?\\b\u001b[0m...\t\u001b[1m8\u001b[0m matches (\u001b[1m0.240\u001b[0m per million words)\n",
      "18: Testing \u001b[1m\\bburn (\\w+ ){1,3}bridges?\\b\u001b[0m...\t\u001b[1m2\u001b[0m matches (\u001b[1m0.060\u001b[0m per million words)\n",
      "19: Testing \u001b[1m\\b(6|six) \\w+ one,? (\\w+ ){0,3}half(-| )dozen\\b\u001b[0m...\t\u001b[1m0\u001b[0m matches (\u001b[1m0.000\u001b[0m per million words)\n",
      "20: Testing \u001b[1m\\bmade of money\\b\u001b[0m...\t\u001b[1m0\u001b[0m matches (\u001b[1m0.000\u001b[0m per million words)\n",
      "21: Testing \u001b[1m\\brains? on (\\w+ ){1,3}parades?\\b\u001b[0m...\t\u001b[1m6\u001b[0m matches (\u001b[1m0.180\u001b[0m per million words)\n",
      "22: Testing \u001b[1m\\bfish(\\w+) or cuts? bait\\b\u001b[0m...\t\u001b[1m0\u001b[0m matches (\u001b[1m0.000\u001b[0m per million words)\n",
      "23: Testing \u001b[1m\\bcr(y|i)(\\w*) over spilled milk\\b\u001b[0m...\t\u001b[1m1\u001b[0m matches (\u001b[1m0.030\u001b[0m per million words)\n",
      "24: Testing \u001b[1m\\bchopped liver\\b\u001b[0m...\t\u001b[1m7\u001b[0m matches (\u001b[1m0.210\u001b[0m per million words)\n",
      "25: Testing \u001b[1m\\bdrops? of (\\w+ ){1,3}hats?\\b\u001b[0m...\t\u001b[1m4\u001b[0m matches (\u001b[1m0.120\u001b[0m per million words)\n",
      "26: Testing \u001b[1m\\bpigs? fl(y|i)\\w*\\b\u001b[0m...\t\u001b[1m5\u001b[0m matches (\u001b[1m0.150\u001b[0m per million words)\n"
     ]
    }
   ],
   "source": [
    "news_results = testCorpus(newsTexts, idiom_list, \"NEWS\")"
   ]
  },
  {
   "cell_type": "code",
   "execution_count": 34,
   "id": "01da0d10-f3d0-4632-9c4a-050d76348107",
   "metadata": {},
   "outputs": [
    {
     "data": {
      "image/png": "[encoded data removed]",
      "text/plain": [
       "<Figure size 1000x400 with 2 Axes>"
      ]
     },
     "metadata": {},
     "output_type": "display_data"
    }
   ],
   "source": [
    "histCorpusMatches(*news_results, news_size, corpusName=\"NEWS\")"
   ]
  },
  {
   "cell_type": "markdown",
   "id": "ac7d017d-73de-4658-ab0b-9c13db3c1815",
   "metadata": {
    "jp-MarkdownHeadingCollapsed": true
   },
   "source": [
    "#### Blogs corpus"
   ]
  },
  {
   "cell_type": "code",
   "execution_count": 22,
   "id": "35d9d49c-8022-4420-9003-27bef0aea984",
   "metadata": {},
   "outputs": [],
   "source": [
    "blogsFile = corporaFolder + 'hc_corpus/Eng_US_Blogs.txt'"
   ]
  },
  {
   "cell_type": "code",
   "execution_count": 23,
   "id": "431e5588-9c7a-48dc-87ca-4d763fd4f874",
   "metadata": {},
   "outputs": [],
   "source": [
    "def preprocessBlogsText(textString):\n",
    "    textString = re.search(r'\\t[^\\t]*\\n$', textString).group(0)\n",
    "    textString = standardizeQuotes(textString)\n",
    "    textString = removeQuotes(textString)\n",
    "    textString = re.sub(r'\\s+', ' ', textString) # Replace spaces, tabs, or newlines with a single space\n",
    "    textString = re.sub(r'^\\s*', '', textString) # Remove leading whitespace\n",
    "    textString = re.sub(r'\\s*$', '', textString) # Remove tailing whitespace\n",
    "    textString = re.sub(r' ,', ',', textString) # (To make word count more accurate) remove spaces before puncuation\n",
    "    textString = re.sub(r' \\.', '.', textString)\n",
    "    textString = textString.lower() # Lowercase text\n",
    "    return textString"
   ]
  },
  {
   "cell_type": "code",
   "execution_count": 24,
   "id": "9172e48c-e34f-4b81-a73a-243234200884",
   "metadata": {},
   "outputs": [
    {
     "name": "stdout",
     "output_type": "stream",
     "text": [
      "\u001b[1m36412290\u001b[0m words in blogs corpus\n"
     ]
    }
   ],
   "source": [
    "blogsTexts = []\n",
    "with open(blogsFile, 'r', encoding='utf-8') as f:\n",
    "    for line in f:\n",
    "        text = preprocessBlogsText(line)\n",
    "        blogsTexts.append(text)\n",
    "blogs_size = calcCorpusSize(blogsTexts)\n",
    "print(f\"{color.BOLD}{blogs_size}{color.END} words in blogs corpus\")"
   ]
  },
  {
   "cell_type": "code",
   "execution_count": 23,
   "id": "2d757011-d198-434d-a89a-4f954348eba4",
   "metadata": {},
   "outputs": [
    {
     "data": {
      "text/plain": [
       "'other friends have similar stories, of how they were treated brusquely by laurelwood staff, and as often as not, the same names keep coming up. about a half-dozen friends of mine refuse to step foot in there ever again because of it. how many others theyre telling - and keeping away - one can only guess.'"
      ]
     },
     "execution_count": 23,
     "metadata": {},
     "output_type": "execute_result"
    }
   ],
   "source": [
    "# Sample of cleaned blogs text\n",
    "blogsTexts[7]"
   ]
  },
  {
   "cell_type": "code",
   "execution_count": 39,
   "id": "bbd8acf0-9873-4042-8672-d0efd9741c81",
   "metadata": {},
   "outputs": [
    {
     "name": "stdout",
     "output_type": "stream",
     "text": [
      "Testing \u001b[1m27\u001b[0m idioms on \u001b[1mBLOGS\u001b[0m corpus\n",
      "0: Testing \u001b[1m\\bchip on (\\w+\\s?){1,3}shoulders?\\b\u001b[0m...\t\u001b[1m15\u001b[0m matches (\u001b[1m0.412\u001b[0m per million words)\n",
      "1: Testing \u001b[1m\\blame ducks?\\b\u001b[0m...\t\u001b[1m11\u001b[0m matches (\u001b[1m0.302\u001b[0m per million words)\n",
      "2: Testing \u001b[1m\\baxe to grind\\b\u001b[0m...\t\u001b[1m22\u001b[0m matches (\u001b[1m0.604\u001b[0m per million words)\n",
      "3: Testing \u001b[1m\\bfollows? suit\\b\u001b[0m...\t\u001b[1m49\u001b[0m matches (\u001b[1m1.346\u001b[0m per million words)\n",
      "4: Testing \u001b[1m\\bplay \\w+ card\\b\u001b[0m...\t\u001b[1m5\u001b[0m matches (\u001b[1m0.137\u001b[0m per million words)\n",
      "5: Testing \u001b[1m\\bover (\\w+ ){1,3}heads?\\b\u001b[0m...\t\u001b[1m473\u001b[0m matches (\u001b[1m12.990\u001b[0m per million words)\n",
      "6: Testing \u001b[1m\\blow hanging fruits?\\b\u001b[0m...\t\u001b[1m1\u001b[0m matches (\u001b[1m0.027\u001b[0m per million words)\n",
      "7: Testing \u001b[1m\\bdodg(\\w+) (\\w+ ){0,3}bullets?\\b\u001b[0m...\t\u001b[1m18\u001b[0m matches (\u001b[1m0.494\u001b[0m per million words)\n",
      "8: Testing \u001b[1m\\blead foot\\b\u001b[0m...\t\u001b[1m2\u001b[0m matches (\u001b[1m0.055\u001b[0m per million words)\n",
      "9: Testing \u001b[1m\\btrigger happy\\b\u001b[0m...\t\u001b[1m5\u001b[0m matches (\u001b[1m0.137\u001b[0m per million words)\n",
      "10: Testing \u001b[1m\\bin the cards\\b\u001b[0m...\t\u001b[1m25\u001b[0m matches (\u001b[1m0.687\u001b[0m per million words)\n",
      "11: Testing \u001b[1m\\bsilver linings?\\b\u001b[0m...\t\u001b[1m71\u001b[0m matches (\u001b[1m1.950\u001b[0m per million words)\n",
      "12: Testing \u001b[1m\\bon paper\\b\u001b[0m...\t\u001b[1m379\u001b[0m matches (\u001b[1m10.409\u001b[0m per million words)\n",
      "13: Testing \u001b[1m\\bskin of (\\w+ ){1,3}teeth\\b\u001b[0m...\t\u001b[1m7\u001b[0m matches (\u001b[1m0.192\u001b[0m per million words)\n",
      "14: Testing \u001b[1m\\bsplit(\\w*) hairs?\\b\u001b[0m...\t\u001b[1m9\u001b[0m matches (\u001b[1m0.247\u001b[0m per million words)\n",
      "15: Testing \u001b[1m\\bcats? out of the bags?\\b\u001b[0m...\t\u001b[1m19\u001b[0m matches (\u001b[1m0.522\u001b[0m per million words)\n",
      "16: Testing \u001b[1m\\ball bark no bite\\b\u001b[0m...\t\u001b[1m0\u001b[0m matches (\u001b[1m0.000\u001b[0m per million words)\n",
      "17: Testing \u001b[1m\\bcards on the tables?\\b\u001b[0m...\t\u001b[1m5\u001b[0m matches (\u001b[1m0.137\u001b[0m per million words)\n",
      "18: Testing \u001b[1m\\bburn (\\w+ ){1,3}bridges?\\b\u001b[0m...\t\u001b[1m6\u001b[0m matches (\u001b[1m0.165\u001b[0m per million words)\n",
      "19: Testing \u001b[1m\\b(6|six) \\w+ one,? (\\w+ ){0,3}half(-| )dozen\\b\u001b[0m...\t\u001b[1m1\u001b[0m matches (\u001b[1m0.027\u001b[0m per million words)\n",
      "20: Testing \u001b[1m\\bmade of money\\b\u001b[0m...\t\u001b[1m4\u001b[0m matches (\u001b[1m0.110\u001b[0m per million words)\n",
      "21: Testing \u001b[1m\\brains? on (\\w+ ){1,3}parades?\\b\u001b[0m...\t\u001b[1m6\u001b[0m matches (\u001b[1m0.165\u001b[0m per million words)\n",
      "22: Testing \u001b[1m\\bfish(\\w+) or cuts? bait\\b\u001b[0m...\t\u001b[1m0\u001b[0m matches (\u001b[1m0.000\u001b[0m per million words)\n",
      "23: Testing \u001b[1m\\bcr(y|i)(\\w*) over spilled milk\\b\u001b[0m...\t\u001b[1m3\u001b[0m matches (\u001b[1m0.082\u001b[0m per million words)\n",
      "24: Testing \u001b[1m\\bchopped liver\\b\u001b[0m...\t\u001b[1m3\u001b[0m matches (\u001b[1m0.082\u001b[0m per million words)\n",
      "25: Testing \u001b[1m\\bdrops? of (\\w+ ){1,3}hats?\\b\u001b[0m...\t\u001b[1m30\u001b[0m matches (\u001b[1m0.824\u001b[0m per million words)\n",
      "26: Testing \u001b[1m\\bpigs? fl(y|i)\\w*\\b\u001b[0m...\t\u001b[1m22\u001b[0m matches (\u001b[1m0.604\u001b[0m per million words)\n"
     ]
    }
   ],
   "source": [
    "blogs_results = testCorpus(blogsTexts, idiom_list, \"BLOGS\")"
   ]
  },
  {
   "cell_type": "code",
   "execution_count": 40,
   "id": "53b4bc02-9ce7-442b-9ee0-ca6efd4011bd",
   "metadata": {},
   "outputs": [
    {
     "data": {
      "image/png": "[encoded data removed]",
      "text/plain": [
       "<Figure size 1000x400 with 2 Axes>"
      ]
     },
     "metadata": {},
     "output_type": "display_data"
    }
   ],
   "source": [
    "histCorpusMatches(*blogs_results, blogs_size, corpusName=\"BLOGS\")"
   ]
  },
  {
   "cell_type": "markdown",
   "id": "db0ea9f5-f714-4117-a7ce-7a0ee42dca69",
   "metadata": {
    "jp-MarkdownHeadingCollapsed": true
   },
   "source": [
    "#### Twitter corpus"
   ]
  },
  {
   "cell_type": "code",
   "execution_count": 25,
   "id": "642d7608-710f-499c-a49c-97d419bbc73b",
   "metadata": {},
   "outputs": [],
   "source": [
    "twitterFile = corporaFolder + 'hc_corpus/Eng_US_Twitter.txt'"
   ]
  },
  {
   "cell_type": "code",
   "execution_count": 26,
   "id": "167e3a58-3c80-4aa3-a724-33ba078c4d19",
   "metadata": {},
   "outputs": [],
   "source": [
    "def preprocessTwitterText(textString):\n",
    "    textString = re.search(r'\\t[^\\t]*\\n$', textString).group(0)\n",
    "    textString = standardizeQuotes(textString)\n",
    "    textString = removeQuotes(textString)\n",
    "    textString = re.sub(r'\\s+', ' ', textString) # Replace spaces, tabs, or newlines with a single space\n",
    "    textString = re.sub(r'^\\s*', '', textString) # Remove leading whitespace\n",
    "    textString = re.sub(r'\\s*$', '', textString) # Remove tailing whitespace\n",
    "    textString = re.sub(r' ,', ',', textString) # (To make word count more accurate) remove spaces before puncuation\n",
    "    textString = re.sub(r' \\.', '.', textString)\n",
    "    textString = textString.lower() # Lowercase text\n",
    "    return textString"
   ]
  },
  {
   "cell_type": "code",
   "execution_count": 27,
   "id": "4a9db4be-dfbc-488c-bbd3-ae2f1b84d0f0",
   "metadata": {},
   "outputs": [],
   "source": [
    "# # Code for testing the cleaning preprocessing\n",
    "# texts = []\n",
    "# i=0\n",
    "# with open(twitterFile, 'r', encoding='utf-8') as f:\n",
    "#     for text in f:\n",
    "#         text = preprocessTwitterText(text)\n",
    "#         texts.append(text)\n",
    "#         i += 1\n",
    "#         if i > 10:\n",
    "#             break\n",
    "# texts[6]"
   ]
  },
  {
   "cell_type": "code",
   "execution_count": 28,
   "id": "6c48b9b2-bc63-46b7-9307-214e025e5d8c",
   "metadata": {},
   "outputs": [
    {
     "name": "stdout",
     "output_type": "stream",
     "text": [
      "\u001b[1m27934460\u001b[0m words in twitter corpus\n"
     ]
    }
   ],
   "source": [
    "twitterTexts = []\n",
    "with open(twitterFile, 'r', encoding='utf-8') as f:\n",
    "    for line in f:\n",
    "        text = preprocessTwitterText(line)\n",
    "        twitterTexts.append(text)\n",
    "twitter_size = calcCorpusSize(twitterTexts)\n",
    "print(f\"{color.BOLD}{twitter_size}{color.END} words in twitter corpus\")"
   ]
  },
  {
   "cell_type": "code",
   "execution_count": 16,
   "id": "415a62b5-b3e2-4ca8-857c-d024f0b29db9",
   "metadata": {},
   "outputs": [
    {
     "data": {
      "text/plain": [
       "'i no! i get another day off from skool due to the wonderful snow (: and this wakes me up...damn thing'"
      ]
     },
     "execution_count": 16,
     "metadata": {},
     "output_type": "execute_result"
    }
   ],
   "source": [
    "# Sample of cleaned twitter text\n",
    "twitterTexts[6]"
   ]
  },
  {
   "cell_type": "code",
   "execution_count": 45,
   "id": "b0e5c06d-8ecc-4d03-bde0-77a42cd6521b",
   "metadata": {},
   "outputs": [
    {
     "name": "stdout",
     "output_type": "stream",
     "text": [
      "Testing \u001b[1m27\u001b[0m idioms on \u001b[1mTWITTER\u001b[0m corpus\n",
      "0: Testing \u001b[1m\\bchip on (\\w+\\s?){1,3}shoulders?\\b\u001b[0m...\t\u001b[1m13\u001b[0m matches (\u001b[1m0.465\u001b[0m per million words)\n",
      "1: Testing \u001b[1m\\blame ducks?\\b\u001b[0m...\t\u001b[1m10\u001b[0m matches (\u001b[1m0.358\u001b[0m per million words)\n",
      "2: Testing \u001b[1m\\baxe to grind\\b\u001b[0m...\t\u001b[1m3\u001b[0m matches (\u001b[1m0.107\u001b[0m per million words)\n",
      "3: Testing \u001b[1m\\bfollows? suit\\b\u001b[0m...\t\u001b[1m27\u001b[0m matches (\u001b[1m0.967\u001b[0m per million words)\n",
      "4: Testing \u001b[1m\\bplay \\w+ card\\b\u001b[0m...\t\u001b[1m3\u001b[0m matches (\u001b[1m0.107\u001b[0m per million words)\n",
      "5: Testing \u001b[1m\\bover (\\w+ ){1,3}heads?\\b\u001b[0m...\t\u001b[1m194\u001b[0m matches (\u001b[1m6.945\u001b[0m per million words)\n",
      "6: Testing \u001b[1m\\blow hanging fruits?\\b\u001b[0m...\t\u001b[1m12\u001b[0m matches (\u001b[1m0.430\u001b[0m per million words)\n",
      "7: Testing \u001b[1m\\bdodg(\\w+) (\\w+ ){0,3}bullets?\\b\u001b[0m...\t\u001b[1m34\u001b[0m matches (\u001b[1m1.217\u001b[0m per million words)\n",
      "8: Testing \u001b[1m\\blead foot\\b\u001b[0m...\t\u001b[1m2\u001b[0m matches (\u001b[1m0.072\u001b[0m per million words)\n",
      "9: Testing \u001b[1m\\btrigger happy\\b\u001b[0m...\t\u001b[1m7\u001b[0m matches (\u001b[1m0.251\u001b[0m per million words)\n",
      "10: Testing \u001b[1m\\bin the cards\\b\u001b[0m...\t\u001b[1m20\u001b[0m matches (\u001b[1m0.716\u001b[0m per million words)\n",
      "11: Testing \u001b[1m\\bsilver linings?\\b\u001b[0m...\t\u001b[1m55\u001b[0m matches (\u001b[1m1.969\u001b[0m per million words)\n",
      "12: Testing \u001b[1m\\bon paper\\b\u001b[0m...\t\u001b[1m135\u001b[0m matches (\u001b[1m4.833\u001b[0m per million words)\n",
      "13: Testing \u001b[1m\\bskin of (\\w+ ){1,3}teeth\\b\u001b[0m...\t\u001b[1m1\u001b[0m matches (\u001b[1m0.036\u001b[0m per million words)\n",
      "14: Testing \u001b[1m\\bsplit(\\w*) hairs?\\b\u001b[0m...\t\u001b[1m6\u001b[0m matches (\u001b[1m0.215\u001b[0m per million words)\n",
      "15: Testing \u001b[1m\\bcats? out of the bags?\\b\u001b[0m...\t\u001b[1m10\u001b[0m matches (\u001b[1m0.358\u001b[0m per million words)\n",
      "16: Testing \u001b[1m\\ball bark no bite\\b\u001b[0m...\t\u001b[1m1\u001b[0m matches (\u001b[1m0.036\u001b[0m per million words)\n",
      "17: Testing \u001b[1m\\bcards on the tables?\\b\u001b[0m...\t\u001b[1m4\u001b[0m matches (\u001b[1m0.143\u001b[0m per million words)\n",
      "18: Testing \u001b[1m\\bburn (\\w+ ){1,3}bridges?\\b\u001b[0m...\t\u001b[1m18\u001b[0m matches (\u001b[1m0.644\u001b[0m per million words)\n",
      "19: Testing \u001b[1m\\b(6|six) \\w+ one,? (\\w+ ){0,3}half(-| )dozen\\b\u001b[0m...\t\u001b[1m0\u001b[0m matches (\u001b[1m0.000\u001b[0m per million words)\n",
      "20: Testing \u001b[1m\\bmade of money\\b\u001b[0m...\t\u001b[1m7\u001b[0m matches (\u001b[1m0.251\u001b[0m per million words)\n",
      "21: Testing \u001b[1m\\brains? on (\\w+ ){1,3}parades?\\b\u001b[0m...\t\u001b[1m28\u001b[0m matches (\u001b[1m1.002\u001b[0m per million words)\n",
      "22: Testing \u001b[1m\\bfish(\\w+) or cuts? bait\\b\u001b[0m...\t\u001b[1m0\u001b[0m matches (\u001b[1m0.000\u001b[0m per million words)\n",
      "23: Testing \u001b[1m\\bcr(y|i)(\\w*) over spilled milk\\b\u001b[0m...\t\u001b[1m5\u001b[0m matches (\u001b[1m0.179\u001b[0m per million words)\n",
      "24: Testing \u001b[1m\\bchopped liver\\b\u001b[0m...\t\u001b[1m19\u001b[0m matches (\u001b[1m0.680\u001b[0m per million words)\n",
      "25: Testing \u001b[1m\\bdrops? of (\\w+ ){1,3}hats?\\b\u001b[0m...\t\u001b[1m9\u001b[0m matches (\u001b[1m0.322\u001b[0m per million words)\n",
      "26: Testing \u001b[1m\\bpigs? fl(y|i)\\w*\\b\u001b[0m...\t\u001b[1m14\u001b[0m matches (\u001b[1m0.501\u001b[0m per million words)\n"
     ]
    }
   ],
   "source": [
    "twitter_results = testCorpus(twitterTexts, idiom_list, \"TWITTER\")"
   ]
  },
  {
   "cell_type": "code",
   "execution_count": 46,
   "id": "1f4e7ad8-2b00-421f-8ff9-1fd11c51ae3b",
   "metadata": {},
   "outputs": [
    {
     "data": {
      "image/png": "[encoded data removed]",
      "text/plain": [
       "<Figure size 1000x400 with 2 Axes>"
      ]
     },
     "metadata": {},
     "output_type": "display_data"
    }
   ],
   "source": [
    "histCorpusMatches(*twitter_results, twitter_size, corpusName=\"TWITTER\")"
   ]
  },
  {
   "cell_type": "markdown",
   "id": "8735b2b9-a431-4385-9a15-01d51149c108",
   "metadata": {
    "jp-MarkdownHeadingCollapsed": true
   },
   "source": [
    "## **Open Subtitles Corpus**"
   ]
  },
  {
   "cell_type": "markdown",
   "id": "489ce122-53d0-4d7e-a3a4-96da51b9f7a1",
   "metadata": {
    "jp-MarkdownHeadingCollapsed": true
   },
   "source": [
    "### NO TOUCH: Initial unzip and calc of file size"
   ]
  },
  {
   "cell_type": "markdown",
   "id": "b5ba0ee0-6749-45b0-83da-d16e0e812e51",
   "metadata": {},
   "source": [
    "Unzip 3.5GB .gz corpus to .txt file; can view in text editor"
   ]
  },
  {
   "cell_type": "code",
   "execution_count": 6,
   "id": "b59dc5c0-1569-4adc-bfad-36abd04251a4",
   "metadata": {},
   "outputs": [],
   "source": [
    "subtitlesCorpusZipped = corporaFolder + 'open_subtitles/enSubtitles.txt.gz'\n",
    "subtitlesCorpus = corporaFolder + 'open_subtitles/enSubtitles.txt'"
   ]
  },
  {
   "cell_type": "code",
   "execution_count": 4,
   "id": "ce3b46e7-8384-47a0-afd9-0f101fac336f",
   "metadata": {},
   "outputs": [],
   "source": [
    "with gzip.open(subtitlesCorpusZipped, 'rb') as f_in:\n",
    "    with open(subtitlesCorpus, 'wb') as f_out:\n",
    "        shutil.copyfileobj(f_in, f_out)"
   ]
  },
  {
   "cell_type": "markdown",
   "id": "067eb970-bf97-45d7-9182-5eb72eb93066",
   "metadata": {},
   "source": [
    "Count total lines and time it"
   ]
  },
  {
   "cell_type": "code",
   "execution_count": 9,
   "id": "1e3a0c60-b82e-43ca-9c01-c35ce47229c2",
   "metadata": {},
   "outputs": [
    {
     "name": "stdout",
     "output_type": "stream",
     "text": [
      "441450449 total lines\n",
      "Time to calc total lines: 375.78 seconds\n"
     ]
    }
   ],
   "source": [
    "start_time = time.time()\n",
    "total_lines = 0\n",
    "with open(subtitlesCorpus, 'r', encoding='utf-8') as f:\n",
    "    for line in f:\n",
    "        total_lines += 1\n",
    "end_time = time.time() - start_time\n",
    "print(f\"{total_lines} total lines\")\n",
    "print(f\"Time to calc total lines: {end_time:.2f} seconds\")"
   ]
  },
  {
   "cell_type": "markdown",
   "id": "85ee30c8-7728-4cb1-ad2e-7a714406656c",
   "metadata": {},
   "source": [
    "### USE THIS: Small subsection of corpus"
   ]
  },
  {
   "cell_type": "markdown",
   "id": "9af2be6f-ea17-43d7-91e6-08a9ee994764",
   "metadata": {},
   "source": [
    "Again, pausing the investigation of this corpus. Data is very inconsistent, contains much filler (\"character name:\"), different formats between different movies (\" - line here\"), does not provide markers which differentiate separate movies"
   ]
  },
  {
   "cell_type": "code",
   "execution_count": 13,
   "id": "bd514a9b-38a3-445a-a020-643c88a9dbae",
   "metadata": {},
   "outputs": [],
   "source": [
    "subtitlesCorpus = corporaFolder + 'open_subtitles/enSubtitles.txt'\n",
    "subtitlesSample = corporaFolder + 'open_subtitles/enSubtitlesSample.txt'\n",
    "subtitlesSmall = corporaFolder + 'open_subtitles/enSubtitlesSmall.txt'"
   ]
  },
  {
   "cell_type": "code",
   "execution_count": 18,
   "id": "ab4ae957-076a-463a-941d-572e6ab28075",
   "metadata": {},
   "outputs": [],
   "source": [
    "def subsetSubtitles(subset_file_path, percentage_to_read, total_lines = 441450449):\n",
    "    lines_to_read = int(total_lines * (percentage_to_read / 100))\n",
    "    print(f\"Reading {percentage_to_read}% ({lines_to_read} lines)\")\n",
    "    start_time = time.time()\n",
    "    with open(subtitlesCorpus, 'r', encoding='utf-8') as infile:\n",
    "        with open(subset_file_path, 'w', encoding='utf-8') as outfile:\n",
    "            for i, line in enumerate(infile):\n",
    "                if i >= lines_to_read:\n",
    "                    break\n",
    "                outfile.write(line)\n",
    "    end_time = time.time() - start_time\n",
    "    print(f\"Took {end_time:.1f} seconds\")"
   ]
  },
  {
   "cell_type": "code",
   "execution_count": 19,
   "id": "2f6a483b-a57d-45ef-b045-880135c07f7c",
   "metadata": {},
   "outputs": [
    {
     "name": "stdout",
     "output_type": "stream",
     "text": [
      "Reading 0.05% (220725 lines)\n",
      "Took 1.9 seconds\n"
     ]
    }
   ],
   "source": [
    "percentage_to_read = 0.05 # About 200,000 lines\n",
    "subsetSubtitles(subtitlesSample, percentage_to_read)"
   ]
  },
  {
   "cell_type": "code",
   "execution_count": 11,
   "id": "c4acfedc-87ad-4c5f-ae92-d34643894c19",
   "metadata": {},
   "outputs": [
    {
     "name": "stdout",
     "output_type": "stream",
     "text": [
      "0 | 'Presented by IM Pictures\\n'\n",
      "1 | 'Produced by Shin Cine\\n'\n",
      "2 | 'In association with MVP Venture Capital and Cinema Service\\n'\n",
      "3 | 'Jeon Ji-hyun Cha Tae-hyun\\n'\n",
      "4 | 'My Sassy Girl\\n'\n",
      "5 | 'Exactly two years ago today, she and I buried a time capsule here.\\n'\n",
      "6 | \"We promised to meet here two years later, but she hasn't come yet.\\n\"\n",
      "7 | \"I'm going to wait.\\n\"\n",
      "8 | 'Here we go.\\n'\n",
      "9 | \"Please, don't move.\\n\"\n",
      "10 | 'One, two...\\n'\n",
      "11 | 'Wait a minute.\\n'\n",
      "12 | 'Hello?\\n'\n",
      "13 | 'Oh, auntie.\\n'\n",
      "14 | \"Sorry, I'm on my way.\\n\"\n",
      "15 | \"I'm really sorry.\\n\"\n",
      "16 | \"Yes, I'm coming.\\n\"\n",
      "17 | \"I'm having my photo taken.\\n\"\n",
      "18 | 'Bye.\\n'\n",
      "19 | 'Are you ready?\\n'\n",
      "20 | 'Here we go.\\n'\n",
      "21 | 'One, two...\\n'\n",
      "22 | 'My parents wanted a daughter, so they raised me like one.\\n'\n",
      "23 | 'So I thought I was a girl until I was seven.\\n'\n",
      "24 | \"I had to go to the women's public bath, too.\\n\"\n",
      "25 | 'The older I got,\\n'\n",
      "26 | 'I thought my penis would get smaller and disappear.\\n'\n",
      "27 | 'But it was the opposite.\\n'\n",
      "28 | 'First Half\\n'\n",
      "29 | \"He hasn't changed at all.\\n\"\n"
     ]
    }
   ],
   "source": [
    "with open(subtitlesCorpus, 'r', encoding='utf-8') as f:\n",
    "    for i, line in enumerate(f):\n",
    "        if i >= 30:\n",
    "            break\n",
    "        print(f\"{i} | {repr(line)}\")"
   ]
  },
  {
   "cell_type": "markdown",
   "id": "0585bc2f-3b86-48d8-8462-e7532a36c968",
   "metadata": {},
   "source": [
    "### Old regex search code"
   ]
  },
  {
   "cell_type": "code",
   "execution_count": 18,
   "id": "4ce57502-d4e5-4833-af7c-6a00fdcdd9af",
   "metadata": {},
   "outputs": [],
   "source": [
    "def search_subtitles(search_pattern, percentage=1.0):\n",
    "    \"\"\"\n",
    "    Search through a specific percentage of a large text file using regex.\n",
    "\n",
    "    Args:\n",
    "    - search_pattern (str): The regex pattern to search for.\n",
    "    - percentage (float): Percentage of the file to search through (0-100).\n",
    "\n",
    "    Returns:\n",
    "    - List of matches found in the specified portion of the file.\n",
    "    \"\"\"\n",
    "    total_lines = 441450449\n",
    "    # Calculate the number of lines to read based on the percentage\n",
    "    lines_to_read = int(total_lines * (percentage / 100))\n",
    "    print(f\"Reading {percentage}% ({lines_to_read} lines)\")\n",
    "\n",
    "    start_time = time.time()\n",
    "    matches = []\n",
    "    # Now, read the specified number of lines and search with regex\n",
    "    with open(subtitlesCorpus, 'r', encoding='utf-8') as f:\n",
    "        for i, line in enumerate(f):\n",
    "            if i >= lines_to_read:\n",
    "                break\n",
    "            if re.search(search_pattern, line):\n",
    "                matches.append(line.strip())\n",
    "    end_time = time.time() - start_time\n",
    "    print(f\"Search took {end_time:.2f} seconds\")\n",
    "    print(f\"Found {len(matches)} matches\")\n",
    "\n",
    "    return matches"
   ]
  },
  {
   "cell_type": "code",
   "execution_count": 22,
   "id": "c291a6c8-280e-4e52-b549-aa55a49be75b",
   "metadata": {},
   "outputs": [
    {
     "name": "stdout",
     "output_type": "stream",
     "text": [
      "Reading 10.0% (44145044 lines)\n",
      "Search took 66.11 seconds\n",
      "Found 56 matches\n"
     ]
    }
   ],
   "source": [
    "search_pattern = r'\\bkick the bucket\\b'\n",
    "percentage_to_search = 10.0\n",
    "matches = search_subtitles(search_pattern, percentage_to_search)"
   ]
  },
  {
   "cell_type": "code",
   "execution_count": 23,
   "id": "b6705f10-4a31-4c9d-a024-dd97f6712298",
   "metadata": {},
   "outputs": [
    {
     "name": "stdout",
     "output_type": "stream",
     "text": [
      "Reading 10.0% (44145044 lines)\n",
      "Search took 70.89 seconds\n",
      "Found 142 matches\n"
     ]
    }
   ],
   "source": [
    "search_pattern = r'\\bkick(s|ed)? the bucket(s)?\\b'\n",
    "percentage_to_search = 10.0\n",
    "matches = search_subtitles(search_pattern, percentage_to_search)"
   ]
  },
  {
   "cell_type": "markdown",
   "id": "db898940-055b-4548-84a1-7e621183a612",
   "metadata": {
    "jp-MarkdownHeadingCollapsed": true
   },
   "source": [
    "## **Gutenberg corpus**"
   ]
  },
  {
   "cell_type": "markdown",
   "id": "e42cad7d-506e-4705-bb70-53c8ba7e0c62",
   "metadata": {
    "jp-MarkdownHeadingCollapsed": true
   },
   "source": [
    "### [pg gutenberg github](https://github.com/pgcorpus/gutenberg/tree/master)"
   ]
  },
  {
   "cell_type": "markdown",
   "id": "8baf2045-3c56-471f-b907-7babf53fc41a",
   "metadata": {
    "jp-MarkdownHeadingCollapsed": true
   },
   "source": [
    "#### Gutenberg 1"
   ]
  },
  {
   "cell_type": "code",
   "execution_count": 7,
   "id": "77de1039-fe09-4aef-afb3-3f194e586670",
   "metadata": {},
   "outputs": [],
   "source": [
    "gutenberg1Dir = corporaFolder + \"gutenberg-1/data/.mirror\"\n",
    "gutenberg1CollectionFolder = corporaFolder + \"gutenberg-1/collection_files/\""
   ]
  },
  {
   "cell_type": "code",
   "execution_count": 70,
   "id": "41a599cc-dca3-45b5-ba67-018305f70511",
   "metadata": {},
   "outputs": [
    {
     "name": "stdout",
     "output_type": "stream",
     "text": [
      "Move took 15.0 minutes (0.25 hours)\n"
     ]
    }
   ],
   "source": [
    "start_time = time.time()\n",
    "for dirpath, dirnames, filenames in os.walk(gutenberg1Dir):\n",
    "    for subFile in filenames:\n",
    "        if subFile.endswith(\".txt\"):\n",
    "            os.rename(os.path.join(dirpath, subFile), os.path.join(gutenberg1CollectionFolder, subFile))\n",
    "end_time = time.time() - start_time\n",
    "print(f\"Move took {end_time/60:.1f} minutes ({end_time/3600:.2f} hours)\")"
   ]
  },
  {
   "cell_type": "code",
   "execution_count": 10,
   "id": "be58f4af-738e-4a95-b5bd-c4fe363cdc1b",
   "metadata": {},
   "outputs": [
    {
     "name": "stdout",
     "output_type": "stream",
     "text": [
      "32496\n"
     ]
    }
   ],
   "source": [
    "i=0\n",
    "for filename in os.listdir(gutenberg1CollectionFolder):\n",
    "    i += 1\n",
    "print(i)"
   ]
  },
  {
   "cell_type": "code",
   "execution_count": 20,
   "id": "6c45d2a7-d87b-4388-91c5-0521a2d1d11c",
   "metadata": {
    "scrolled": true
   },
   "outputs": [
    {
     "name": "stdout",
     "output_type": "stream",
     "text": [
      "Repeat: 12096\n",
      "Repeat: 35707\n",
      "Repeat: 37482\n",
      "Repeat: 38414\n",
      "Repeat: 50185\n",
      "Repeat: 43\n",
      "Repeat: 209\n",
      "Repeat: 2748\n",
      "Repeat: 53811\n",
      "Repeat: 2473\n",
      "Repeat: 3137\n",
      "Repeat: 3281\n",
      "Repeat: 4905\n",
      "Repeat: 60239\n",
      "Repeat: 51155\n",
      "Repeat: 370\n",
      "Repeat: 64793\n",
      "Repeat: 1666\n",
      "Repeat: 34384\n",
      "Repeat: 66279\n",
      "Repeat: 66322\n",
      "Repeat: 66349\n",
      "Repeat: 66583\n",
      "Repeat: 18800\n",
      "Repeat: 37027\n",
      "Repeat: 67758\n",
      "Repeat: 33795\n",
      "Repeat: 68027\n",
      "Repeat: 2481\n",
      "Repeat: 4705\n",
      "Repeat: 4705\n",
      "Repeat: 1184\n",
      "Repeat: 69331\n",
      "Repeat: 69332\n",
      "Repeat: 69372\n",
      "Repeat: 244\n",
      "Repeat: 5195\n",
      "That took 0.0 minutes (0.00 hours)\n"
     ]
    }
   ],
   "source": [
    "ebook_num_list = []\n",
    "start_time = time.time()\n",
    "for filename in os.listdir(gutenberg1CollectionFolder):\n",
    "    for match in re.findall(r'[^-]*-[^-]*-[^-]*',filename):\n",
    "        #print(filename, end=\"\\t\\t\")\n",
    "        with open(os.path.join(gutenberg1CollectionFolder, filename), \"r\") as f:\n",
    "            try:\n",
    "                book_text = f.read().lower()\n",
    "                ebook_num_match = re.search(r'\\[e(?:book|text) #(\\d+)\\]', book_text).group(0)\n",
    "                ebook_num_str = re.findall(r'\\[e(?:book|text) #(\\d+)\\]', ebook_num_match)[0]\n",
    "                if ebook_num_str in ebook_num_list:\n",
    "                    print(f\"Repeat: {ebook_num_str}\")\n",
    "                else:\n",
    "                    ebook_num_list.append(ebook_num_str)\n",
    "            except AttributeError as e:\n",
    "                print(f\"No EBook marker in file {filename}\")\n",
    "                #print(book_text)\n",
    "            except UnicodeDecodeError as e:\n",
    "                print(f\"Unicode Decode error in file {filename}\")\n",
    "end_time = time.time() - start_time\n",
    "print(f\"That took {end_time/60:.1f} minutes ({end_time/3600:.2f} hours)\")"
   ]
  },
  {
   "cell_type": "markdown",
   "id": "45b1e1f7-ac34-44ac-9056-6a5bff1fc007",
   "metadata": {},
   "source": [
    "#### Gutenberg 3"
   ]
  },
  {
   "cell_type": "code",
   "execution_count": 9,
   "id": "090794ef-f692-487f-b074-c0485293e0ff",
   "metadata": {},
   "outputs": [],
   "source": [
    "gutenberg3Dir = corporaFolder + \"gutenberg-3/data/.mirror\"\n",
    "gutenberg3CollectionFolder = corporaFolder + \"gutenberg-3/collection_files/\"\n",
    "gutenberg3CollectionOldFolder = corporaFolder + \"gutenberg-3/collection_old_files/\""
   ]
  },
  {
   "cell_type": "code",
   "execution_count": 14,
   "id": "8cfd2c51-7560-4558-be7f-f5a4427e461d",
   "metadata": {},
   "outputs": [
    {
     "name": "stdout",
     "output_type": "stream",
     "text": [
      "Move took 11.2 minutes (0.19 hours)\n"
     ]
    }
   ],
   "source": [
    "start_time = time.time()\n",
    "for dirpath, dirnames, filenames in os.walk(gutenberg3Dir):\n",
    "    for subFile in filenames:\n",
    "        if subFile.endswith(\".txt\"):\n",
    "            move_folder = gutenberg3CollectionOldFolder if \"old\" in dirpath else gutenberg3CollectionFolder\n",
    "            os.rename(os.path.join(dirpath, subFile), os.path.join(move_folder, subFile))\n",
    "end_time = time.time() - start_time\n",
    "print(f\"Move took {end_time/60:.1f} minutes ({end_time/3600:.2f} hours)\")"
   ]
  },
  {
   "cell_type": "code",
   "execution_count": 15,
   "id": "89f8a4eb-f4df-4784-af18-a9dd024fbbbd",
   "metadata": {},
   "outputs": [
    {
     "name": "stdout",
     "output_type": "stream",
     "text": [
      "32398 files\n",
      "638 old files\n",
      "33036 total files\n"
     ]
    }
   ],
   "source": [
    "files=0\n",
    "old_files = 0\n",
    "for filename in os.listdir(gutenberg3CollectionFolder):\n",
    "    files += 1\n",
    "for filename in os.listdir(gutenberg3CollectionOldFolder):\n",
    "    old_files += 1\n",
    "print(f\"{files} files\")\n",
    "print(f\"{old_files} old files\")\n",
    "print(f\"{files + old_files} total files\")"
   ]
  },
  {
   "cell_type": "code",
   "execution_count": 22,
   "id": "8281d55d-17c6-4e52-84c1-efab4d5bed84",
   "metadata": {},
   "outputs": [
    {
     "name": "stdout",
     "output_type": "stream",
     "text": [
      "That took 0.0 minutes (0.00 hours)\n",
      "Max book is 74474\n"
     ]
    }
   ],
   "source": [
    "filename_num_list = []\n",
    "start_time = time.time()\n",
    "for filename in os.listdir(gutenberg3CollectionFolder):\n",
    "    filename_num = int(re.findall(r'(\\d+)-0.txt', filename)[0])\n",
    "    filename_num_list.append(filename_num)\n",
    "end_time = time.time() - start_time\n",
    "print(f\"That took {end_time/60:.1f} minutes ({end_time/3600:.2f} hours)\")\n",
    "print(f\"Max book is {max(filename_num_list)}\")"
   ]
  },
  {
   "cell_type": "code",
   "execution_count": 27,
   "id": "1571eb04-8575-4268-bb93-2737939d9bfd",
   "metadata": {},
   "outputs": [
    {
     "name": "stdout",
     "output_type": "stream",
     "text": [
      "ebook num 12884 does not match filename num 12284 in file 12284-0.txt\n",
      "ebook num 3198 does not match filename num 3189 in file 3189-0.txt\n",
      "ebook num 4971 does not match filename num 4791 in file 4791-0.txt\n",
      "ebook num 56235 does not match filename num 56234 in file 56234-0.txt\n",
      "That took 7.8 minutes (0.13 hours)\n"
     ]
    }
   ],
   "source": [
    "books_that_exist = np.zeros(max(filename_num_list)+1, dtype=int)\n",
    "books_with_decode_error = np.zeros(max(filename_num_list)+1, dtype=int)\n",
    "books_with_header_error = np.zeros(max(filename_num_list)+1, dtype=int)\n",
    "ebook_num_list = []\n",
    "start_time = time.time()\n",
    "for filename in os.listdir(gutenberg3CollectionFolder):\n",
    "    filename_num = int(re.findall(r'(\\d+)-0.txt', filename)[0])\n",
    "    books_that_exist[filename_num] = 1\n",
    "    if ebook_num_str in ebook_num_list:\n",
    "        print(f\"Repeat of num {filename_num} in file {filename}\")\n",
    "    else:\n",
    "        ebook_num_list.append(filename_num)\n",
    "    with open(os.path.join(gutenberg3CollectionFolder, filename), \"r\") as f:\n",
    "        try:\n",
    "            book_text = f.read().lower()\n",
    "        except UnicodeDecodeError as e:\n",
    "            books_with_decode_error[filename_num] = 1\n",
    "        else:\n",
    "            try:\n",
    "                ebook_num_match = re.search(r'\\[e(?:book|text) #(\\d+)\\]', book_text).group(0)\n",
    "                ebook_num_str = re.findall(r'\\[e(?:book|text) #(\\d+)\\]', ebook_num_match)[0]\n",
    "            except AttributeError as e:\n",
    "                books_with_header_error[filename_num] = 1\n",
    "            else:\n",
    "                if int(ebook_num_str) != filename_num:\n",
    "                    print(f\"ebook num {ebook_num_str} does not match filename num {filename_num} in file {filename}\")\n",
    "end_time = time.time() - start_time\n",
    "print(f\"That took {end_time/60:.1f} minutes ({end_time/3600:.2f} hours)\")"
   ]
  },
  {
   "cell_type": "markdown",
   "id": "99fea172-ca24-4376-8298-7ffc44818de2",
   "metadata": {},
   "source": [
    "* Corrected number in 3189-0.txt from 3198; file 3198 DOES exist\n",
    "* Corrected number in 4791-0.txt from 4971; file 4971 DOES NOT exist\n",
    "* Corrected number in 12284-0.txt from 12884; file 12884 DOES NOT exist\n",
    "* Corrected number in 56234-0.txt from 56235; file 56235 DOES exist (duplicate book??)"
   ]
  },
  {
   "cell_type": "code",
   "execution_count": 28,
   "id": "418a8d28-91dc-4a95-9bec-3a50598f23e2",
   "metadata": {},
   "outputs": [
    {
     "name": "stdout",
     "output_type": "stream",
     "text": [
      "32398 total books\n",
      "65 books with decode error (0.00201 of the total)\n",
      "3535 books with no header (0.10933 of the decodable books)\n",
      "Leaving 28798 complete books (0.8888820297549231 of the total)\n"
     ]
    }
   ],
   "source": [
    "total_books = sum(books_that_exist)\n",
    "undecodable_books = sum(books_with_decode_error)\n",
    "naked_books = sum(books_with_header_error)\n",
    "print(f\"{total_books} total books\")\n",
    "print(f\"{undecodable_books} books with decode error ({undecodable_books/total_books:.5f} of the total)\")\n",
    "print(f\"{naked_books} books with no header ({naked_books/(total_books-undecodable_books):.5f} of the decodable books)\")\n",
    "print(f\"Leaving {total_books-undecodable_books-naked_books} complete books ({(total_books-undecodable_books-naked_books)/total_books} of the total)\")"
   ]
  },
  {
   "cell_type": "markdown",
   "id": "8bc9da83-50fc-460e-a558-8b8035ed4ecd",
   "metadata": {},
   "source": [
    "Lets just work with ONLY the books that are complete (readable and have proper headers). Later, I can come back to those which have non-proper headers"
   ]
  },
  {
   "cell_type": "code",
   "execution_count": 47,
   "id": "b0ebf1f5-f44b-434b-8393-0fbd11683720",
   "metadata": {
    "scrolled": true
   },
   "outputs": [
    {
     "name": "stdout",
     "output_type": "stream",
     "text": [
      "There are 28798 books with proper headers\n",
      "filename num 1986 does not have either a start or end reference\n",
      "filename num 2319 does not have language\n",
      "filename num 2319 does not have either a start or end reference\n",
      "filename num 2678 does not have language\n",
      "filename num 2678 does not have either a start or end reference\n",
      "filename num 2766 does not have language\n",
      "filename num 2766 does not have either a start or end reference\n",
      "filename num 2809 does not have language\n",
      "filename num 2897 does not have language\n",
      "filename num 2899 does not have language\n",
      "filename num 2947 does not have language\n",
      "filename num 2947 does not have either a start or end reference\n",
      "filename num 29814 does not have either a start or end reference\n",
      "filename num 3027 does not have either a start or end reference\n",
      "filename num 33089 does not have either a start or end reference\n",
      "filename num 33764 does not have either a start or end reference\n",
      "filename num 34705 does not have either a start or end reference\n",
      "filename num 3512 does not have language\n",
      "filename num 35426 does not have language\n",
      "filename num 35707 does not have either a start or end reference\n",
      "filename num 37482 does not have either a start or end reference\n",
      "filename num 4094 does not have either a start or end reference\n",
      "filename num 4570 does not have either a start or end reference\n",
      "filename num 4637 does not have either a start or end reference\n",
      "filename num 50285 does not have either a start or end reference\n",
      "filename num 576 does not have language\n",
      "filename num 66019 does not have language\n",
      "filename num 66747 does not have language\n",
      "filename num 68349 does not have language\n",
      "filename num 68426 does not have language\n",
      "filename num 68690 does not have language\n",
      "filename num 6875 does not have language\n",
      "filename num 69312 does not have language\n",
      "filename num 70002 does not have language\n",
      "filename num 70046 does not have language\n",
      "filename num 70152 does not have language\n",
      "filename num 70349 does not have language\n",
      "filename num 70360 does not have language\n",
      "filename num 70449 does not have language\n",
      "filename num 70457 does not have language\n",
      "filename num 70488 does not have language\n",
      "filename num 70489 does not have language\n",
      "filename num 70645 does not have language\n",
      "filename num 70651 does not have language\n",
      "That took 6.4 minutes (0.11 hours)\n"
     ]
    }
   ],
   "source": [
    "books_with_proper_header = books_that_exist & ~books_with_decode_error & ~books_with_header_error\n",
    "books_with_language_and_start_end_references = np.zeros(max(filename_num_list)+1, dtype=int)\n",
    "book_languages = np.empty(max(filename_num_list)+1, dtype=str)\n",
    "\n",
    "print(f\"There are {sum(books_with_proper_header)} books with proper headers\")\n",
    "languages = []\n",
    "start_time = time.time()\n",
    "for filename in os.listdir(gutenberg3CollectionFolder):\n",
    "    filename_num = int(re.findall(r'(\\d+)-0.txt', filename)[0])\n",
    "    if books_with_proper_header[filename_num]:\n",
    "        with open(os.path.join(gutenberg3CollectionFolder, filename), \"r\") as f:\n",
    "            book_text = f.read().lower()\n",
    "            try:\n",
    "                language_match = re.search(r'language: ([\\S ]*)\\n', book_text).group(0)\n",
    "                language_text = re.findall(r'language: ([\\S ]*)\\n', language_match)[0]\n",
    "                languages.append(language_text)\n",
    "            except AttributeError as e:\n",
    "                print(f\"filename num {filename_num} does not have language\")\n",
    "            try:\n",
    "                start_reference_match = re.search(r'start of (the|this) project gutenberg ebook', book_text).group(0)\n",
    "                end_reference_match = re.search(r'end of (the|this) project gutenberg ebook', book_text).group(0)\n",
    "            except AttributeError as e:\n",
    "                print(f\"filename num {filename_num} does not have either a start or end reference\")\n",
    "            except:\n",
    "                print(f\"filename num {filename_num} has another error reading start/end references\")\n",
    "end_time = time.time() - start_time\n",
    "print(f\"That took {end_time/60:.1f} minutes ({end_time/3600:.2f} hours)\")"
   ]
  },
  {
   "cell_type": "code",
   "execution_count": 53,
   "id": "3e1da024-81a1-4177-849d-336e4fd59464",
   "metadata": {},
   "outputs": [
    {
     "data": {
      "text/plain": [
       "(array(['', 'afrikaans', 'arabic', 'arapaho', 'bulgarian', 'calo',\n",
       "        'catalan', 'chinese', 'chinese and english', 'chinese, english',\n",
       "        'czech', 'czech, esperanto', 'danish', 'dutch', 'e. p. s. allen',\n",
       "        'en', 'englilsh', 'english', 'english and french',\n",
       "        'english and maori', 'english and old english',\n",
       "        'english with french', 'english, middle (1100-1500)',\n",
       "        'english/latin', 'esperanto', 'farsi', 'finnish', 'fr', 'french',\n",
       "        'french (with english)', 'french / onondaga / english',\n",
       "        'french and latin', 'frisian', 'friulian', 'galician', 'gascon',\n",
       "        'german', 'greek', 'hebrew', 'hungarian', 'icelandic',\n",
       "        'interlingua', 'inuktitut', 'irish',\n",
       "        'it includes irish, scotch, and', 'italian', 'japanese',\n",
       "        'kamilaroi and english', 'kashubian and  polish', 'latin',\n",
       "        'latin with english and greek (ancient)', 'low german',\n",
       "        'middle english', 'nahuatl', 'neapolitan', 'norwegian',\n",
       "        'pennsylvania dutch', 'polish', 'portuguese', 'romanian',\n",
       "        'russian', 'scots', 'serbian', 'slovenian', 'spanish',\n",
       "        'spanish and english', 'swedish', 'tagalog', 'telugu', 'venetian',\n",
       "        'welsh', 'zh'], dtype='<U38'),\n",
       " array([    1,     6,     1,     2,     5,     1,     5,   432,     1,\n",
       "            1,    11,     1,    18,   333,     1,     2,     1, 22645,\n",
       "            1,     1,     1,     1,     1,     1,   133,     1,   392,\n",
       "            1,  1630,     1,     1,     1,     3,     4,     2,     1,\n",
       "         1020,   220,     6,   503,     7,     1,     1,     2,     1,\n",
       "          652,    20,     1,     1,    67,     1,     1,     1,     1,\n",
       "            1,     9,     1,    29,   121,     4,     4,     1,     3,\n",
       "            2,   364,     1,    60,     4,     6,     1,     7,     3]))"
      ]
     },
     "execution_count": 53,
     "metadata": {},
     "output_type": "execute_result"
    }
   ],
   "source": [
    "np.unique(languages, return_counts=True)"
   ]
  },
  {
   "cell_type": "markdown",
   "id": "87192d5c-f3d6-42ce-ae97-049ee60d3021",
   "metadata": {},
   "source": [
    "There are 22645 english texts. TODO: put these in array corresponding to file"
   ]
  },
  {
   "cell_type": "markdown",
   "id": "5d8fd615-a545-45f5-971f-6ec586b226ed",
   "metadata": {},
   "source": [
    "# *Testing idiom-by-idiom*"
   ]
  },
  {
   "cell_type": "markdown",
   "id": "a47bc6bc-7144-4251-ae63-8b4b583eb630",
   "metadata": {},
   "source": [
    "## Init"
   ]
  },
  {
   "cell_type": "code",
   "execution_count": 29,
   "id": "10256f1e-dd5f-45e9-98c0-ab0209f4a1e5",
   "metadata": {},
   "outputs": [],
   "source": [
    "corpora_list = [\n",
    "    (switchboardTexts, switchboard_size, \"SWITCHBOARD\"),\n",
    "    (slateTexts, slate_size, \"SLATE\"),\n",
    "    (biomedTexts, biomed_size, \"BIOMED\"),\n",
    "    (newsTexts, news_size, \"NEWS\"),\n",
    "    (blogsTexts, blogs_size, \"BLOGS\"),\n",
    "    (twitterTexts, twitter_size, \"TWITTER\")\n",
    "]"
   ]
  },
  {
   "cell_type": "code",
   "execution_count": 30,
   "id": "0a731a7b-0d09-487f-91fa-b1c9f2fce647",
   "metadata": {},
   "outputs": [],
   "source": [
    "def testIdiom(corpora_list, idiomPattern):\n",
    "    print(f\"Testing {color.YELLOW}{idiomPattern}{color.END} on these corpora: {color.BLUE}{[name for _,_,name in corpora_list]}{color.END}\")\n",
    "    for corpusTexts, corpus_size, corpus_name in corpora_list:\n",
    "        start_time = time.time()\n",
    "        matchesList, indexList = testIdiomOnCorpus(corpusTexts, idiomPattern)\n",
    "        end_time = time.time() - start_time\n",
    "        print(f\"{color.BLUE}{corpus_name:<12}{color.END} | {color.BLUE}{corpus_size/1000000:>6.2f}M{color.END} words | {color.DARKCYAN}{end_time:>3.2f} seconds{color.END} | {color.RED}{len(matchesList):>4}{color.END} matches | {color.RED}{len(matchesList)/corpus_size*1000000:>6.2f}{color.END} per million words\")"
   ]
  },
  {
   "cell_type": "code",
   "execution_count": 31,
   "id": "8881fa34-ba9c-4151-96e9-bbf3e0f62e95",
   "metadata": {},
   "outputs": [],
   "source": [
    "def printIdioms(corpusTexts, idiomPattern, context_len=30):\n",
    "    for i,text in enumerate(corpusTexts):\n",
    "        match = re.search(idiomPattern, text)\n",
    "        if match is not None:\n",
    "            match_context = text[max(0,match.start()-context_len):min(len(text),match.end()+context_len)]\n",
    "            print(f\"Found match at {i} | {color.GREEN}{match_context}{color.END}\")"
   ]
  },
  {
   "cell_type": "code",
   "execution_count": 32,
   "id": "671df966-402f-409f-a2fb-94d0b69d5562",
   "metadata": {},
   "outputs": [],
   "source": [
    "def testIdiomDifference(corpusTexts, idiomPattern1, idiomPattern2, context_len=30):\n",
    "    for i,text in enumerate(corpusTexts):\n",
    "        match1 = re.search(idiomPattern1, text)\n",
    "        match2 = re.search(idiomPattern2, text)\n",
    "        if (bool(match1 is None) ^ bool(match2 is None)):\n",
    "            print(f\"Discrepancy at index {i}\")\n",
    "            match1context = text[max(0,match1.start()-context_len):min(len(text),match1.end()+context_len)] if match1 else \"None\"\n",
    "            match2context = text[max(0,match2.start()-context_len):min(len(text),match2.end()+context_len)] if match2 else \"None\"\n",
    "            print(f\"\\t{idiomPattern1} gives {color.GREEN}{match1context}{color.END}\")\n",
    "            print(f\"\\t{idiomPattern2} gives {color.GREEN}{match2context}{color.END}\")"
   ]
  },
  {
   "cell_type": "markdown",
   "id": "63c89e2b-7895-44ef-8b6c-d4a75e95ac2a",
   "metadata": {},
   "source": [
    "## Idiom sorting"
   ]
  },
  {
   "cell_type": "markdown",
   "id": "132e15df-39de-455e-91f6-920dcc6ebb8e",
   "metadata": {},
   "source": [
    "### Sorted"
   ]
  },
  {
   "cell_type": "code",
   "execution_count": 61,
   "id": "cb567bc3-a0f8-48c3-b148-270836bd4050",
   "metadata": {},
   "outputs": [],
   "source": [
    "idiom_list_confident = [\n",
    "    r'\\blame ducks?\\b', # Uncommon. Very reliable. Ocurrs particular in news contexts (slate and news corpora)\n",
    "    r'\\baxes? to grind\\b', # Somewhat uncommon. Very reliable\n",
    "    r'\\blow hanging fruits?\\b', # Very uncommon. Reliable (but news had example of actually cutting low hanging fruit and cutting branches)\n",
    "    r'\\bmuckrak(?:er|ers|ing|ed|e|es)\\b', # prominent in news stuff\n",
    "    r'\\blead (?:foot|feet)\\b', # Uncommon but reliable, always in driving context\n",
    "    r'\\btrigger happy\\b', # Rare (only in informal settings like blogs and twitter). But very reliable\n",
    "    r'\\bsilver linings?\\b', # Relatively common and very reliable\n",
    "    r'\\bdrop of a hat\\b', # Uncommon. Reliable. Only missing a few (\"drop of fates hat\" and \"drop of the hat\")\n",
    "    r'\\bcats? out of the bags?\\b', # Uncommon. Reliable\n",
    "    r'\\bmade of money\\b', # Very uncommon\n",
    "    r'\\bsplit(?:s|ing)? hairs?\\b', # Very uncommon\n",
    "    r'\\bcr(?:y|ies|ied|ying) over (?:spilled|spilt) milk\\b', # Uncommon\n",
    "    r'\\bbad blood\\b', # Uncommon\n",
    "    r'\\bin a nutshell\\b', # COMMON (unexpected). Very reliable\n",
    "    r'\\bbottom line\\b', #VERY COMMON. Very reliable\n",
    "    r'\\bsplit the difference\\b', # Very uncommon\n",
    "    r'\\bturn(?:s|ing|ed)? (\\w+ ){,2}blind eyes?\\b', # Somewhat common. Very reliable (even with posessives!)\n",
    "    r'\\b(?:through|on) (\\w+ ){,3}grapevines?\\b', # Pretty uncommon. Pretty reliable (though there was an example of someone actually driving through acres of grapevines)\n",
    "    r'\\bunder the weather\\b', # Somewhat common. Very reliable\n",
    "    r'\\bbeat(?:s|ing)? around the bush\\b', # Uncommon. Reliable\n",
    "    r'\\bgarden variety\\b', # Pretty uncommon. Pretty reliable (though one in news actually did talk about garden variety lettuce)\n",
    "    r'\\bmov(?:e|ed|ing|es) the goal posts?\\b', # Rare (surprising),\n",
    "    r'\\bhousehold names?\\b', # Somewhat common. Probably missing a lot (can have household anything)\n",
    "    r'\\bnip (?:\\w+ ){,3}in the bud\\b', # Very uncommon. Very reliable (even with various nouns)\n",
    "    r'\\b(?:break|breaking|breaks|broke) bread\\b', # Pretty uncommon. Somewhat reliable (but there are a few references to actual religious practices of breaking bread)\n",
    "    r'\\btips? of (?:\\w+ )icebergs?\\b', # Somewhat common. Reliable,\n",
    "    r'\\b(?:apples|oranges) to (?:apples|oranges)\\b', # Uncommon. Very reliable\n",
    "    r'\\bjacks? of all trades\\b', # Uncommon. Very reliable\n",
    "    r'\\b(?:drew|draw(?:s|ing|n)?|pull(?:s|ing|ed)?|got|given|get(?:s|ing)?) the short straw\\b', # Very uncommon. Reliable\n",
    "    r'\\bskin of (\\w+ ){1,3}teeth\\b', # Very uncommon. Very reliable\n",
    "    r'\\b(?:went|gone|go(?:es|ing)?) out of (?:his|her|my|your|their|its|our|ones|the) way\\b', # VERY COMMON. Reliable. Is \"out of the way\" an idiom?\n",
    "    r'\\b(?:bit(?:e|es|ing|ten)?) (off )?more than (?:i|we|he|she|they|you|yall|it|one) (?:can|could) chew\\b', # Uncommon. Reliable. Not sure what else to put for noun?\n",
    "    r'\\bbur(?:y|ies|ied|ying) the hatchets?\\b', # Rare. Pretty reliable (maybe instance of actually burying a hatchet but hard to tell)\n",
    "    r'\\bdog and pony show\\b', # Rare. Reliable (but only have small set of data to tell; may not be in actuality)\n",
    "    r'\\bcut(?:s|ting)? (?:(?:his|her|my|your|their|its|our|ones) (?:\\w+ ){,2})?teeth\\b', # Somewhat uncommon. Reliable (one instance in blogs of some actually cutting their teeth)\n",
    "    r'\\b(?:learn(?:s|ing|t)?|show(?:s|ing|ed)?) the ropes\\b', # Uncommon. Very reliable\n",
    "    r'\\bpipe dreams?\\b', # Uncommon. CTU (Close To Unique)\n",
    "    r'\\blives? under a rock\\b', # Very uncommon. Very reliable (with this wording). Present in informal contexts\n",
    "    r'\\bdiamonds? in the rough\\b', # Very uncommon. CTU\n",
    "    r'\\bnothing to (?:sneeze|scoff) at\\b', # Very uncommon. CTU. Maybe missing some other variations?\n",
    "    r'\\bfrom a to z\\b', # Very uncommon. CTU/LI\n",
    "    r'\\bfrom (?:point )?a to (?:point )?b\\b', # Somewhat uncommon. CTU/LI\n",
    "    r'\\b(?:hard|tough) as (?:a )?nails?\\b', # Uncommon. LI (Less Idiomatic)\n",
    "    r'\\b(?:hard|tough) nut to crack\\b', # Rare. Probably reliable\n",
    "    r'\\bthe big picture\\b', # COMMON. Very reliable (possibly some actual references to a 'big picture' (when little picture appeared before it, but unsure)\n",
    "    r'\\b(?:come|comes|coming|came) into play\\b', #COMMON. LI?\n",
    "    r'\\bwhat the (?:hell|heck)\\b', # INCREDIBLY COMMON. CTU/LI. Exists less in more formal contexts?\n",
    "    r'\\bwhat the fuck\\b', # STILL VERY COMMON. But NO occurrences in news; only blogs or twitter (bc more vulgar)\n",
    "    r'\\bdown the line\\b', # COMMON. CTU? (Would only be non-unique if original meaning (railway line) used)\n",
    "    r'\\bon the line\\b', # VERY COMMON. But only somewhat reliable; confusuion with different literal usage (on the phone)\n",
    "    r'\\bout of line\\b', # Somewhat common. Very reliable (theoretically, some confusion with the same literal meaning of someone being out of a line)\n",
    "    r'\\bdown to the line\\b', # Very rare. Reliable. Replacing 'line' with 'wire' makes only uncommon\n",
    "    r'\\bon (?:the right)?track\\b', # VERY COMMON. CTU? Especially prevalent in news\n",
    "    r'\\bknee(?: |-)?jerk\\b', # Somewhat common. CTU\n",
    "    r'\\b(?:right|straight) off the bat\\b', # Somewhat uncommon. Reliable (just using \"off the bat\" gets a few more idiomatic matches, but many more literal matches from baseball)\n",
    "    r'\\bon target\\b', # Somewhat common. Somewhat reliable, but there are a few *actual* uses of 'on target' in archery or shooting contexts\n",
    "    r'\\bthumbs up\\b', # COMMON. Pretty reliable (some descriptions of people *literally* putting thumbs up to indicate yet, but rare, and in some sense these occurrences count)\n",
    "    r'\\b(?:fell|fall(?:s|ing|en)?) in love\\b', # INCREDIBLY COMMON. CTU/LI\n",
    "    r'\\brules? of thumb\\b', # Somewhat common. CTU\n",
    "    r'\\bface value\\b', # Somewhat common. Only somewhat reliable (there are a number of occurrences of coin related 'face value' statements)\n",
    "    r'\\bfully?(?:-| )fledged\\b', # COMMON. CTU/LI. Occurs in many forms in blogs/twitter, but only grammatically correct form in news corpus\n",
    "    r'\\bgoes to show\\b', # COMMON. CTU. Similar to above, twitter & blogs has many differences from \"it (just) goes to show\", while news has few\n",
    "    r'\\b(?:got|get|getting|gotten|gets) a handle on\\b', # Somewhat common. CTU\n",
    "    r'\\bon the same page\\b', # VERY COMMON. LI, pretty reliable (still a chance for there to be a liter occurrence, though)\n",
    "    r'\\b(?:took|tak(?:e|es|ing|en)) a stab at\\b', # Uncommon. Reliable (more than I would have imagined; haven't found any literal usages yet of people being stabbed)\n",
    "    r'\\b(?:took|tak(?:e|es|ing|en)) (?:his|her|my|your|their|its|our|ones) word for it\\b', # Somewhat common. CTU\n",
    "    \n",
    "]"
   ]
  },
  {
   "cell_type": "code",
   "execution_count": 32,
   "id": "d5d148a4-98e1-4949-8136-bf33203aa97a",
   "metadata": {},
   "outputs": [],
   "source": [
    "posessive_string = r'(?:his|her|my|your|their|its|our|ones)'"
   ]
  },
  {
   "cell_type": "code",
   "execution_count": 33,
   "id": "7dd4d524-ab88-4d44-8eac-f2a53bc7dd5f",
   "metadata": {},
   "outputs": [],
   "source": [
    "idiom_list_unsure = [\n",
    "    r'\\bfollow(?:s|ing|ed)? suit\\b', # There *are* some literal usages; hard to tell apart\n",
    "    r'\\bdodg(?:e|es|ed|ing) (?:a |the )?bullets?\\b', # Somewhat common. Mostly idiomatic, but *easy* to confuse literal vs idiomatic usages\n",
    "    r'\\bon paper\\b', # Very common, but not always idiomatic. ~10-20% are literal (dry on paper towels, write on paper)\n",
    "    r'\\bchopped liver\\b', # Uncommon. Can definitely be confused literal vs idiomatic. Interestingly, everything in news corpus (7) is strictly literal (maybe bc giving recipes) while blogs and twitter (3 and 19) are majority idiomatic (maybe because informal/personal)\n",
    "    r'\\ball bark no bite\\b', # Very rare\n",
    "    r'\\brabbit holes?\\b', # Somewhat common. Some confusion with actual rabbit holes and Alice in Wonderland\n",
    "    r'\\b(?:hold|held|holds|holding) (?:\\w+ ){,2}tounges?\\b', # No occurrences (shocked)\n",
    "    r'\\bwhen in rome\\b', # Uncommon. A fair number of actual statements about rome\n",
    "    r'\\bspeak of the devil\\b', # Rare. Some refer to movie/ep called this\n",
    "    r'\\bfish or cut bait\\b', # Very rare (almost none)\n",
    "    r'\\bcards (?:are )?on the table\\b', # Uncommon. Somewhat hard to tell literal vs idiomatic\n",
    "    r'\\bmeasures? twice,? cuts? once\\b', # Very rare (2 occurrences total, in twitter)\n",
    "    r'\\bstick in the mud\\b', # Very rare (4 total). Should be mostly reliable\n",
    "]"
   ]
  },
  {
   "cell_type": "code",
   "execution_count": 34,
   "id": "b72ef5b2-fae1-4dc3-95fa-952213cf41ff",
   "metadata": {},
   "outputs": [],
   "source": [
    "idiom_list_working = [\n",
    "    r'\\bchips? on ' + posessive_string + r' shoulders?\\b',\n",
    "    r'\\bplay(?:s|ing|ed)? ' + posessive_string + r' cards?\\b', # more that are being missed from posessive modifiers\n",
    "    r'\\b(?:go(?:es|ing)?|went|soar(?:ed|s|ing)?|fl(?:y|ies|ew|ying)) over ' + posessive_string + r' heads?\\b', # 'the' may be good for posessives\n",
    "    r'\\bbehind (?:\\w+ )backs?\\b', # COMMON. But tough to tell apart literal from idiomatic occurrences\n",
    "    r'\\bin the cards\\b',\n",
    "    r'\\bcards on the tables?\\b',\n",
    "    r'\\bburn (\\w+ ){1,3}bridges?\\b',\n",
    "    r'\\b(6|six) \\w+ one,? (\\w+ ){0,3}half(-| )dozen\\b',\n",
    "    r'\\brains? on (\\w+ ){1,3}parades?\\b',\n",
    "    r'\\bpigs? fl(y|i)\\w*\\b',\n",
    "]"
   ]
  },
  {
   "cell_type": "markdown",
   "id": "88d476bc-3a2d-4f21-9776-1773b721e985",
   "metadata": {
    "jp-MarkdownHeadingCollapsed": true
   },
   "source": [
    "### TODO"
   ]
  },
  {
   "cell_type": "markdown",
   "id": "1ba439bc-9577-4b47-bf1d-02b6f43bc560",
   "metadata": {},
   "source": [
    "**Less idiomatic**\n",
    "* agree to disagree\n",
    "* set it in motion\n",
    "* weight off ones mind/shoulders\n",
    "* better safe than sorry\n",
    "* rob one blind\n",
    "* lower ones guard\n",
    "* look before you leap\n",
    "* play it safe\n",
    "* safe side\n",
    "* let sleeping dogs lie\n",
    "* think twice\n",
    "* safe bet\n",
    "* no two ways about it\n",
    "* breath of fresh air\n",
    "* cant teach an old dog new tricks\n",
    "* break the mould\n",
    "* rise from the ashes\n",
    "* the dust settles\n",
    "* every which way\n",
    "* come apart at the seams\n",
    "* if you cant beat them, join them\n",
    "* meet halfway\n",
    "* takes two to tango\n",
    "* nerves of steel\n",
    "* take the law into your own hands\n",
    "* slap on the wrist - still use\n",
    "* crossroads\n",
    "* make or break - use\n",
    "* moment of truth - use\n",
    "* point of no return - use\n",
    "* cast the first stone - use\n",
    "* wolf in sheeps clothing\n",
    "* not long for this world\n",
    "* dont bet on it\n",
    "* even stevens/stephens\n",
    "* meet ones match - use\n",
    "* time is money\n",
    "* (you) live and (you) learn\n",
    "* been there, done that\n",
    "* like father, like son\n",
    "* flesh and blood\\\n",
    "* have eyes bigger than ones stomach\n",
    "* time will tell\n",
    "* needle in a haystack - use\n",
    "* reinvent the wheel\n",
    "* forbidden fruit - use\n",
    "* hope springs eternal - use\n",
    "* when it rains it pours / it never rains but it pours"
   ]
  },
  {
   "cell_type": "markdown",
   "id": "35f54bbf-78fa-4f2d-a240-3e2673a3f41a",
   "metadata": {},
   "source": [
    "---"
   ]
  },
  {
   "cell_type": "markdown",
   "id": "f21f594a-3005-4240-a349-067a79a36c5e",
   "metadata": {},
   "source": [
    "**Difficult, for whatever reason**\n",
    "* keep _ under ones hat\n",
    "* bleed one dry\n",
    "* log arm of the law\n",
    "* wear the pants\n",
    "* boys in blue\n",
    "* public enemy (number 1)\n",
    "* up the river\n",
    "* pot calling the kettle black\n",
    "* rap one over the knuckles\n",
    "* get square with\n",
    "* drown ones sorrows\n",
    "* cold turkey\n",
    "* come out of the closet\n",
    "* know _ like the back of ones hand\n",
    "* not playing with a full deck"
   ]
  },
  {
   "cell_type": "markdown",
   "id": "a73cc32e-fe7b-4eef-8cf3-4d33a2b987d5",
   "metadata": {},
   "source": [
    "**Literal confusion**\n",
    "* sparks fly\n",
    "* get under ones skin\n",
    "* add fuel to the fire\n",
    "* see red\n",
    "* hands are tied\n",
    "* thin ice\n",
    "* walk in the park\n",
    "* drag _ through the dirt/mud\n",
    "* take one to the cleaners\n",
    "* dip ones toes\n",
    "* play ball\n",
    "* shoulder to shoulder\n",
    "* lions den\n",
    "* out of the woods\n",
    "* off/on the hooks\n",
    "* do a number on\n",
    "* take one for a ride\n",
    "* on ones plate\n",
    "* wash your hands of\n",
    "* in spades\n",
    "* over the top - still use\n",
    "* get ones feet wet\n",
    "* spread ones wings\n",
    "* water under the bridge\n",
    "* lay ones cards on the table\n",
    "* count ones chickens / count ones eggs before theyve hatched\n",
    "* in hot water\n",
    "* beat to death (very difficult to separate)\n",
    "* ring a bell"
   ]
  },
  {
   "cell_type": "markdown",
   "id": "2698f026-081e-4946-b2fd-1aa97e7c2326",
   "metadata": {},
   "source": [
    "**Maybeys**\n",
    "* drag your feet\n",
    "* step up to the plate\n",
    "* flip ones lid\n",
    "* last/final straw\n",
    "* blow/toot ones own horn/trumpet\n",
    "* sight for sore eyes\n",
    "* ugly duckling\n",
    "* nose to the grindstone\n",
    "* start/get the ball rolling\n",
    "* pride goes before the/a fall\n",
    "* hand in the cookie jar\n",
    "* throw caution to the wind\n",
    "* count ones chickens (before they've hatched)\n",
    "* turn (over) a new leaf\n",
    "* turn/tip the scales\n",
    "* upset the apple cart\n",
    "* hell broke loose\n",
    "* silver spoon\n",
    "* like a glove\n",
    "* in cahoots\n",
    "* give and take\n",
    "* same page\n",
    "* cold feet\n",
    "* by the book\n",
    "* eleventh hour\n",
    "* knife-edge\n",
    "* push comes to shove\n",
    "* saved by the bell\n",
    "* siren song\n",
    "* davy jones locker\n",
    "* give up the ghost\n",
    "* one foot in the grave\n",
    "* grim reaper\n",
    "* six feet deep/under\n",
    "* beyond the veil\n",
    "* false colors\n",
    "* hook, line, and sinker\n",
    "* wooden nickel\n",
    "* sleight of hand\n",
    "* pull the wool over ones eyes\n",
    "* all bets are off\n",
    "* pinch/grain of salt\n",
    "* lick ones wounds\n",
    "* tail between ones legs\n",
    "* at odds\n",
    "* throw one for a loop\n",
    "* in the ballpark\n",
    "* burn the candle at both ends\n",
    "* break the bank\n",
    "* a chip off the old block\n",
    "* dead from the neck up\n",
    "* writings (writing is) on the wall\n",
    "* turn the other cheek\n",
    "* hold out/extend an olive branch\n",
    "* wipe the slate clean / clean slate\n",
    "* thick skin\n",
    "* waste ones breath\n",
    "* flog/beat a dead horse\n",
    "* spit in(to) the wind\n",
    "* music to ones ears\n",
    "* paint the town red\n",
    "* tickled pink\n",
    "* on top of the world\n",
    "* hold your horses\n",
    "* green around/about the gills\n",
    "* a straight arrow\n",
    "* cross my heart\n",
    "* not rocket science\n",
    "* eat your heart out\n",
    "* reap what you sow\n",
    "* sweet nothings\n",
    "* come hell or high water\n",
    "* nail in the coffin"
   ]
  },
  {
   "cell_type": "markdown",
   "id": "1706427b-8c17-427c-8fb6-fc8deff78b6a",
   "metadata": {},
   "source": [
    "**Strict structure/non-confusing**\n",
    "* wild goose chase\n",
    "* soapbox\n",
    "* young blood\n",
    "* tie one on\n",
    "* under the influence\n",
    "* kick the bucket\n",
    "* eat my hat\n",
    "* roll up ones sleeves\n",
    "* take the plunge\n",
    "* one ones last leg(s)\n",
    "* blood boil\n",
    "* blow ones top\n",
    "* bated breath\n",
    "* rub _ the wrong way\n",
    "* butterflies in _ stomach\n",
    "* sweat bullets\n",
    "* bells and whistles\n",
    "* cut of _ jib\n",
    "* fools gold\n",
    "* hang (on) by a thread\n",
    "* handsome is as handsome does\n",
    "* peas in a pod\n",
    "* bone to pick\n",
    "* devils advocate\n",
    "* go figure\n",
    "* pay your/his/ones respects\n",
    "* tooth and nail\n",
    "* drop names/name drop\n",
    "* eggs in one basket\n",
    "* walk on eggshells\n",
    "* bird in the hand\n",
    "* dollars to doughnuts\n",
    "* boot is on the other foot\n",
    "* rite of passage\n",
    "* bite the bullet\n",
    "* stick ones neck out\n",
    "* back-seat driver\n",
    "* bust ones chops\n",
    "* under fire\n",
    "* mince words\n",
    "* loose cannon\n",
    "* bite the dust\n",
    "* trojan horse\n",
    "* smoke and mirrors\n",
    "* likely story\n",
    "* lose/save face\n",
    "* no mean feat\n",
    "* dime a dozen\n",
    "* jump the gun\n",
    "* get wind of\n",
    "* cloud nine\n",
    "* salt of the earth\n",
    "* look on the bright side\n",
    "* best/worst of both/all possible worlds\n",
    "* on the fence\n",
    "* run off at the mouth / run ones mouth\n",
    "* silver tongue\n",
    "* couch potato\n",
    "* cut corners\n",
    "* mad as a hatter / mad hatter\n",
    "* lose ones marbles\n",
    "* out of ones mind\n",
    "* go postal\n",
    "* have a screw loose\n",
    "* hedge ones bets\n",
    "* jury is out\n",
    "* roll with the punches\n",
    "* slippery slope\n",
    "* word of mouth"
   ]
  },
  {
   "cell_type": "markdown",
   "id": "1f659d85-0c1d-476d-aed5-ce2566e7b0f8",
   "metadata": {},
   "source": [
    "**Recommended to search for**\n",
    "* big picture\n",
    "* come into play\n",
    "* what the hell/heck\n",
    "* down the line\n",
    "* flip a coin\n",
    "* on (the right) track\n",
    "* knee-jerk\n",
    "* right/straight off the bat\n",
    "* on target\n",
    "* thumbs up\n",
    "* fall in love\n",
    "* rule(s) of thumb\n",
    "* take _ at face value\n",
    "* full-fledged\n",
    "* get a handle on\n",
    "* goes to show\n",
    "* nitty-gritty\n",
    "* on the same page\n",
    "* ring a bell\n",
    "* take/make a stab at\n",
    "* take ones word for it"
   ]
  },
  {
   "cell_type": "markdown",
   "id": "4e207a9e-e60d-400f-a721-fd1666aa330c",
   "metadata": {},
   "source": [
    "***LEFT OFF ON PAGE 335 (MISTAKES) OF [\"OXFORD DICTIONARY OF IDIOMS (2ND ED)\"](https://www.ascdegreecollege.ac.in/wp-content/uploads/2020/12/Oxford_Dictionary_of_Idioms.pdf)***"
   ]
  },
  {
   "cell_type": "markdown",
   "id": "4c534568-5ac8-4592-b265-e2243f62d20b",
   "metadata": {},
   "source": [
    "## Testing"
   ]
  },
  {
   "cell_type": "code",
   "execution_count": 111,
   "id": "75a8a803-947d-49ca-b9ec-aa7ce4bff1e1",
   "metadata": {},
   "outputs": [
    {
     "name": "stdout",
     "output_type": "stream",
     "text": [
      "Testing \u001b[93m\\b(?:went|gone|go(?:es|ing)?) out of (?:his|her|my|your|their|its|our|ones|the) way\\b\u001b[0m on these corpora: \u001b[94m['SWITCHBOARD', 'SLATE', 'BIOMED', 'NEWS', 'BLOGS', 'TWITTER']\u001b[0m\n",
      "\u001b[94mSWITCHBOARD \u001b[0m | \u001b[94m  2.90M\u001b[0m words | \u001b[36m0.36 seconds\u001b[0m | \u001b[91m  11\u001b[0m matches | \u001b[91m  3.79\u001b[0m per million words\n",
      "\u001b[94mSLATE       \u001b[0m | \u001b[94m  4.18M\u001b[0m words | \u001b[36m0.40 seconds\u001b[0m | \u001b[91m  19\u001b[0m matches | \u001b[91m  4.55\u001b[0m per million words\n",
      "\u001b[94mBIOMED      \u001b[0m | \u001b[94m  3.32M\u001b[0m words | \u001b[36m0.37 seconds\u001b[0m | \u001b[91m   0\u001b[0m matches | \u001b[91m  0.00\u001b[0m per million words\n",
      "\u001b[94mNEWS        \u001b[0m | \u001b[94m 33.34M\u001b[0m words | \u001b[36m4.21 seconds\u001b[0m | \u001b[91m  98\u001b[0m matches | \u001b[91m  2.94\u001b[0m per million words\n",
      "\u001b[94mBLOGS       \u001b[0m | \u001b[94m 36.41M\u001b[0m words | \u001b[36m3.73 seconds\u001b[0m | \u001b[91m 154\u001b[0m matches | \u001b[91m  4.23\u001b[0m per million words\n",
      "\u001b[94mTWITTER     \u001b[0m | \u001b[94m 27.93M\u001b[0m words | \u001b[36m3.95 seconds\u001b[0m | \u001b[91m  62\u001b[0m matches | \u001b[91m  2.22\u001b[0m per million words\n"
     ]
    }
   ],
   "source": [
    "idiomPattern1 = r'\\b(?:went|gone|go(?:es|ing)?) out of (?:his|her|my|your|their|its|our|ones|the) way\\b'\n",
    "testIdiom(corpora_list, idiomPattern1)"
   ]
  },
  {
   "cell_type": "code",
   "execution_count": 112,
   "id": "36260b47-d0a9-44b7-9320-c28130dba394",
   "metadata": {},
   "outputs": [
    {
     "name": "stdout",
     "output_type": "stream",
     "text": [
      "Testing \u001b[93m\\b(?:went|gone|go(?:es|ing)?) out of (?:his|her|my|your|their|its|our|ones|someones|the) way\\b\u001b[0m on these corpora: \u001b[94m['SWITCHBOARD', 'SLATE', 'BIOMED', 'NEWS', 'BLOGS', 'TWITTER']\u001b[0m\n",
      "\u001b[94mSWITCHBOARD \u001b[0m | \u001b[94m  2.90M\u001b[0m words | \u001b[36m0.27 seconds\u001b[0m | \u001b[91m  11\u001b[0m matches | \u001b[91m  3.79\u001b[0m per million words\n",
      "\u001b[94mSLATE       \u001b[0m | \u001b[94m  4.18M\u001b[0m words | \u001b[36m0.36 seconds\u001b[0m | \u001b[91m  19\u001b[0m matches | \u001b[91m  4.55\u001b[0m per million words\n",
      "\u001b[94mBIOMED      \u001b[0m | \u001b[94m  3.32M\u001b[0m words | \u001b[36m0.31 seconds\u001b[0m | \u001b[91m   0\u001b[0m matches | \u001b[91m  0.00\u001b[0m per million words\n",
      "\u001b[94mNEWS        \u001b[0m | \u001b[94m 33.34M\u001b[0m words | \u001b[36m3.74 seconds\u001b[0m | \u001b[91m  98\u001b[0m matches | \u001b[91m  2.94\u001b[0m per million words\n",
      "\u001b[94mBLOGS       \u001b[0m | \u001b[94m 36.41M\u001b[0m words | \u001b[36m3.72 seconds\u001b[0m | \u001b[91m 154\u001b[0m matches | \u001b[91m  4.23\u001b[0m per million words\n",
      "\u001b[94mTWITTER     \u001b[0m | \u001b[94m 27.93M\u001b[0m words | \u001b[36m3.60 seconds\u001b[0m | \u001b[91m  62\u001b[0m matches | \u001b[91m  2.22\u001b[0m per million words\n"
     ]
    }
   ],
   "source": [
    "idiomPattern2 = r'\\b(?:went|gone|go(?:es|ing)?) out of (?:his|her|my|your|their|its|our|ones|someones|the) way\\b'\n",
    "testIdiom(corpora_list, idiomPattern2)"
   ]
  },
  {
   "cell_type": "code",
   "execution_count": 91,
   "id": "450ec39c-981f-4f95-995d-461c0592a199",
   "metadata": {
    "collapsed": true,
    "jupyter": {
     "outputs_hidden": true
    }
   },
   "outputs": [
    {
     "name": "stdout",
     "output_type": "stream",
     "text": [
      "Discrepancy at index 2453\n",
      "\t\\bgoes to show\\b gives \u001b[92mperil? more likely, it simply goes to show--as do the exchanges in this \u001b[0m\n",
      "\t\\bit (?:just )?goes to show\\b gives \u001b[92mNone\u001b[0m\n",
      "Discrepancy at index 3159\n",
      "\t\\bgoes to show\\b gives \u001b[92m pollack. praying. which just goes to show you how much power that has, \u001b[0m\n",
      "\t\\bit (?:just )?goes to show\\b gives \u001b[92mNone\u001b[0m\n",
      "Discrepancy at index 4508\n",
      "\t\\bgoes to show\\b gives \u001b[92mrices get crunched. this only goes to show you one thing, which happens \u001b[0m\n",
      "\t\\bit (?:just )?goes to show\\b gives \u001b[92mNone\u001b[0m\n"
     ]
    }
   ],
   "source": [
    "testIdiomDifference(slateTexts, idiomPattern1, idiomPattern2)"
   ]
  },
  {
   "cell_type": "code",
   "execution_count": 108,
   "id": "5a675573-2843-4157-9699-15748b8deffa",
   "metadata": {},
   "outputs": [
    {
     "name": "stdout",
     "output_type": "stream",
     "text": [
      "Found match at 16343 | \u001b[92mm my mouth (i cant even describe this thing, just take my word for it). there was even hope that i could go to my frien\u001b[0m\n",
      "Found match at 33827 | \u001b[92myou will have to perhaps take my word for it that up on the roof are one medium-sized trainer \u001b[0m\n",
      "Found match at 52677 | \u001b[92mbut dont take my word for it. go to kindleboards.com and look at all the self-\u001b[0m\n",
      "Found match at 68316 | \u001b[92myou can take my word for it, that for men like me, a marriage after the type \u001b[0m\n",
      "Found match at 97957 | \u001b[92m step-mother anyone could ever hope for. but dont take my word for it – ask my children:-)\u001b[0m\n",
      "Found match at 108389 | \u001b[92much a statistic or how theyd measure it. but if i take their word for it, that would mean four out of every five things i \u001b[0m\n",
      "Found match at 110758 | \u001b[92mwell, take my word for it. i have learned a bunch of stuff. and i fully exp\u001b[0m\n",
      "Found match at 120512 | \u001b[92mtake my word for it. if you love your skin passionately and it will l\u001b[0m\n",
      "Found match at 123777 | \u001b[92m had to go with the data they had. they could not take my word for it that my daughter speaks english, i could not fill\u001b[0m\n",
      "Found match at 127160 | \u001b[92m, had to get to work, blah blah blah. you need to take my word for it, or you can go read the vegan food rocks blog pos\u001b[0m\n",
      "Found match at 135844 | \u001b[92mbut dont just take my word for it, i have proof.\u001b[0m\n",
      "Found match at 136803 | \u001b[92m i.e. ive made these numbers up, so youll have to take my word for it that they are about right!\u001b[0m\n",
      "Found match at 150255 | \u001b[92mbut dont take my word for it, read the book and decide for yourself. youll lau\u001b[0m\n",
      "Found match at 157533 | \u001b[92mcake pops? yeah. not so much. people, please just take my word for it: dont try using the cake mix with canned pumpkin \u001b[0m\n",
      "Found match at 157665 | \u001b[92mdont take my word for it.\u001b[0m\n",
      "Found match at 169155 | \u001b[92matches many traditional books out there. but dont take my word for it, see for yourself. you can try the free 10% sampl\u001b[0m\n",
      "Found match at 172212 | \u001b[92mith the pequod for months, years. we dont have to take his word for it, we can feel it, without feeling the exhaustion f\u001b[0m\n",
      "Found match at 172600 | \u001b[92ms term, can we try mine now? i dont expect you to take my word for it though. research it, evaluate the evidence of him\u001b[0m\n",
      "Found match at 190650 | \u001b[92mal and financial stress of such a situation, just take my word for it. use only original photographs, non-copyrighted p\u001b[0m\n",
      "Found match at 219962 | \u001b[92msure. i got a thumbs up this morning! ill have to take his word for it because i was a good girl and made just enough ;)\u001b[0m\n",
      "Found match at 234432 | \u001b[92m well, the photo just wont do it justice then. so take my word for it - they were yummy and healthy too! go make some!\u001b[0m\n",
      "Found match at 235056 | \u001b[92my camera out with me on that day so youll have to take my word for it. well worth a visit for the tudor enthusiast if o\u001b[0m\n",
      "Found match at 247851 | \u001b[92mlements enhances the style you already have. dont take my word for it – try it! come into slate with a few pictures and\u001b[0m\n",
      "Found match at 260772 | \u001b[92mupdate: we are back today with part ii of our ill take your word for it challenge here at frilly and funkie. since it is \u001b[0m\n",
      "Found match at 266087 | \u001b[92mnt really remember what all weve been up to...but take my word for it, weve had lots going on. since i last posted, bea\u001b[0m\n",
      "Found match at 315814 | \u001b[92mted, equal manner has far-reaching benefits. dont take my word for it; take kades.\u001b[0m\n",
      "Found match at 339446 | \u001b[92me said it matched her shoes -- youll just have to take my word for it, it did. heres our la-di-da queen showing off her\u001b[0m\n",
      "Found match at 341441 | \u001b[92mhis film starts with such a tone of defeat that i took their word for it that defeat was inevitable and just got on board \u001b[0m\n",
      "Found match at 345031 | \u001b[92md and the work of rw paul in much greater detail. take my word for it and have a browse- internet procrastination is ve\u001b[0m\n",
      "Found match at 356795 | \u001b[92mathspey called the braes of auchtertyre. but dont take my word for it: read more on the fiddlers companion website.\u001b[0m\n",
      "Found match at 359459 | \u001b[92mhowever, dont just take my word for it. seek medical guidance if you are unsure. if you \u001b[0m\n",
      "Found match at 362891 | \u001b[92m walks of life who swear by hotpants. ill have to take their word for it, at least for now. in another month or two, maybe\u001b[0m\n",
      "Found match at 371305 | \u001b[92m, but i cant find the picture. youll just have to take my word for it! he was here for quilt canada in 2010)\u001b[0m\n",
      "Found match at 371852 | \u001b[92mo just fine against obama... but you dont have to take my word for it, here is santorum himself endorsing mitt romney i\u001b[0m\n",
      "Found match at 401269 | \u001b[92ms downright witty, i tell you. youll just have to take my word for it.\u001b[0m\n",
      "Found match at 436170 | \u001b[92mthe end of the episode when levar would say, dont take my word for it... and then kids would recommend other books to r\u001b[0m\n",
      "Found match at 455963 | \u001b[92md question mark. grammar truth.) first of all, im taking your word for it that tobacco companies still advertise at all. it\u001b[0m\n",
      "Found match at 461408 | \u001b[92mhe article now, it seems to have disappeared. so, take my word for it... the end of the world is only one year away, so\u001b[0m\n",
      "Found match at 465140 | \u001b[92mdont take our word for it. heres what the late richard rorty, one of the mo\u001b[0m\n",
      "Found match at 483844 | \u001b[92mbut his females said he was lying, so we cant take his word for it. jagger has obviously been copying someone, but f\u001b[0m\n",
      "Found match at 485545 | \u001b[92mdont just take my word for it – below is great article from cnn money.\u001b[0m\n",
      "Found match at 603635 | \u001b[92mnarrow gauge has many satisfied clients, but dont take our word for it. check out our references. we also have a lot of \u001b[0m\n",
      "Found match at 675327 | \u001b[92me very least, cause them to pee their pants. just take my word for it, some of us dont belong in places like that…\u001b[0m\n",
      "Found match at 696530 | \u001b[92mhow good were they? damned good, but dont take my word for it: i took them to a super bowl party today, and two\u001b[0m\n",
      "Found match at 696954 | \u001b[92m eating. he was a little weirded out at first but took my word for it. :) good boy.\u001b[0m\n",
      "Found match at 708886 | \u001b[92mobviously i dont get out much so you cant take my word for it. so when you go see it, let me know what you thin\u001b[0m\n",
      "Found match at 711831 | \u001b[92more than elizabeths, which makes this point. dont take my word for it, though; take mauritz stillers. he directed gösta\u001b[0m\n",
      "Found match at 748538 | \u001b[92mneed more convincing? dont just take my word for it! im not the only one to post a glowing review of \u001b[0m\n",
      "Found match at 759142 | \u001b[92made fried fish fingers. do try this at your home. take our word for it - you, family members, or your friends would devo\u001b[0m\n",
      "Found match at 775771 | \u001b[92mbut dont take our word for it!\u001b[0m\n",
      "Found match at 819587 | \u001b[92m a little bit of gore on the ground so we have to take their word for it.\u001b[0m\n",
      "Found match at 827064 | \u001b[92menjoyed this and possibly learned something. dont take my word for it! research it and find out what the best choice is\u001b[0m\n",
      "Found match at 831156 | \u001b[92mdont take my word for it. here are a few quotables to consider:\u001b[0m\n",
      "Found match at 837977 | \u001b[92mthat said, you can take my word for it – do download this album. do it. right now. all 1\u001b[0m\n",
      "Found match at 849054 | \u001b[92m also taste incredible. i dont eat mutton, so ill take her word for it.\u001b[0m\n",
      "Found match at 862335 | \u001b[92mnt find a link to this one, so youll just have to take my word for it)\u001b[0m\n",
      "Found match at 869010 | \u001b[92mbut dont take my word for it. go to the museums web site and take a look aroun\u001b[0m\n",
      "Found match at 875923 | \u001b[92myou can spare yourselves the drudgery, and either take my word for it, or the more integral thing to do, see for yourse\u001b[0m\n",
      "Found match at 884825 | \u001b[92mhe is again. just come and see for yourself. dont take my word for it or you wont be convinced. ill introduce you, but \u001b[0m\n"
     ]
    }
   ],
   "source": [
    "printIdioms(blogsTexts, idiomPattern1, context_len = 50)"
   ]
  },
  {
   "cell_type": "markdown",
   "id": "8bde55ee-2936-4432-986a-99afa7fa5bd7",
   "metadata": {
    "jp-MarkdownHeadingCollapsed": true
   },
   "source": [
    "## Special notes"
   ]
  },
  {
   "cell_type": "markdown",
   "id": "ffb83bf8-8261-475b-93c5-9204b955d36a",
   "metadata": {
    "jp-MarkdownHeadingCollapsed": true
   },
   "source": [
    "### Posessives in \"chip on my/her/their shoulder\""
   ]
  },
  {
   "cell_type": "code",
   "execution_count": 171,
   "id": "922758a9-11d2-45bc-8535-e369ae1c86f5",
   "metadata": {},
   "outputs": [],
   "source": [
    "posessive_string = r'(?:his|her|my|your|their|its|our)'"
   ]
  },
  {
   "cell_type": "code",
   "execution_count": 174,
   "id": "fa538486-50e7-4731-ab3c-a582fa0d4668",
   "metadata": {},
   "outputs": [
    {
     "name": "stdout",
     "output_type": "stream",
     "text": [
      "Testing \u001b[1m\\bchips? on (?:\\w+ ){1,3}shoulders?\\b\u001b[0m on corpora \u001b[1m['SWITCHBOARD', 'SLATE', 'BIOMED', 'NEWS', 'BLOGS', 'TWITTER']\u001b[0m\n",
      "\u001b[1mSWITCHBOARD \u001b[0m | \u001b[1m  2.90M\u001b[0m words | \u001b[1m   0\u001b[0m matches | \u001b[1m  0.00\u001b[0m per million words\n",
      "\u001b[1mSLATE       \u001b[0m | \u001b[1m  4.18M\u001b[0m words | \u001b[1m   1\u001b[0m matches | \u001b[1m  0.24\u001b[0m per million words\n",
      "\u001b[1mBIOMED      \u001b[0m | \u001b[1m  3.32M\u001b[0m words | \u001b[1m   0\u001b[0m matches | \u001b[1m  0.00\u001b[0m per million words\n",
      "\u001b[1mNEWS        \u001b[0m | \u001b[1m 33.34M\u001b[0m words | \u001b[1m  52\u001b[0m matches | \u001b[1m  1.56\u001b[0m per million words\n",
      "\u001b[1mBLOGS       \u001b[0m | \u001b[1m 36.41M\u001b[0m words | \u001b[1m  16\u001b[0m matches | \u001b[1m  0.44\u001b[0m per million words\n",
      "\u001b[1mTWITTER     \u001b[0m | \u001b[1m 27.93M\u001b[0m words | \u001b[1m  14\u001b[0m matches | \u001b[1m  0.50\u001b[0m per million words\n"
     ]
    }
   ],
   "source": [
    "idiomPattern1 = r'\\bchips? on (?:\\w+ ){1,3}shoulders?\\b'\n",
    "testIdiom(corpora_list, idiomPattern1)"
   ]
  },
  {
   "cell_type": "code",
   "execution_count": 175,
   "id": "5a4d468d-4ad0-4afc-a1de-b783e785fbe0",
   "metadata": {},
   "outputs": [
    {
     "name": "stdout",
     "output_type": "stream",
     "text": [
      "Testing \u001b[1m\\bchips? on (?:his|her|my|your|their|its|our) shoulders?\\b\u001b[0m on corpora \u001b[1m['SWITCHBOARD', 'SLATE', 'BIOMED', 'NEWS', 'BLOGS', 'TWITTER']\u001b[0m\n",
      "\u001b[1mSWITCHBOARD \u001b[0m | \u001b[1m  2.90M\u001b[0m words | \u001b[1m   0\u001b[0m matches | \u001b[1m  0.00\u001b[0m per million words\n",
      "\u001b[1mSLATE       \u001b[0m | \u001b[1m  4.18M\u001b[0m words | \u001b[1m   1\u001b[0m matches | \u001b[1m  0.24\u001b[0m per million words\n",
      "\u001b[1mBIOMED      \u001b[0m | \u001b[1m  3.32M\u001b[0m words | \u001b[1m   0\u001b[0m matches | \u001b[1m  0.00\u001b[0m per million words\n",
      "\u001b[1mNEWS        \u001b[0m | \u001b[1m 33.34M\u001b[0m words | \u001b[1m  47\u001b[0m matches | \u001b[1m  1.41\u001b[0m per million words\n",
      "\u001b[1mBLOGS       \u001b[0m | \u001b[1m 36.41M\u001b[0m words | \u001b[1m  15\u001b[0m matches | \u001b[1m  0.41\u001b[0m per million words\n",
      "\u001b[1mTWITTER     \u001b[0m | \u001b[1m 27.93M\u001b[0m words | \u001b[1m  13\u001b[0m matches | \u001b[1m  0.47\u001b[0m per million words\n"
     ]
    }
   ],
   "source": [
    "idiomPattern2 = r'\\bchips? on ' + posessive_string + r' shoulders?\\b'\n",
    "testIdiom(corpora_list, idiomPattern2)"
   ]
  },
  {
   "cell_type": "code",
   "execution_count": 178,
   "id": "d5cd44ed-af8c-4707-8413-b9595bcda46c",
   "metadata": {},
   "outputs": [
    {
     "name": "stdout",
     "output_type": "stream",
     "text": [
      "Discrepancy at index 616828\n",
      "\t\\bchips? on (?:\\w+ ){1,3}shoulders?\\b gives \u001b[1mver that super tuesday sting. chip on the old shoulder just waiting to be knocked ov\u001b[0m\n",
      "\t\\bchips? on (?:his|her|my|your|their|its|our) shoulders?\\b gives \u001b[1mNone\u001b[0m\n"
     ]
    }
   ],
   "source": [
    "testIdiomDifference(blogsTexts, idiomPattern1, idiomPattern2)"
   ]
  },
  {
   "cell_type": "markdown",
   "id": "9eb56b70-a6ba-4515-b68a-e8187518ef9e",
   "metadata": {
    "jp-MarkdownHeadingCollapsed": true
   },
   "source": [
    "### Unique posessive modifiers in \"play the _ card\""
   ]
  },
  {
   "cell_type": "code",
   "execution_count": 180,
   "id": "c2fea1d6-93a2-422f-8954-9acd626bfef5",
   "metadata": {},
   "outputs": [
    {
     "name": "stdout",
     "output_type": "stream",
     "text": [
      "Testing \u001b[1m\\bplay(?:s|ing|ed)? (?:\\w+ ){1,3}cards?\\b\u001b[0m on corpora \u001b[1m['SWITCHBOARD', 'SLATE', 'BIOMED', 'NEWS', 'BLOGS', 'TWITTER']\u001b[0m\n",
      "\u001b[1mSWITCHBOARD \u001b[0m | \u001b[1m  2.90M\u001b[0m words | \u001b[1m   2\u001b[0m matches | \u001b[1m  0.69\u001b[0m per million words\n",
      "\u001b[1mSLATE       \u001b[0m | \u001b[1m  4.18M\u001b[0m words | \u001b[1m  21\u001b[0m matches | \u001b[1m  5.02\u001b[0m per million words\n",
      "\u001b[1mBIOMED      \u001b[0m | \u001b[1m  3.32M\u001b[0m words | \u001b[1m   0\u001b[0m matches | \u001b[1m  0.00\u001b[0m per million words\n",
      "\u001b[1mNEWS        \u001b[0m | \u001b[1m 33.34M\u001b[0m words | \u001b[1m  47\u001b[0m matches | \u001b[1m  1.41\u001b[0m per million words\n",
      "\u001b[1mBLOGS       \u001b[0m | \u001b[1m 36.41M\u001b[0m words | \u001b[1m  68\u001b[0m matches | \u001b[1m  1.87\u001b[0m per million words\n",
      "\u001b[1mTWITTER     \u001b[0m | \u001b[1m 27.93M\u001b[0m words | \u001b[1m  68\u001b[0m matches | \u001b[1m  2.43\u001b[0m per million words\n"
     ]
    }
   ],
   "source": [
    "idiomPattern1 = r'\\bplay(?:s|ing|ed)? (?:\\w+ ){1,3}cards?\\b'\n",
    "testIdiom(corpora_list, idiomPattern1)"
   ]
  },
  {
   "cell_type": "code",
   "execution_count": 181,
   "id": "c2545247-fa66-4275-a648-8500f4546963",
   "metadata": {},
   "outputs": [
    {
     "name": "stdout",
     "output_type": "stream",
     "text": [
      "Testing \u001b[1m\\bplay(?:s|ing|ed)? (?:his|her|my|your|their|its|our) cards?\\b\u001b[0m on corpora \u001b[1m['SWITCHBOARD', 'SLATE', 'BIOMED', 'NEWS', 'BLOGS', 'TWITTER']\u001b[0m\n",
      "\u001b[1mSWITCHBOARD \u001b[0m | \u001b[1m  2.90M\u001b[0m words | \u001b[1m   0\u001b[0m matches | \u001b[1m  0.00\u001b[0m per million words\n",
      "\u001b[1mSLATE       \u001b[0m | \u001b[1m  4.18M\u001b[0m words | \u001b[1m   3\u001b[0m matches | \u001b[1m  0.72\u001b[0m per million words\n",
      "\u001b[1mBIOMED      \u001b[0m | \u001b[1m  3.32M\u001b[0m words | \u001b[1m   0\u001b[0m matches | \u001b[1m  0.00\u001b[0m per million words\n",
      "\u001b[1mNEWS        \u001b[0m | \u001b[1m 33.34M\u001b[0m words | \u001b[1m   8\u001b[0m matches | \u001b[1m  0.24\u001b[0m per million words\n",
      "\u001b[1mBLOGS       \u001b[0m | \u001b[1m 36.41M\u001b[0m words | \u001b[1m  12\u001b[0m matches | \u001b[1m  0.33\u001b[0m per million words\n",
      "\u001b[1mTWITTER     \u001b[0m | \u001b[1m 27.93M\u001b[0m words | \u001b[1m  17\u001b[0m matches | \u001b[1m  0.61\u001b[0m per million words\n"
     ]
    }
   ],
   "source": [
    "idiomPattern2 = r'\\bplay(?:s|ing|ed)? ' + posessive_string + r' cards?\\b'\n",
    "testIdiom(corpora_list, idiomPattern2)"
   ]
  },
  {
   "cell_type": "code",
   "execution_count": 185,
   "id": "b29e2113-1a9a-463c-83a2-fd547c9ba5c3",
   "metadata": {
    "collapsed": true,
    "jupyter": {
     "outputs_hidden": true
    }
   },
   "outputs": [
    {
     "name": "stdout",
     "output_type": "stream",
     "text": [
      "Discrepancy at index 1168\n",
      "\t\\bplay(?:s|ing|ed)? (?:\\w+ ){1,3}cards?\\b gives \u001b[1momas critics say he cynically played the race card by accusing his opponents of \u001b[0m\n",
      "\t\\bplay(?:s|ing|ed)? (?:his|her|my|your|their|its|our) cards?\\b gives \u001b[1mNone\u001b[0m\n",
      "Discrepancy at index 1249\n",
      "\t\\bplay(?:s|ing|ed)? (?:\\w+ ){1,3}cards?\\b gives \u001b[1marticle says kenneth starr is playing the race card in the lewinsky case: starr w\u001b[0m\n",
      "\t\\bplay(?:s|ing|ed)? (?:his|her|my|your|their|its|our) cards?\\b gives \u001b[1mNone\u001b[0m\n",
      "Discrepancy at index 1362\n",
      "\t\\bplay(?:s|ing|ed)? (?:\\w+ ){1,3}cards?\\b gives \u001b[1m to circumvent prosecution by playing the internets trump card: moving compuserves german of\u001b[0m\n",
      "\t\\bplay(?:s|ing|ed)? (?:his|her|my|your|their|its|our) cards?\\b gives \u001b[1mNone\u001b[0m\n",
      "Discrepancy at index 1554\n",
      "\t\\bplay(?:s|ing|ed)? (?:\\w+ ){1,3}cards?\\b gives \u001b[1mble if other parties tried to play the extremist card in the run-up to the next gen\u001b[0m\n",
      "\t\\bplay(?:s|ing|ed)? (?:his|her|my|your|their|its|our) cards?\\b gives \u001b[1mNone\u001b[0m\n",
      "Discrepancy at index 1979\n",
      "\t\\bplay(?:s|ing|ed)? (?:\\w+ ){1,3}cards?\\b gives \u001b[1mdgy caucasian republicans are playing the victimology card at all. the basic explanation\u001b[0m\n",
      "\t\\bplay(?:s|ing|ed)? (?:his|her|my|your|their|its|our) cards?\\b gives \u001b[1mNone\u001b[0m\n",
      "Discrepancy at index 2545\n",
      "\t\\bplay(?:s|ing|ed)? (?:\\w+ ){1,3}cards?\\b gives \u001b[1mubtopic on an index card, and playing around with the cards till he finds the right order\u001b[0m\n",
      "\t\\bplay(?:s|ing|ed)? (?:his|her|my|your|their|its|our) cards?\\b gives \u001b[1mNone\u001b[0m\n",
      "Discrepancy at index 2761\n",
      "\t\\bplay(?:s|ing|ed)? (?:\\w+ ){1,3}cards?\\b gives \u001b[1mthe right thing suggesting he play the race card?. --helpfully hopeful or hope\u001b[0m\n",
      "\t\\bplay(?:s|ing|ed)? (?:his|her|my|your|their|its|our) cards?\\b gives \u001b[1mNone\u001b[0m\n",
      "Discrepancy at index 2765\n",
      "\t\\bplay(?:s|ing|ed)? (?:\\w+ ){1,3}cards?\\b gives \u001b[1me letter writer had urged the playing of the race card, suggesting that the reason t\u001b[0m\n",
      "\t\\bplay(?:s|ing|ed)? (?:his|her|my|your|their|its|our) cards?\\b gives \u001b[1mNone\u001b[0m\n",
      "Discrepancy at index 2784\n",
      "\t\\bplay(?:s|ing|ed)? (?:\\w+ ){1,3}cards?\\b gives \u001b[1m moderate democrats wanted to play only their strongest cards. that didnt matter much, thou\u001b[0m\n",
      "\t\\bplay(?:s|ing|ed)? (?:his|her|my|your|their|its|our) cards?\\b gives \u001b[1mNone\u001b[0m\n",
      "Discrepancy at index 3381\n",
      "\t\\bplay(?:s|ing|ed)? (?:\\w+ ){1,3}cards?\\b gives \u001b[1m to let his sellout filmmaker play the intravenous card. melodramas like true crime a\u001b[0m\n",
      "\t\\bplay(?:s|ing|ed)? (?:his|her|my|your|their|its|our) cards?\\b gives \u001b[1mNone\u001b[0m\n",
      "Discrepancy at index 3471\n",
      "\t\\bplay(?:s|ing|ed)? (?:\\w+ ){1,3}cards?\\b gives \u001b[1mng lunacy. dowd, in contrast, plays her ideological cards close to the vest. her publis\u001b[0m\n",
      "\t\\bplay(?:s|ing|ed)? (?:his|her|my|your|their|its|our) cards?\\b gives \u001b[1mNone\u001b[0m\n",
      "Discrepancy at index 3499\n",
      "\t\\bplay(?:s|ing|ed)? (?:\\w+ ){1,3}cards?\\b gives \u001b[1mtampa of turin led on clinton playing the yeltsin card, while corriere della sera of\u001b[0m\n",
      "\t\\bplay(?:s|ing|ed)? (?:his|her|my|your|their|its|our) cards?\\b gives \u001b[1mNone\u001b[0m\n",
      "Discrepancy at index 3594\n",
      "\t\\bplay(?:s|ing|ed)? (?:\\w+ ){1,3}cards?\\b gives \u001b[1m this opposition, republicans played the molester card. they added $10 million to th\u001b[0m\n",
      "\t\\bplay(?:s|ing|ed)? (?:his|her|my|your|their|its|our) cards?\\b gives \u001b[1mNone\u001b[0m\n",
      "Discrepancy at index 3693\n",
      "\t\\bplay(?:s|ing|ed)? (?:\\w+ ){1,3}cards?\\b gives \u001b[1m in his favor. all he did was play the cards. 4. location vs. job title. b\u001b[0m\n",
      "\t\\bplay(?:s|ing|ed)? (?:his|her|my|your|their|its|our) cards?\\b gives \u001b[1mNone\u001b[0m\n",
      "Discrepancy at index 3718\n",
      "\t\\bplay(?:s|ing|ed)? (?:\\w+ ){1,3}cards?\\b gives \u001b[1med the agreement. instead, he played the tribal card. it will be up to his future \u001b[0m\n",
      "\t\\bplay(?:s|ing|ed)? (?:his|her|my|your|their|its|our) cards?\\b gives \u001b[1mNone\u001b[0m\n",
      "Discrepancy at index 3753\n",
      "\t\\bplay(?:s|ing|ed)? (?:\\w+ ){1,3}cards?\\b gives \u001b[1mforce the euro up too high by playing the weak dollar card. in israel, haaretz quoted de\u001b[0m\n",
      "\t\\bplay(?:s|ing|ed)? (?:his|her|my|your|their|its|our) cards?\\b gives \u001b[1mNone\u001b[0m\n",
      "Discrepancy at index 4109\n",
      "\t\\bplay(?:s|ing|ed)? (?:\\w+ ){1,3}cards?\\b gives \u001b[1mnd emotional cowardice, allen plays a trump card: that beautiful music. maybe \u001b[0m\n",
      "\t\\bplay(?:s|ing|ed)? (?:his|her|my|your|their|its|our) cards?\\b gives \u001b[1mNone\u001b[0m\n"
     ]
    }
   ],
   "source": [
    "testIdiomDifference(slateTexts, idiomPattern1, idiomPattern2)"
   ]
  },
  {
   "cell_type": "markdown",
   "id": "a200c843-9098-4967-a055-ad732e94d95a",
   "metadata": {
    "jp-MarkdownHeadingCollapsed": true
   },
   "source": [
    "### Filler words in telephone call"
   ]
  },
  {
   "cell_type": "code",
   "execution_count": 183,
   "id": "6caa8e79-c451-4dd2-9f73-e15f1ee3a242",
   "metadata": {},
   "outputs": [
    {
     "name": "stdout",
     "output_type": "stream",
     "text": [
      "Found match at 476 | \u001b[1merage. uh-huh. of course they play their you know cards right and do some good invest\u001b[0m\n",
      "Found match at 1055 | \u001b[1me we started teaching them to play games and card games and so forth and and uh\u001b[0m\n"
     ]
    }
   ],
   "source": [
    "printIdioms(switchboardTexts, r'\\bplay(?:s|ing|ed)? (?:\\w+ ){1,3}cards?\\b')"
   ]
  },
  {
   "cell_type": "markdown",
   "id": "2c5c8fbf-0a40-45a4-a9ad-1ddebe1d4afa",
   "metadata": {
    "jp-MarkdownHeadingCollapsed": true
   },
   "source": [
    "### almost misrepresenting \"go over ones head\""
   ]
  },
  {
   "cell_type": "code",
   "execution_count": 187,
   "id": "e879da33-7a80-4268-94fb-da20b44d7c84",
   "metadata": {},
   "outputs": [
    {
     "name": "stdout",
     "output_type": "stream",
     "text": [
      "Testing \u001b[1m\\bover (\\w+ ){1,3}heads?\\b\u001b[0m on corpora \u001b[1m['SWITCHBOARD', 'SLATE', 'BIOMED', 'NEWS', 'BLOGS', 'TWITTER']\u001b[0m\n",
      "\u001b[1mSWITCHBOARD \u001b[0m | \u001b[1m  2.90M\u001b[0m words | \u001b[1m  24\u001b[0m matches | \u001b[1m  8.26\u001b[0m per million words\n",
      "\u001b[1mSLATE       \u001b[0m | \u001b[1m  4.18M\u001b[0m words | \u001b[1m  30\u001b[0m matches | \u001b[1m  7.18\u001b[0m per million words\n",
      "\u001b[1mBIOMED      \u001b[0m | \u001b[1m  3.32M\u001b[0m words | \u001b[1m   1\u001b[0m matches | \u001b[1m  0.30\u001b[0m per million words\n",
      "\u001b[1mNEWS        \u001b[0m | \u001b[1m 33.34M\u001b[0m words | \u001b[1m 311\u001b[0m matches | \u001b[1m  9.33\u001b[0m per million words\n",
      "\u001b[1mBLOGS       \u001b[0m | \u001b[1m 36.41M\u001b[0m words | \u001b[1m 473\u001b[0m matches | \u001b[1m 12.99\u001b[0m per million words\n",
      "\u001b[1mTWITTER     \u001b[0m | \u001b[1m 27.93M\u001b[0m words | \u001b[1m 194\u001b[0m matches | \u001b[1m  6.94\u001b[0m per million words\n"
     ]
    }
   ],
   "source": [
    "idiomPattern1 = r'\\bover (\\w+ ){1,3}heads?\\b'\n",
    "testIdiom(corpora_list, idiomPattern1)"
   ]
  },
  {
   "cell_type": "code",
   "execution_count": 188,
   "id": "c7786b10-1792-4870-8d39-f0d5e7d8b21e",
   "metadata": {},
   "outputs": [
    {
     "name": "stdout",
     "output_type": "stream",
     "text": [
      "Testing \u001b[1m\\bover (?:his|her|my|your|their|its|our|ones) heads?\\b\u001b[0m on corpora \u001b[1m['SWITCHBOARD', 'SLATE', 'BIOMED', 'NEWS', 'BLOGS', 'TWITTER']\u001b[0m\n",
      "\u001b[1mSWITCHBOARD \u001b[0m | \u001b[1m  2.90M\u001b[0m words | \u001b[1m  16\u001b[0m matches | \u001b[1m  5.51\u001b[0m per million words\n",
      "\u001b[1mSLATE       \u001b[0m | \u001b[1m  4.18M\u001b[0m words | \u001b[1m  16\u001b[0m matches | \u001b[1m  3.83\u001b[0m per million words\n",
      "\u001b[1mBIOMED      \u001b[0m | \u001b[1m  3.32M\u001b[0m words | \u001b[1m   0\u001b[0m matches | \u001b[1m  0.00\u001b[0m per million words\n",
      "\u001b[1mNEWS        \u001b[0m | \u001b[1m 33.34M\u001b[0m words | \u001b[1m 174\u001b[0m matches | \u001b[1m  5.22\u001b[0m per million words\n",
      "\u001b[1mBLOGS       \u001b[0m | \u001b[1m 36.41M\u001b[0m words | \u001b[1m 320\u001b[0m matches | \u001b[1m  8.79\u001b[0m per million words\n",
      "\u001b[1mTWITTER     \u001b[0m | \u001b[1m 27.93M\u001b[0m words | \u001b[1m 122\u001b[0m matches | \u001b[1m  4.37\u001b[0m per million words\n"
     ]
    }
   ],
   "source": [
    "idiomPattern2 = r'\\bover ' + posessive_string + r' heads?\\b'\n",
    "testIdiom(corpora_list, idiomPattern2)"
   ]
  },
  {
   "cell_type": "code",
   "execution_count": 190,
   "id": "879d686e-73d7-47eb-8ea9-417507a667fb",
   "metadata": {},
   "outputs": [
    {
     "name": "stdout",
     "output_type": "stream",
     "text": [
      "Testing \u001b[1m\\b(?:go(?:es|ing)?|went|soar(?:ed|s|ing)?|fl(?:y|ies|ew|ying)) over (?:his|her|my|your|their|its|our|ones) heads?\\b\u001b[0m on corpora \u001b[1m['SWITCHBOARD', 'SLATE', 'BIOMED', 'NEWS', 'BLOGS', 'TWITTER']\u001b[0m\n",
      "\u001b[1mSWITCHBOARD \u001b[0m | \u001b[1m  2.90M\u001b[0m words | \u001b[1m   1\u001b[0m matches | \u001b[1m  0.34\u001b[0m per million words\n",
      "\u001b[1mSLATE       \u001b[0m | \u001b[1m  4.18M\u001b[0m words | \u001b[1m   2\u001b[0m matches | \u001b[1m  0.48\u001b[0m per million words\n",
      "\u001b[1mBIOMED      \u001b[0m | \u001b[1m  3.32M\u001b[0m words | \u001b[1m   0\u001b[0m matches | \u001b[1m  0.00\u001b[0m per million words\n",
      "\u001b[1mNEWS        \u001b[0m | \u001b[1m 33.34M\u001b[0m words | \u001b[1m   8\u001b[0m matches | \u001b[1m  0.24\u001b[0m per million words\n",
      "\u001b[1mBLOGS       \u001b[0m | \u001b[1m 36.41M\u001b[0m words | \u001b[1m  18\u001b[0m matches | \u001b[1m  0.49\u001b[0m per million words\n",
      "\u001b[1mTWITTER     \u001b[0m | \u001b[1m 27.93M\u001b[0m words | \u001b[1m  13\u001b[0m matches | \u001b[1m  0.47\u001b[0m per million words\n"
     ]
    }
   ],
   "source": [
    "idiomPattern3 = r'\\b(?:go(?:es|ing)?|went|soar(?:ed|s|ing)?|fl(?:y|ies|ew|ying)) over ' + posessive_string + r' heads?\\b'\n",
    "testIdiom(corpora_list, idiomPattern3)"
   ]
  },
  {
   "cell_type": "code",
   "execution_count": 191,
   "id": "3b7ef982-c9c1-4ce3-b733-2132575b2c0d",
   "metadata": {},
   "outputs": [
    {
     "name": "stdout",
     "output_type": "stream",
     "text": [
      "Testing \u001b[1m\\b(?:go(?:es|ing)?|went|soar(?:ed|s|ing)?|fl(?:y|ies|ew|ying)) over (\\w+ ){1,3}heads?\\b\u001b[0m on corpora \u001b[1m['SWITCHBOARD', 'SLATE', 'BIOMED', 'NEWS', 'BLOGS', 'TWITTER']\u001b[0m\n",
      "\u001b[1mSWITCHBOARD \u001b[0m | \u001b[1m  2.90M\u001b[0m words | \u001b[1m   2\u001b[0m matches | \u001b[1m  0.69\u001b[0m per million words\n",
      "\u001b[1mSLATE       \u001b[0m | \u001b[1m  4.18M\u001b[0m words | \u001b[1m   3\u001b[0m matches | \u001b[1m  0.72\u001b[0m per million words\n",
      "\u001b[1mBIOMED      \u001b[0m | \u001b[1m  3.32M\u001b[0m words | \u001b[1m   0\u001b[0m matches | \u001b[1m  0.00\u001b[0m per million words\n",
      "\u001b[1mNEWS        \u001b[0m | \u001b[1m 33.34M\u001b[0m words | \u001b[1m  12\u001b[0m matches | \u001b[1m  0.36\u001b[0m per million words\n",
      "\u001b[1mBLOGS       \u001b[0m | \u001b[1m 36.41M\u001b[0m words | \u001b[1m  27\u001b[0m matches | \u001b[1m  0.74\u001b[0m per million words\n",
      "\u001b[1mTWITTER     \u001b[0m | \u001b[1m 27.93M\u001b[0m words | \u001b[1m  19\u001b[0m matches | \u001b[1m  0.68\u001b[0m per million words\n"
     ]
    }
   ],
   "source": [
    "idiomPattern4 = r'\\b(?:go(?:es|ing)?|went|soar(?:ed|s|ing)?|fl(?:y|ies|ew|ying)) over (\\w+ ){1,3}heads?\\b'\n",
    "testIdiom(corpora_list, idiomPattern4)"
   ]
  },
  {
   "cell_type": "code",
   "execution_count": 193,
   "id": "28cac679-8310-453f-8f79-f831d371b534",
   "metadata": {},
   "outputs": [
    {
     "name": "stdout",
     "output_type": "stream",
     "text": [
      "Discrepancy at index 2715\n",
      "\t\\b(?:go(?:es|ing)?|went|soar(?:ed|s|ing)?|fl(?:y|ies|ew|ying)) over (?:his|her|my|your|their|its|our|ones) heads?\\b gives \u001b[1mNone\u001b[0m\n",
      "\t\\b(?:go(?:es|ing)?|went|soar(?:ed|s|ing)?|fl(?:y|ies|ew|ying)) over (\\w+ ){1,3}heads?\\b gives \u001b[1mton showed, guaranteed not to go over the heads of the populace of any contin\u001b[0m\n"
     ]
    }
   ],
   "source": [
    "testIdiomDifference(slateTexts, idiomPattern3, idiomPattern4)"
   ]
  },
  {
   "cell_type": "markdown",
   "id": "05955da5-b3e8-49ee-a3b2-5b87827550f4",
   "metadata": {
    "jp-MarkdownHeadingCollapsed": true
   },
   "source": [
    "### unique nouns, quantifiers in \"dodge the _ bullet\""
   ]
  },
  {
   "cell_type": "markdown",
   "id": "e116d660-d76d-4277-9ae5-1c81155addc1",
   "metadata": {},
   "source": [
    "* \"dodged the first bullet\" - \"first\" is Adjective\n",
    "* \"dodged a lot of bullets\" - \"a lot of\" is Quantifier Phrase\n",
    "* \"dodged that bullet\" - \"that\" is a Determiner"
   ]
  },
  {
   "cell_type": "code",
   "execution_count": 215,
   "id": "962eb140-260f-4130-9b61-fb136d242cf1",
   "metadata": {},
   "outputs": [
    {
     "name": "stdout",
     "output_type": "stream",
     "text": [
      "Testing \u001b[1m\\bdodg(\\w+) (\\w+ ){0,3}bullets?\\b\u001b[0m on corpora \u001b[1m['SWITCHBOARD', 'SLATE', 'BIOMED', 'NEWS', 'BLOGS', 'TWITTER']\u001b[0m\n",
      "\u001b[1mSWITCHBOARD \u001b[0m | \u001b[1m  2.90M\u001b[0m words | \u001b[1m   0\u001b[0m matches | \u001b[1m  0.00\u001b[0m per million words\n",
      "\u001b[1mSLATE       \u001b[0m | \u001b[1m  4.18M\u001b[0m words | \u001b[1m   3\u001b[0m matches | \u001b[1m  0.72\u001b[0m per million words\n",
      "\u001b[1mBIOMED      \u001b[0m | \u001b[1m  3.32M\u001b[0m words | \u001b[1m   0\u001b[0m matches | \u001b[1m  0.00\u001b[0m per million words\n",
      "\u001b[1mNEWS        \u001b[0m | \u001b[1m 33.34M\u001b[0m words | \u001b[1m  25\u001b[0m matches | \u001b[1m  0.75\u001b[0m per million words\n",
      "\u001b[1mBLOGS       \u001b[0m | \u001b[1m 36.41M\u001b[0m words | \u001b[1m  18\u001b[0m matches | \u001b[1m  0.49\u001b[0m per million words\n",
      "\u001b[1mTWITTER     \u001b[0m | \u001b[1m 27.93M\u001b[0m words | \u001b[1m  34\u001b[0m matches | \u001b[1m  1.22\u001b[0m per million words\n"
     ]
    }
   ],
   "source": [
    "idiomPattern1 = r'\\bdodg(\\w+) (\\w+ ){0,3}bullets?\\b'\n",
    "testIdiom(corpora_list, idiomPattern1)"
   ]
  },
  {
   "cell_type": "code",
   "execution_count": 218,
   "id": "61cbe1da-8739-4dc1-921c-d70df87b0dcd",
   "metadata": {},
   "outputs": [
    {
     "name": "stdout",
     "output_type": "stream",
     "text": [
      "Testing \u001b[1m\\bdodg(?:e|es|ed|ing) (?:a |the )?bullets?\\b\u001b[0m on corpora \u001b[1m['SWITCHBOARD', 'SLATE', 'BIOMED', 'NEWS', 'BLOGS', 'TWITTER']\u001b[0m\n",
      "\u001b[1mSWITCHBOARD \u001b[0m | \u001b[1m  2.90M\u001b[0m words | \u001b[1m   0\u001b[0m matches | \u001b[1m  0.00\u001b[0m per million words\n",
      "\u001b[1mSLATE       \u001b[0m | \u001b[1m  4.18M\u001b[0m words | \u001b[1m   3\u001b[0m matches | \u001b[1m  0.72\u001b[0m per million words\n",
      "\u001b[1mBIOMED      \u001b[0m | \u001b[1m  3.32M\u001b[0m words | \u001b[1m   0\u001b[0m matches | \u001b[1m  0.00\u001b[0m per million words\n",
      "\u001b[1mNEWS        \u001b[0m | \u001b[1m 33.34M\u001b[0m words | \u001b[1m  19\u001b[0m matches | \u001b[1m  0.57\u001b[0m per million words\n",
      "\u001b[1mBLOGS       \u001b[0m | \u001b[1m 36.41M\u001b[0m words | \u001b[1m  12\u001b[0m matches | \u001b[1m  0.33\u001b[0m per million words\n",
      "\u001b[1mTWITTER     \u001b[0m | \u001b[1m 27.93M\u001b[0m words | \u001b[1m  26\u001b[0m matches | \u001b[1m  0.93\u001b[0m per million words\n"
     ]
    }
   ],
   "source": [
    "idiomPattern2 = r'\\bdodg(?:e|es|ed|ing) (?:a |the )?bullets?\\b'\n",
    "testIdiom(corpora_list, idiomPattern2)"
   ]
  },
  {
   "cell_type": "code",
   "execution_count": 219,
   "id": "672ce82b-6669-490c-9208-28de79283d34",
   "metadata": {},
   "outputs": [
    {
     "name": "stdout",
     "output_type": "stream",
     "text": [
      "Discrepancy at index 118634\n",
      "\t\\bdodg(\\w+) (\\w+ ){0,3}bullets?\\b gives \u001b[1md another legal hurdle and/or dodged another legal bullet, and wont face prosecution ov\u001b[0m\n",
      "\t\\bdodg(?:e|es|ed|ing) (?:a |the )?bullets?\\b gives \u001b[1mNone\u001b[0m\n",
      "Discrepancy at index 149775\n",
      "\t\\bdodg(\\w+) (\\w+ ){0,3}bullets?\\b gives \u001b[1mthe farmers dodged the first bullet in the third inning, when kay\u001b[0m\n",
      "\t\\bdodg(?:e|es|ed|ing) (?:a |the )?bullets?\\b gives \u001b[1mNone\u001b[0m\n",
      "Discrepancy at index 192611\n",
      "\t\\bdodg(\\w+) (\\w+ ){0,3}bullets?\\b gives \u001b[1mtillery fire on targets while dodging enemy bullets.\u001b[0m\n",
      "\t\\bdodg(?:e|es|ed|ing) (?:a |the )?bullets?\\b gives \u001b[1mNone\u001b[0m\n",
      "Discrepancy at index 249975\n",
      "\t\\bdodg(\\w+) (\\w+ ){0,3}bullets?\\b gives \u001b[1myankees pitcher ivan nova dodged a lot of bullets during the 20 games he pitche\u001b[0m\n",
      "\t\\bdodg(?:e|es|ed|ing) (?:a |the )?bullets?\\b gives \u001b[1mNone\u001b[0m\n",
      "Discrepancy at index 880351\n",
      "\t\\bdodg(\\w+) (\\w+ ){0,3}bullets?\\b gives \u001b[1mive dodged storms and bullets, kelley said. this was just a\u001b[0m\n",
      "\t\\bdodg(?:e|es|ed|ing) (?:a |the )?bullets?\\b gives \u001b[1mNone\u001b[0m\n",
      "Discrepancy at index 908521\n",
      "\t\\bdodg(\\w+) (\\w+ ){0,3}bullets?\\b gives \u001b[1moke up thinking, thank god, i dodged that bullet. but an hour later, the pain \u001b[0m\n",
      "\t\\bdodg(?:e|es|ed|ing) (?:a |the )?bullets?\\b gives \u001b[1mNone\u001b[0m\n"
     ]
    }
   ],
   "source": [
    "testIdiomDifference(newsTexts, idiomPattern1, idiomPattern2)"
   ]
  },
  {
   "cell_type": "code",
   "execution_count": 214,
   "id": "6578c319-7a0e-4806-a048-f3964c4ff09f",
   "metadata": {},
   "outputs": [
    {
     "name": "stdout",
     "output_type": "stream",
     "text": [
      "Found match at 1238210 | \u001b[1mslow down lead foot\u001b[0m\n",
      "Found match at 1592380 | \u001b[1m car rt always knew you had a lead foot...or is driving?\u001b[0m\n"
     ]
    }
   ],
   "source": [
    "printIdioms(twitterTexts, idiomPattern2, context_len = 30)"
   ]
  },
  {
   "cell_type": "markdown",
   "id": "f3562505-89ab-49f8-adb1-94f1c24c0107",
   "metadata": {},
   "source": [
    "### Twitter misspelling \"their\" in \"go out of there way\""
   ]
  },
  {
   "cell_type": "code",
   "execution_count": 358,
   "id": "7ff36970-ccd7-44c0-ba1e-839d5dc94616",
   "metadata": {},
   "outputs": [
    {
     "name": "stdout",
     "output_type": "stream",
     "text": [
      "Testing \u001b[1m\\b(?:went|gone|go(?:es|ing)?) out of (?:\\w+ ){1,2}way\\b\u001b[0m on corpora \u001b[1m['SWITCHBOARD', 'SLATE', 'BIOMED', 'NEWS', 'BLOGS', 'TWITTER']\u001b[0m\n",
      "\u001b[1mSWITCHBOARD \u001b[0m | \u001b[1m  2.90M\u001b[0m words | \u001b[1m  12\u001b[0m matches | \u001b[1m  4.13\u001b[0m per million words\n",
      "\u001b[1mSLATE       \u001b[0m | \u001b[1m  4.18M\u001b[0m words | \u001b[1m  19\u001b[0m matches | \u001b[1m  4.55\u001b[0m per million words\n",
      "\u001b[1mBIOMED      \u001b[0m | \u001b[1m  3.32M\u001b[0m words | \u001b[1m   0\u001b[0m matches | \u001b[1m  0.00\u001b[0m per million words\n",
      "\u001b[1mNEWS        \u001b[0m | \u001b[1m 33.34M\u001b[0m words | \u001b[1m  98\u001b[0m matches | \u001b[1m  2.94\u001b[0m per million words\n",
      "\u001b[1mBLOGS       \u001b[0m | \u001b[1m 36.41M\u001b[0m words | \u001b[1m 154\u001b[0m matches | \u001b[1m  4.23\u001b[0m per million words\n",
      "\u001b[1mTWITTER     \u001b[0m | \u001b[1m 27.93M\u001b[0m words | \u001b[1m  64\u001b[0m matches | \u001b[1m  2.29\u001b[0m per million words\n"
     ]
    }
   ],
   "source": [
    "idiomPattern1 = r'\\b(?:went|gone|go(?:es|ing)?) out of (?:\\w+ ){1,2}way\\b'\n",
    "testIdiom(corpora_list, idiomPattern1)"
   ]
  },
  {
   "cell_type": "code",
   "execution_count": 364,
   "id": "46a4488f-0633-4c89-8f18-7c262e251882",
   "metadata": {},
   "outputs": [
    {
     "name": "stdout",
     "output_type": "stream",
     "text": [
      "Testing \u001b[1m\\b(?:went|gone|go(?:es|ing)?) out of (?:his|her|my|your|their|its|our|ones|the) way\\b\u001b[0m on corpora \u001b[1m['SWITCHBOARD', 'SLATE', 'BIOMED', 'NEWS', 'BLOGS', 'TWITTER']\u001b[0m\n",
      "\u001b[1mSWITCHBOARD \u001b[0m | \u001b[1m  2.90M\u001b[0m words | \u001b[1m  11\u001b[0m matches | \u001b[1m  3.79\u001b[0m per million words\n",
      "\u001b[1mSLATE       \u001b[0m | \u001b[1m  4.18M\u001b[0m words | \u001b[1m  19\u001b[0m matches | \u001b[1m  4.55\u001b[0m per million words\n",
      "\u001b[1mBIOMED      \u001b[0m | \u001b[1m  3.32M\u001b[0m words | \u001b[1m   0\u001b[0m matches | \u001b[1m  0.00\u001b[0m per million words\n",
      "\u001b[1mNEWS        \u001b[0m | \u001b[1m 33.34M\u001b[0m words | \u001b[1m  98\u001b[0m matches | \u001b[1m  2.94\u001b[0m per million words\n",
      "\u001b[1mBLOGS       \u001b[0m | \u001b[1m 36.41M\u001b[0m words | \u001b[1m 154\u001b[0m matches | \u001b[1m  4.23\u001b[0m per million words\n",
      "\u001b[1mTWITTER     \u001b[0m | \u001b[1m 27.93M\u001b[0m words | \u001b[1m  62\u001b[0m matches | \u001b[1m  2.22\u001b[0m per million words\n"
     ]
    }
   ],
   "source": [
    "idiomPattern2 = r'\\b(?:went|gone|go(?:es|ing)?) out of (?:his|her|my|your|their|its|our|ones|the) way\\b'\n",
    "testIdiom(corpora_list, idiomPattern2)"
   ]
  },
  {
   "cell_type": "code",
   "execution_count": 365,
   "id": "dbe42fc5-203c-4704-beb4-81f97a06e212",
   "metadata": {},
   "outputs": [
    {
     "name": "stdout",
     "output_type": "stream",
     "text": [
      "Discrepancy at index 1111526\n",
      "\t\\b(?:went|gone|go(?:es|ing)?) out of (?:\\w+ ){1,2}way\\b gives \u001b[1mwhy do some people go out of there way to make someones life hell? p\u001b[0m\n",
      "\t\\b(?:went|gone|go(?:es|ing)?) out of (?:his|her|my|your|their|its|our|ones|the) way\\b gives \u001b[1mNone\u001b[0m\n",
      "Discrepancy at index 2165698\n",
      "\t\\b(?:went|gone|go(?:es|ing)?) out of (?:\\w+ ){1,2}way\\b gives \u001b[1munny that people would rather go out of there way to hit the handicap door butt\u001b[0m\n",
      "\t\\b(?:went|gone|go(?:es|ing)?) out of (?:his|her|my|your|their|its|our|ones|the) way\\b gives \u001b[1mNone\u001b[0m\n"
     ]
    }
   ],
   "source": [
    "testIdiomDifference(twitterTexts, idiomPattern1, idiomPattern2)"
   ]
  },
  {
   "cell_type": "markdown",
   "id": "684ba7fe-547f-4517-b6c4-0a9eac2cecf8",
   "metadata": {},
   "source": [
    "# *Testing over multiple idioms*"
   ]
  },
  {
   "cell_type": "code",
   "execution_count": 62,
   "id": "51d5fb4a-89e4-4ed3-84e1-7d16e7ea428c",
   "metadata": {},
   "outputs": [
    {
     "name": "stdout",
     "output_type": "stream",
     "text": [
      "Testing \u001b[93m58\u001b[0m idioms on \u001b[94mTWITTER\u001b[0m corpus | \u001b[94m27.93M\u001b[0m words\n",
      "  0: Testing \u001b[93m\\blame ducks?\\b                                   \u001b[0m | \u001b[36m3.74 seconds\u001b[0m | \u001b[91m  10\u001b[0m matches (\u001b[91m 0.358\u001b[0m per million words)\n",
      "  1: Testing \u001b[93m\\baxes? to grind\\b                                \u001b[0m | \u001b[36m3.27 seconds\u001b[0m | \u001b[91m   3\u001b[0m matches (\u001b[91m 0.107\u001b[0m per million words)\n",
      "  2: Testing \u001b[93m\\blow hanging fruits?\\b                           \u001b[0m | \u001b[36m3.11 seconds\u001b[0m | \u001b[91m  12\u001b[0m matches (\u001b[91m 0.430\u001b[0m per million words)\n",
      "  3: Testing \u001b[93m\\bmuckrak(?:er|ers|ing|ed|e|es)\\b                 \u001b[0m | \u001b[36m3.69 seconds\u001b[0m | \u001b[91m   4\u001b[0m matches (\u001b[91m 0.143\u001b[0m per million words)\n",
      "  4: Testing \u001b[93m\\blead (?:foot|feet)\\b                            \u001b[0m | \u001b[36m3.24 seconds\u001b[0m | \u001b[91m   2\u001b[0m matches (\u001b[91m 0.072\u001b[0m per million words)\n",
      "  5: Testing \u001b[93m\\btrigger happy\\b                                 \u001b[0m | \u001b[36m3.17 seconds\u001b[0m | \u001b[91m   7\u001b[0m matches (\u001b[91m 0.251\u001b[0m per million words)\n",
      "  6: Testing \u001b[93m\\bsilver linings?\\b                               \u001b[0m | \u001b[36m3.10 seconds\u001b[0m | \u001b[91m  55\u001b[0m matches (\u001b[91m 1.969\u001b[0m per million words)\n",
      "  7: Testing \u001b[93m\\bdrop of a hat\\b                                 \u001b[0m | \u001b[36m3.13 seconds\u001b[0m | \u001b[91m   7\u001b[0m matches (\u001b[91m 0.251\u001b[0m per million words)\n",
      "  8: Testing \u001b[93m\\bcats? out of the bags?\\b                        \u001b[0m | \u001b[36m3.00 seconds\u001b[0m | \u001b[91m  10\u001b[0m matches (\u001b[91m 0.358\u001b[0m per million words)\n",
      "  9: Testing \u001b[93m\\bmade of money\\b                                 \u001b[0m | \u001b[36m3.28 seconds\u001b[0m | \u001b[91m   7\u001b[0m matches (\u001b[91m 0.251\u001b[0m per million words)\n",
      " 10: Testing \u001b[93m\\bsplit(?:s|ing)? hairs?\\b                        \u001b[0m | \u001b[36m3.48 seconds\u001b[0m | \u001b[91m   2\u001b[0m matches (\u001b[91m 0.072\u001b[0m per million words)\n",
      " 11: Testing \u001b[93m\\bcr(?:y|ies|ied|ying) over (?:spilled|spilt) milk\\b\u001b[0m | \u001b[36m3.56 seconds\u001b[0m | \u001b[91m  12\u001b[0m matches (\u001b[91m 0.430\u001b[0m per million words)\n",
      " 12: Testing \u001b[93m\\bbad blood\\b                                     \u001b[0m | \u001b[36m3.67 seconds\u001b[0m | \u001b[91m  13\u001b[0m matches (\u001b[91m 0.465\u001b[0m per million words)\n",
      " 13: Testing \u001b[93m\\bin a nutshell\\b                                 \u001b[0m | \u001b[36m3.22 seconds\u001b[0m | \u001b[91m  33\u001b[0m matches (\u001b[91m 1.181\u001b[0m per million words)\n",
      " 14: Testing \u001b[93m\\bbottom line\\b                                   \u001b[0m | \u001b[36m3.24 seconds\u001b[0m | \u001b[91m 154\u001b[0m matches (\u001b[91m 5.513\u001b[0m per million words)\n",
      " 15: Testing \u001b[93m\\bsplit the difference\\b                          \u001b[0m | \u001b[36m3.04 seconds\u001b[0m | \u001b[91m   4\u001b[0m matches (\u001b[91m 0.143\u001b[0m per million words)\n",
      " 16: Testing \u001b[93m\\bturn(?:s|ing|ed)? (\\w+ ){,2}blind eyes?\\b       \u001b[0m | \u001b[36m3.07 seconds\u001b[0m | \u001b[91m  12\u001b[0m matches (\u001b[91m 0.430\u001b[0m per million words)\n",
      " 17: Testing \u001b[93m\\b(?:through|on) (\\w+ ){,3}grapevines?\\b          \u001b[0m | \u001b[36m3.71 seconds\u001b[0m | \u001b[91m  14\u001b[0m matches (\u001b[91m 0.501\u001b[0m per million words)\n",
      " 18: Testing \u001b[93m\\bunder the weather\\b                             \u001b[0m | \u001b[36m3.18 seconds\u001b[0m | \u001b[91m  72\u001b[0m matches (\u001b[91m 2.577\u001b[0m per million words)\n",
      " 19: Testing \u001b[93m\\bbeat(?:s|ing)? around the bush\\b                \u001b[0m | \u001b[36m3.82 seconds\u001b[0m | \u001b[91m  16\u001b[0m matches (\u001b[91m 0.573\u001b[0m per million words)\n",
      " 20: Testing \u001b[93m\\bgarden variety\\b                                \u001b[0m | \u001b[36m4.15 seconds\u001b[0m | \u001b[91m   6\u001b[0m matches (\u001b[91m 0.215\u001b[0m per million words)\n",
      " 21: Testing \u001b[93m\\bmov(?:e|ed|ing|es) the goal posts?\\b            \u001b[0m | \u001b[36m2.97 seconds\u001b[0m | \u001b[91m   0\u001b[0m matches (\u001b[91m 0.000\u001b[0m per million words)\n",
      " 22: Testing \u001b[93m\\bhousehold names?\\b                              \u001b[0m | \u001b[36m2.68 seconds\u001b[0m | \u001b[91m  15\u001b[0m matches (\u001b[91m 0.537\u001b[0m per million words)\n",
      " 23: Testing \u001b[93m\\bnip (?:\\w+ ){,3}in the bud\\b                    \u001b[0m | \u001b[36m2.74 seconds\u001b[0m | \u001b[91m   2\u001b[0m matches (\u001b[91m 0.072\u001b[0m per million words)\n",
      " 24: Testing \u001b[93m\\b(?:break|breaking|breaks|broke) bread\\b         \u001b[0m | \u001b[36m2.79 seconds\u001b[0m | \u001b[91m  19\u001b[0m matches (\u001b[91m 0.680\u001b[0m per million words)\n",
      " 25: Testing \u001b[93m\\btips? of (?:\\w+ )icebergs?\\b                    \u001b[0m | \u001b[36m2.70 seconds\u001b[0m | \u001b[91m  17\u001b[0m matches (\u001b[91m 0.609\u001b[0m per million words)\n",
      " 26: Testing \u001b[93m\\b(?:apples|oranges) to (?:apples|oranges)\\b      \u001b[0m | \u001b[36m2.97 seconds\u001b[0m | \u001b[91m  15\u001b[0m matches (\u001b[91m 0.537\u001b[0m per million words)\n",
      " 27: Testing \u001b[93m\\bjacks? of all trades\\b                          \u001b[0m | \u001b[36m2.66 seconds\u001b[0m | \u001b[91m   8\u001b[0m matches (\u001b[91m 0.286\u001b[0m per million words)\n",
      " 28: Testing \u001b[93m\\b(?:drew|draw(?:s|ing|n)?|pull(?:s|ing|ed)?|got|given|get(?:s|ing)?) the short straw\\b\u001b[0m | \u001b[36m3.55 seconds\u001b[0m | \u001b[91m   4\u001b[0m matches (\u001b[91m 0.143\u001b[0m per million words)\n",
      " 29: Testing \u001b[93m\\bskin of (\\w+ ){1,3}teeth\\b                      \u001b[0m | \u001b[36m2.74 seconds\u001b[0m | \u001b[91m   1\u001b[0m matches (\u001b[91m 0.036\u001b[0m per million words)\n",
      " 30: Testing \u001b[93m\\b(?:went|gone|go(?:es|ing)?) out of (?:his|her|my|your|their|its|our|ones|the) way\\b\u001b[0m | \u001b[36m3.13 seconds\u001b[0m | \u001b[91m  62\u001b[0m matches (\u001b[91m 2.219\u001b[0m per million words)\n",
      " 31: Testing \u001b[93m\\b(?:bit(?:e|es|ing|ten)?) (off )?more than (?:i|we|he|she|they|you|yall|it|one) (?:can|could) chew\\b\u001b[0m | \u001b[36m2.49 seconds\u001b[0m | \u001b[91m   4\u001b[0m matches (\u001b[91m 0.143\u001b[0m per million words)\n",
      " 32: Testing \u001b[93m\\bbur(?:y|ies|ied|ying) the hatchets?\\b           \u001b[0m | \u001b[36m2.72 seconds\u001b[0m | \u001b[91m   2\u001b[0m matches (\u001b[91m 0.072\u001b[0m per million words)\n",
      " 33: Testing \u001b[93m\\bdog and pony show\\b                             \u001b[0m | \u001b[36m3.20 seconds\u001b[0m | \u001b[91m   1\u001b[0m matches (\u001b[91m 0.036\u001b[0m per million words)\n",
      " 34: Testing \u001b[93m\\bcut(?:s|ting)? (?:(?:his|her|my|your|their|its|our|ones) (?:\\w+ ){,2})?teeth\\b\u001b[0m | \u001b[36m4.65 seconds\u001b[0m | \u001b[91m   6\u001b[0m matches (\u001b[91m 0.215\u001b[0m per million words)\n",
      " 35: Testing \u001b[93m\\b(?:learn(?:s|ing|t)?|show(?:s|ing|ed)?) the ropes\\b\u001b[0m | \u001b[36m4.71 seconds\u001b[0m | \u001b[91m  14\u001b[0m matches (\u001b[91m 0.501\u001b[0m per million words)\n",
      " 36: Testing \u001b[93m\\bpipe dreams?\\b                                  \u001b[0m | \u001b[36m3.91 seconds\u001b[0m | \u001b[91m  14\u001b[0m matches (\u001b[91m 0.501\u001b[0m per million words)\n",
      " 37: Testing \u001b[93m\\blives? under a rock\\b                           \u001b[0m | \u001b[36m3.75 seconds\u001b[0m | \u001b[91m  12\u001b[0m matches (\u001b[91m 0.430\u001b[0m per million words)\n",
      " 38: Testing \u001b[93m\\bdiamonds? in the rough\\b                        \u001b[0m | \u001b[36m3.30 seconds\u001b[0m | \u001b[91m   9\u001b[0m matches (\u001b[91m 0.322\u001b[0m per million words)\n",
      " 39: Testing \u001b[93m\\bnothing to (?:sneeze|scoff) at\\b                \u001b[0m | \u001b[36m2.94 seconds\u001b[0m | \u001b[91m   3\u001b[0m matches (\u001b[91m 0.107\u001b[0m per million words)\n",
      " 40: Testing \u001b[93m\\bfrom a to z\\b                                   \u001b[0m | \u001b[36m3.38 seconds\u001b[0m | \u001b[91m   6\u001b[0m matches (\u001b[91m 0.215\u001b[0m per million words)\n",
      " 41: Testing \u001b[93m\\bfrom (?:point )?a to (?:point )?b\\b             \u001b[0m | \u001b[36m3.39 seconds\u001b[0m | \u001b[91m  17\u001b[0m matches (\u001b[91m 0.609\u001b[0m per million words)\n",
      " 42: Testing \u001b[93m\\b(?:hard|tough) as (?:a )?nails?\\b               \u001b[0m | \u001b[36m3.70 seconds\u001b[0m | \u001b[91m   5\u001b[0m matches (\u001b[91m 0.179\u001b[0m per million words)\n",
      " 43: Testing \u001b[93m\\b(?:hard|tough) nut to crack\\b                   \u001b[0m | \u001b[36m3.66 seconds\u001b[0m | \u001b[91m   1\u001b[0m matches (\u001b[91m 0.036\u001b[0m per million words)\n",
      " 44: Testing \u001b[93m\\bthe big picture\\b                               \u001b[0m | \u001b[36m3.31 seconds\u001b[0m | \u001b[91m  45\u001b[0m matches (\u001b[91m 1.611\u001b[0m per million words)\n",
      " 45: Testing \u001b[93m\\b(?:come|comes|coming|came) into play\\b          \u001b[0m | \u001b[36m3.24 seconds\u001b[0m | \u001b[91m  23\u001b[0m matches (\u001b[91m 0.823\u001b[0m per million words)\n",
      " 46: Testing \u001b[93m\\bwhat the (?:hell|heck)\\b                        \u001b[0m | \u001b[36m3.46 seconds\u001b[0m | \u001b[91m1150\u001b[0m matches (\u001b[91m41.168\u001b[0m per million words)\n",
      " 47: Testing \u001b[93m\\bwhat the fuck\\b                                 \u001b[0m | \u001b[36m3.71 seconds\u001b[0m | \u001b[91m 508\u001b[0m matches (\u001b[91m18.185\u001b[0m per million words)\n",
      " 48: Testing \u001b[93m\\bdown the line\\b                                 \u001b[0m | \u001b[36m3.27 seconds\u001b[0m | \u001b[91m  30\u001b[0m matches (\u001b[91m 1.074\u001b[0m per million words)\n",
      " 49: Testing \u001b[93m\\bon the line\\b                                   \u001b[0m | \u001b[36m3.37 seconds\u001b[0m | \u001b[91m 170\u001b[0m matches (\u001b[91m 6.086\u001b[0m per million words)\n",
      " 50: Testing \u001b[93m\\bout of line\\b                                   \u001b[0m | \u001b[36m3.34 seconds\u001b[0m | \u001b[91m  41\u001b[0m matches (\u001b[91m 1.468\u001b[0m per million words)\n",
      " 51: Testing \u001b[93m\\bdown to the line\\b                              \u001b[0m | \u001b[36m3.14 seconds\u001b[0m | \u001b[91m   0\u001b[0m matches (\u001b[91m 0.000\u001b[0m per million words)\n",
      " 52: Testing \u001b[93m\\bon (?:the right)?track\\b                        \u001b[0m | \u001b[36m3.65 seconds\u001b[0m | \u001b[91m 295\u001b[0m matches (\u001b[91m10.560\u001b[0m per million words)\n",
      " 53: Testing \u001b[93m\\bknee(?: |-)?jerk\\b                              \u001b[0m | \u001b[36m3.72 seconds\u001b[0m | \u001b[91m  16\u001b[0m matches (\u001b[91m 0.573\u001b[0m per million words)\n",
      " 54: Testing \u001b[93m\\b(?:right|straight) off the bat\\b                \u001b[0m | \u001b[36m3.33 seconds\u001b[0m | \u001b[91m  12\u001b[0m matches (\u001b[91m 0.430\u001b[0m per million words)\n",
      " 55: Testing \u001b[93m\\bon target\\b                                     \u001b[0m | \u001b[36m3.58 seconds\u001b[0m | \u001b[91m  37\u001b[0m matches (\u001b[91m 1.325\u001b[0m per million words)\n",
      " 56: Testing \u001b[93m\\bthumbs up\\b                                     \u001b[0m | \u001b[36m3.44 seconds\u001b[0m | \u001b[91m 242\u001b[0m matches (\u001b[91m 8.663\u001b[0m per million words)\n",
      " 57: Testing \u001b[93m\\b(?:fell|fall(?:s|ing|en)?) in love\\b            \u001b[0m | \u001b[36m3.12 seconds\u001b[0m | \u001b[91m 919\u001b[0m matches (\u001b[91m32.898\u001b[0m per million words)\n"
     ]
    }
   ],
   "source": [
    "twitter_results = testCorpus(twitterTexts, idiom_list_confident, \"TWITTER\")"
   ]
  },
  {
   "cell_type": "code",
   "execution_count": 63,
   "id": "d9c67005-acb8-402d-96ab-87fcc2626d45",
   "metadata": {},
   "outputs": [
    {
     "data": {
      "image/png": "[encoded data removed]",
      "text/plain": [
       "<Figure size 1000x400 with 2 Axes>"
      ]
     },
     "metadata": {},
     "output_type": "display_data"
    }
   ],
   "source": [
    "histCorpusMatches(*twitter_results, twitter_size, corpusName=\"TWITTER\")"
   ]
  },
  {
   "cell_type": "code",
   "execution_count": 64,
   "id": "6cd296c1-b5ce-4a94-b55b-5c94ae79794d",
   "metadata": {},
   "outputs": [
    {
     "name": "stdout",
     "output_type": "stream",
     "text": [
      "Testing \u001b[93m58\u001b[0m idioms on \u001b[94mBLOGS\u001b[0m corpus | \u001b[94m36.41M\u001b[0m words\n",
      "  0: Testing \u001b[93m\\blame ducks?\\b                                   \u001b[0m | \u001b[36m3.01 seconds\u001b[0m | \u001b[91m  11\u001b[0m matches (\u001b[91m 0.302\u001b[0m per million words)\n",
      "  1: Testing \u001b[93m\\baxes? to grind\\b                                \u001b[0m | \u001b[36m2.90 seconds\u001b[0m | \u001b[91m  23\u001b[0m matches (\u001b[91m 0.632\u001b[0m per million words)\n",
      "  2: Testing \u001b[93m\\blow hanging fruits?\\b                           \u001b[0m | \u001b[36m3.06 seconds\u001b[0m | \u001b[91m   1\u001b[0m matches (\u001b[91m 0.027\u001b[0m per million words)\n",
      "  3: Testing \u001b[93m\\bmuckrak(?:er|ers|ing|ed|e|es)\\b                 \u001b[0m | \u001b[36m2.73 seconds\u001b[0m | \u001b[91m   1\u001b[0m matches (\u001b[91m 0.027\u001b[0m per million words)\n",
      "  4: Testing \u001b[93m\\blead (?:foot|feet)\\b                            \u001b[0m | \u001b[36m2.73 seconds\u001b[0m | \u001b[91m   2\u001b[0m matches (\u001b[91m 0.055\u001b[0m per million words)\n",
      "  5: Testing \u001b[93m\\btrigger happy\\b                                 \u001b[0m | \u001b[36m2.72 seconds\u001b[0m | \u001b[91m   5\u001b[0m matches (\u001b[91m 0.137\u001b[0m per million words)\n",
      "  6: Testing \u001b[93m\\bsilver linings?\\b                               \u001b[0m | \u001b[36m2.66 seconds\u001b[0m | \u001b[91m  71\u001b[0m matches (\u001b[91m 1.950\u001b[0m per million words)\n",
      "  7: Testing \u001b[93m\\bdrop of a hat\\b                                 \u001b[0m | \u001b[36m2.65 seconds\u001b[0m | \u001b[91m  29\u001b[0m matches (\u001b[91m 0.796\u001b[0m per million words)\n",
      "  8: Testing \u001b[93m\\bcats? out of the bags?\\b                        \u001b[0m | \u001b[36m2.60 seconds\u001b[0m | \u001b[91m  19\u001b[0m matches (\u001b[91m 0.522\u001b[0m per million words)\n",
      "  9: Testing \u001b[93m\\bmade of money\\b                                 \u001b[0m | \u001b[36m2.91 seconds\u001b[0m | \u001b[91m   4\u001b[0m matches (\u001b[91m 0.110\u001b[0m per million words)\n",
      " 10: Testing \u001b[93m\\bsplit(?:s|ing)? hairs?\\b                        \u001b[0m | \u001b[36m2.86 seconds\u001b[0m | \u001b[91m   5\u001b[0m matches (\u001b[91m 0.137\u001b[0m per million words)\n",
      " 11: Testing \u001b[93m\\bcr(?:y|ies|ied|ying) over (?:spilled|spilt) milk\\b\u001b[0m | \u001b[36m2.84 seconds\u001b[0m | \u001b[91m   6\u001b[0m matches (\u001b[91m 0.165\u001b[0m per million words)\n",
      " 12: Testing \u001b[93m\\bbad blood\\b                                     \u001b[0m | \u001b[36m2.67 seconds\u001b[0m | \u001b[91m  11\u001b[0m matches (\u001b[91m 0.302\u001b[0m per million words)\n",
      " 13: Testing \u001b[93m\\bin a nutshell\\b                                 \u001b[0m | \u001b[36m2.69 seconds\u001b[0m | \u001b[91m 139\u001b[0m matches (\u001b[91m 3.817\u001b[0m per million words)\n",
      " 14: Testing \u001b[93m\\bbottom line\\b                                   \u001b[0m | \u001b[36m3.35 seconds\u001b[0m | \u001b[91m 342\u001b[0m matches (\u001b[91m 9.392\u001b[0m per million words)\n",
      " 15: Testing \u001b[93m\\bsplit the difference\\b                          \u001b[0m | \u001b[36m4.20 seconds\u001b[0m | \u001b[91m   4\u001b[0m matches (\u001b[91m 0.110\u001b[0m per million words)\n",
      " 16: Testing \u001b[93m\\bturn(?:s|ing|ed)? (\\w+ ){,2}blind eyes?\\b       \u001b[0m | \u001b[36m4.59 seconds\u001b[0m | \u001b[91m  56\u001b[0m matches (\u001b[91m 1.538\u001b[0m per million words)\n",
      " 17: Testing \u001b[93m\\b(?:through|on) (\\w+ ){,3}grapevines?\\b          \u001b[0m | \u001b[36m4.78 seconds\u001b[0m | \u001b[91m  16\u001b[0m matches (\u001b[91m 0.439\u001b[0m per million words)\n",
      " 18: Testing \u001b[93m\\bunder the weather\\b                             \u001b[0m | \u001b[36m3.65 seconds\u001b[0m | \u001b[91m  49\u001b[0m matches (\u001b[91m 1.346\u001b[0m per million words)\n",
      " 19: Testing \u001b[93m\\bbeat(?:s|ing)? around the bush\\b                \u001b[0m | \u001b[36m3.38 seconds\u001b[0m | \u001b[91m  15\u001b[0m matches (\u001b[91m 0.412\u001b[0m per million words)\n",
      " 20: Testing \u001b[93m\\bgarden variety\\b                                \u001b[0m | \u001b[36m3.12 seconds\u001b[0m | \u001b[91m  14\u001b[0m matches (\u001b[91m 0.384\u001b[0m per million words)\n",
      " 21: Testing \u001b[93m\\bmov(?:e|ed|ing|es) the goal posts?\\b            \u001b[0m | \u001b[36m3.05 seconds\u001b[0m | \u001b[91m   4\u001b[0m matches (\u001b[91m 0.110\u001b[0m per million words)\n",
      " 22: Testing \u001b[93m\\bhousehold names?\\b                              \u001b[0m | \u001b[36m3.11 seconds\u001b[0m | \u001b[91m  37\u001b[0m matches (\u001b[91m 1.016\u001b[0m per million words)\n",
      " 23: Testing \u001b[93m\\bnip (?:\\w+ ){,3}in the bud\\b                    \u001b[0m | \u001b[36m3.08 seconds\u001b[0m | \u001b[91m  11\u001b[0m matches (\u001b[91m 0.302\u001b[0m per million words)\n",
      " 24: Testing \u001b[93m\\b(?:break|breaking|breaks|broke) bread\\b         \u001b[0m | \u001b[36m3.32 seconds\u001b[0m | \u001b[91m  20\u001b[0m matches (\u001b[91m 0.549\u001b[0m per million words)\n",
      " 25: Testing \u001b[93m\\btips? of (?:\\w+ )icebergs?\\b                    \u001b[0m | \u001b[36m3.36 seconds\u001b[0m | \u001b[91m  49\u001b[0m matches (\u001b[91m 1.346\u001b[0m per million words)\n",
      " 26: Testing \u001b[93m\\b(?:apples|oranges) to (?:apples|oranges)\\b      \u001b[0m | \u001b[36m3.60 seconds\u001b[0m | \u001b[91m  11\u001b[0m matches (\u001b[91m 0.302\u001b[0m per million words)\n",
      " 27: Testing \u001b[93m\\bjacks? of all trades\\b                          \u001b[0m | \u001b[36m3.01 seconds\u001b[0m | \u001b[91m  16\u001b[0m matches (\u001b[91m 0.439\u001b[0m per million words)\n",
      " 28: Testing \u001b[93m\\b(?:drew|draw(?:s|ing|n)?|pull(?:s|ing|ed)?|got|given|get(?:s|ing)?) the short straw\\b\u001b[0m | \u001b[36m4.14 seconds\u001b[0m | \u001b[91m   7\u001b[0m matches (\u001b[91m 0.192\u001b[0m per million words)\n",
      " 29: Testing \u001b[93m\\bskin of (\\w+ ){1,3}teeth\\b                      \u001b[0m | \u001b[36m2.99 seconds\u001b[0m | \u001b[91m   7\u001b[0m matches (\u001b[91m 0.192\u001b[0m per million words)\n",
      " 30: Testing \u001b[93m\\b(?:went|gone|go(?:es|ing)?) out of (?:his|her|my|your|their|its|our|ones|the) way\\b\u001b[0m | \u001b[36m3.67 seconds\u001b[0m | \u001b[91m 154\u001b[0m matches (\u001b[91m 4.229\u001b[0m per million words)\n",
      " 31: Testing \u001b[93m\\b(?:bit(?:e|es|ing|ten)?) (off )?more than (?:i|we|he|she|they|you|yall|it|one) (?:can|could) chew\\b\u001b[0m | \u001b[36m3.22 seconds\u001b[0m | \u001b[91m  15\u001b[0m matches (\u001b[91m 0.412\u001b[0m per million words)\n",
      " 32: Testing \u001b[93m\\bbur(?:y|ies|ied|ying) the hatchets?\\b           \u001b[0m | \u001b[36m3.13 seconds\u001b[0m | \u001b[91m   4\u001b[0m matches (\u001b[91m 0.110\u001b[0m per million words)\n",
      " 33: Testing \u001b[93m\\bdog and pony show\\b                             \u001b[0m | \u001b[36m2.83 seconds\u001b[0m | \u001b[91m   4\u001b[0m matches (\u001b[91m 0.110\u001b[0m per million words)\n",
      " 34: Testing \u001b[93m\\bcut(?:s|ting)? (?:(?:his|her|my|your|their|its|our|ones) (?:\\w+ ){,2})?teeth\\b\u001b[0m | \u001b[36m3.13 seconds\u001b[0m | \u001b[91m  24\u001b[0m matches (\u001b[91m 0.659\u001b[0m per million words)\n",
      " 35: Testing \u001b[93m\\b(?:learn(?:s|ing|t)?|show(?:s|ing|ed)?) the ropes\\b\u001b[0m | \u001b[36m3.57 seconds\u001b[0m | \u001b[91m  12\u001b[0m matches (\u001b[91m 0.330\u001b[0m per million words)\n",
      " 36: Testing \u001b[93m\\bpipe dreams?\\b                                  \u001b[0m | \u001b[36m3.15 seconds\u001b[0m | \u001b[91m  25\u001b[0m matches (\u001b[91m 0.687\u001b[0m per million words)\n",
      " 37: Testing \u001b[93m\\blives? under a rock\\b                           \u001b[0m | \u001b[36m3.08 seconds\u001b[0m | \u001b[91m  10\u001b[0m matches (\u001b[91m 0.275\u001b[0m per million words)\n",
      " 38: Testing \u001b[93m\\bdiamonds? in the rough\\b                        \u001b[0m | \u001b[36m2.87 seconds\u001b[0m | \u001b[91m   8\u001b[0m matches (\u001b[91m 0.220\u001b[0m per million words)\n",
      " 39: Testing \u001b[93m\\bnothing to (?:sneeze|scoff) at\\b                \u001b[0m | \u001b[36m3.03 seconds\u001b[0m | \u001b[91m   7\u001b[0m matches (\u001b[91m 0.192\u001b[0m per million words)\n",
      " 40: Testing \u001b[93m\\bfrom a to z\\b                                   \u001b[0m | \u001b[36m3.06 seconds\u001b[0m | \u001b[91m  23\u001b[0m matches (\u001b[91m 0.632\u001b[0m per million words)\n",
      " 41: Testing \u001b[93m\\bfrom (?:point )?a to (?:point )?b\\b             \u001b[0m | \u001b[36m3.02 seconds\u001b[0m | \u001b[91m  47\u001b[0m matches (\u001b[91m 1.291\u001b[0m per million words)\n",
      " 42: Testing \u001b[93m\\b(?:hard|tough) as (?:a )?nails?\\b               \u001b[0m | \u001b[36m3.63 seconds\u001b[0m | \u001b[91m  12\u001b[0m matches (\u001b[91m 0.330\u001b[0m per million words)\n",
      " 43: Testing \u001b[93m\\b(?:hard|tough) nut to crack\\b                   \u001b[0m | \u001b[36m3.68 seconds\u001b[0m | \u001b[91m   5\u001b[0m matches (\u001b[91m 0.137\u001b[0m per million words)\n",
      " 44: Testing \u001b[93m\\bthe big picture\\b                               \u001b[0m | \u001b[36m3.10 seconds\u001b[0m | \u001b[91m  98\u001b[0m matches (\u001b[91m 2.691\u001b[0m per million words)\n",
      " 45: Testing \u001b[93m\\b(?:come|comes|coming|came) into play\\b          \u001b[0m | \u001b[36m2.96 seconds\u001b[0m | \u001b[91m 123\u001b[0m matches (\u001b[91m 3.378\u001b[0m per million words)\n",
      " 46: Testing \u001b[93m\\bwhat the (?:hell|heck)\\b                        \u001b[0m | \u001b[36m2.83 seconds\u001b[0m | \u001b[91m 627\u001b[0m matches (\u001b[91m17.219\u001b[0m per million words)\n",
      " 47: Testing \u001b[93m\\bwhat the fuck\\b                                 \u001b[0m | \u001b[36m2.66 seconds\u001b[0m | \u001b[91m 151\u001b[0m matches (\u001b[91m 4.147\u001b[0m per million words)\n",
      " 48: Testing \u001b[93m\\bdown the line\\b                                 \u001b[0m | \u001b[36m2.67 seconds\u001b[0m | \u001b[91m 125\u001b[0m matches (\u001b[91m 3.433\u001b[0m per million words)\n",
      " 49: Testing \u001b[93m\\bon the line\\b                                   \u001b[0m | \u001b[36m2.69 seconds\u001b[0m | \u001b[91m 188\u001b[0m matches (\u001b[91m 5.163\u001b[0m per million words)\n",
      " 50: Testing \u001b[93m\\bout of line\\b                                   \u001b[0m | \u001b[36m2.74 seconds\u001b[0m | \u001b[91m  56\u001b[0m matches (\u001b[91m 1.538\u001b[0m per million words)\n",
      " 51: Testing \u001b[93m\\bdown to the line\\b                              \u001b[0m | \u001b[36m2.63 seconds\u001b[0m | \u001b[91m   1\u001b[0m matches (\u001b[91m 0.027\u001b[0m per million words)\n",
      " 52: Testing \u001b[93m\\bon (?:the right)?track\\b                        \u001b[0m | \u001b[36m2.75 seconds\u001b[0m | \u001b[91m 371\u001b[0m matches (\u001b[91m10.189\u001b[0m per million words)\n",
      " 53: Testing \u001b[93m\\bknee(?: |-)?jerk\\b                              \u001b[0m | \u001b[36m3.06 seconds\u001b[0m | \u001b[91m  66\u001b[0m matches (\u001b[91m 1.813\u001b[0m per million words)\n",
      " 54: Testing \u001b[93m\\b(?:right|straight) off the bat\\b                \u001b[0m | \u001b[36m3.07 seconds\u001b[0m | \u001b[91m  67\u001b[0m matches (\u001b[91m 1.840\u001b[0m per million words)\n",
      " 55: Testing \u001b[93m\\bon target\\b                                     \u001b[0m | \u001b[36m2.69 seconds\u001b[0m | \u001b[91m  54\u001b[0m matches (\u001b[91m 1.483\u001b[0m per million words)\n",
      " 56: Testing \u001b[93m\\bthumbs up\\b                                     \u001b[0m | \u001b[36m2.73 seconds\u001b[0m | \u001b[91m 117\u001b[0m matches (\u001b[91m 3.213\u001b[0m per million words)\n",
      " 57: Testing \u001b[93m\\b(?:fell|fall(?:s|ing|en)?) in love\\b            \u001b[0m | \u001b[36m3.05 seconds\u001b[0m | \u001b[91m1214\u001b[0m matches (\u001b[91m33.340\u001b[0m per million words)\n"
     ]
    }
   ],
   "source": [
    "blogs_results = testCorpus(blogsTexts, idiom_list_confident, \"BLOGS\")"
   ]
  },
  {
   "cell_type": "code",
   "execution_count": 65,
   "id": "bc1b77a0-1018-4b92-b707-432930daba2d",
   "metadata": {},
   "outputs": [
    {
     "data": {
      "image/png": "[encoded data removed]",
      "text/plain": [
       "<Figure size 1000x400 with 2 Axes>"
      ]
     },
     "metadata": {},
     "output_type": "display_data"
    }
   ],
   "source": [
    "histCorpusMatches(*blogs_results, blogs_size, corpusName=\"BLOGS\")"
   ]
  },
  {
   "cell_type": "code",
   "execution_count": 66,
   "id": "dcd2144d-1c0f-41e4-afa4-56eaeaa486d8",
   "metadata": {},
   "outputs": [
    {
     "name": "stdout",
     "output_type": "stream",
     "text": [
      "Testing \u001b[93m58\u001b[0m idioms on \u001b[94mNEWS\u001b[0m corpus | \u001b[94m33.34M\u001b[0m words\n",
      "  0: Testing \u001b[93m\\blame ducks?\\b                                   \u001b[0m | \u001b[36m3.64 seconds\u001b[0m | \u001b[91m  20\u001b[0m matches (\u001b[91m 0.600\u001b[0m per million words)\n",
      "  1: Testing \u001b[93m\\baxes? to grind\\b                                \u001b[0m | \u001b[36m3.55 seconds\u001b[0m | \u001b[91m   5\u001b[0m matches (\u001b[91m 0.150\u001b[0m per million words)\n",
      "  2: Testing \u001b[93m\\blow hanging fruits?\\b                           \u001b[0m | \u001b[36m3.25 seconds\u001b[0m | \u001b[91m   1\u001b[0m matches (\u001b[91m 0.030\u001b[0m per million words)\n",
      "  3: Testing \u001b[93m\\bmuckrak(?:er|ers|ing|ed|e|es)\\b                 \u001b[0m | \u001b[36m3.25 seconds\u001b[0m | \u001b[91m   7\u001b[0m matches (\u001b[91m 0.210\u001b[0m per million words)\n",
      "  4: Testing \u001b[93m\\blead (?:foot|feet)\\b                            \u001b[0m | \u001b[36m2.95 seconds\u001b[0m | \u001b[91m   1\u001b[0m matches (\u001b[91m 0.030\u001b[0m per million words)\n",
      "  5: Testing \u001b[93m\\btrigger happy\\b                                 \u001b[0m | \u001b[36m3.12 seconds\u001b[0m | \u001b[91m   0\u001b[0m matches (\u001b[91m 0.000\u001b[0m per million words)\n",
      "  6: Testing \u001b[93m\\bsilver linings?\\b                               \u001b[0m | \u001b[36m2.95 seconds\u001b[0m | \u001b[91m  63\u001b[0m matches (\u001b[91m 1.890\u001b[0m per million words)\n",
      "  7: Testing \u001b[93m\\bdrop of a hat\\b                                 \u001b[0m | \u001b[36m3.12 seconds\u001b[0m | \u001b[91m   3\u001b[0m matches (\u001b[91m 0.090\u001b[0m per million words)\n",
      "  8: Testing \u001b[93m\\bcats? out of the bags?\\b                        \u001b[0m | \u001b[36m3.11 seconds\u001b[0m | \u001b[91m   2\u001b[0m matches (\u001b[91m 0.060\u001b[0m per million words)\n",
      "  9: Testing \u001b[93m\\bmade of money\\b                                 \u001b[0m | \u001b[36m3.25 seconds\u001b[0m | \u001b[91m   0\u001b[0m matches (\u001b[91m 0.000\u001b[0m per million words)\n",
      " 10: Testing \u001b[93m\\bsplit(?:s|ing)? hairs?\\b                        \u001b[0m | \u001b[36m3.01 seconds\u001b[0m | \u001b[91m   2\u001b[0m matches (\u001b[91m 0.060\u001b[0m per million words)\n",
      " 11: Testing \u001b[93m\\bcr(?:y|ies|ied|ying) over (?:spilled|spilt) milk\\b\u001b[0m | \u001b[36m3.11 seconds\u001b[0m | \u001b[91m   2\u001b[0m matches (\u001b[91m 0.060\u001b[0m per million words)\n",
      " 12: Testing \u001b[93m\\bbad blood\\b                                     \u001b[0m | \u001b[36m3.07 seconds\u001b[0m | \u001b[91m  16\u001b[0m matches (\u001b[91m 0.480\u001b[0m per million words)\n",
      " 13: Testing \u001b[93m\\bin a nutshell\\b                                 \u001b[0m | \u001b[36m3.09 seconds\u001b[0m | \u001b[91m  43\u001b[0m matches (\u001b[91m 1.290\u001b[0m per million words)\n",
      " 14: Testing \u001b[93m\\bbottom line\\b                                   \u001b[0m | \u001b[36m2.91 seconds\u001b[0m | \u001b[91m 664\u001b[0m matches (\u001b[91m19.917\u001b[0m per million words)\n",
      " 15: Testing \u001b[93m\\bsplit the difference\\b                          \u001b[0m | \u001b[36m2.98 seconds\u001b[0m | \u001b[91m   4\u001b[0m matches (\u001b[91m 0.120\u001b[0m per million words)\n",
      " 16: Testing \u001b[93m\\bturn(?:s|ing|ed)? (\\w+ ){,2}blind eyes?\\b       \u001b[0m | \u001b[36m3.33 seconds\u001b[0m | \u001b[91m  43\u001b[0m matches (\u001b[91m 1.290\u001b[0m per million words)\n",
      " 17: Testing \u001b[93m\\b(?:through|on) (\\w+ ){,3}grapevines?\\b          \u001b[0m | \u001b[36m4.02 seconds\u001b[0m | \u001b[91m   9\u001b[0m matches (\u001b[91m 0.270\u001b[0m per million words)\n",
      " 18: Testing \u001b[93m\\bunder the weather\\b                             \u001b[0m | \u001b[36m3.09 seconds\u001b[0m | \u001b[91m  12\u001b[0m matches (\u001b[91m 0.360\u001b[0m per million words)\n",
      " 19: Testing \u001b[93m\\bbeat(?:s|ing)? around the bush\\b                \u001b[0m | \u001b[36m3.08 seconds\u001b[0m | \u001b[91m   3\u001b[0m matches (\u001b[91m 0.090\u001b[0m per million words)\n",
      " 20: Testing \u001b[93m\\bgarden variety\\b                                \u001b[0m | \u001b[36m3.07 seconds\u001b[0m | \u001b[91m   4\u001b[0m matches (\u001b[91m 0.120\u001b[0m per million words)\n",
      " 21: Testing \u001b[93m\\bmov(?:e|ed|ing|es) the goal posts?\\b            \u001b[0m | \u001b[36m3.04 seconds\u001b[0m | \u001b[91m   1\u001b[0m matches (\u001b[91m 0.030\u001b[0m per million words)\n",
      " 22: Testing \u001b[93m\\bhousehold names?\\b                              \u001b[0m | \u001b[36m2.96 seconds\u001b[0m | \u001b[91m  61\u001b[0m matches (\u001b[91m 1.830\u001b[0m per million words)\n",
      " 23: Testing \u001b[93m\\bnip (?:\\w+ ){,3}in the bud\\b                    \u001b[0m | \u001b[36m3.09 seconds\u001b[0m | \u001b[91m   5\u001b[0m matches (\u001b[91m 0.150\u001b[0m per million words)\n",
      " 24: Testing \u001b[93m\\b(?:break|breaking|breaks|broke) bread\\b         \u001b[0m | \u001b[36m3.15 seconds\u001b[0m | \u001b[91m  13\u001b[0m matches (\u001b[91m 0.390\u001b[0m per million words)\n",
      " 25: Testing \u001b[93m\\btips? of (?:\\w+ )icebergs?\\b                    \u001b[0m | \u001b[36m3.13 seconds\u001b[0m | \u001b[91m  32\u001b[0m matches (\u001b[91m 0.960\u001b[0m per million words)\n",
      " 26: Testing \u001b[93m\\b(?:apples|oranges) to (?:apples|oranges)\\b      \u001b[0m | \u001b[36m3.50 seconds\u001b[0m | \u001b[91m  20\u001b[0m matches (\u001b[91m 0.600\u001b[0m per million words)\n",
      " 27: Testing \u001b[93m\\bjacks? of all trades\\b                          \u001b[0m | \u001b[36m3.08 seconds\u001b[0m | \u001b[91m  19\u001b[0m matches (\u001b[91m 0.570\u001b[0m per million words)\n",
      " 28: Testing \u001b[93m\\b(?:drew|draw(?:s|ing|n)?|pull(?:s|ing|ed)?|got|given|get(?:s|ing)?) the short straw\\b\u001b[0m | \u001b[36m4.74 seconds\u001b[0m | \u001b[91m   4\u001b[0m matches (\u001b[91m 0.120\u001b[0m per million words)\n",
      " 29: Testing \u001b[93m\\bskin of (\\w+ ){1,3}teeth\\b                      \u001b[0m | \u001b[36m2.59 seconds\u001b[0m | \u001b[91m   4\u001b[0m matches (\u001b[91m 0.120\u001b[0m per million words)\n",
      " 30: Testing \u001b[93m\\b(?:went|gone|go(?:es|ing)?) out of (?:his|her|my|your|their|its|our|ones|the) way\\b\u001b[0m | \u001b[36m2.96 seconds\u001b[0m | \u001b[91m  98\u001b[0m matches (\u001b[91m 2.940\u001b[0m per million words)\n",
      " 31: Testing \u001b[93m\\b(?:bit(?:e|es|ing|ten)?) (off )?more than (?:i|we|he|she|they|you|yall|it|one) (?:can|could) chew\\b\u001b[0m | \u001b[36m2.57 seconds\u001b[0m | \u001b[91m   6\u001b[0m matches (\u001b[91m 0.180\u001b[0m per million words)\n",
      " 32: Testing \u001b[93m\\bbur(?:y|ies|ied|ying) the hatchets?\\b           \u001b[0m | \u001b[36m2.57 seconds\u001b[0m | \u001b[91m   3\u001b[0m matches (\u001b[91m 0.090\u001b[0m per million words)\n",
      " 33: Testing \u001b[93m\\bdog and pony show\\b                             \u001b[0m | \u001b[36m2.58 seconds\u001b[0m | \u001b[91m   3\u001b[0m matches (\u001b[91m 0.090\u001b[0m per million words)\n",
      " 34: Testing \u001b[93m\\bcut(?:s|ting)? (?:(?:his|her|my|your|their|its|our|ones) (?:\\w+ ){,2})?teeth\\b\u001b[0m | \u001b[36m2.65 seconds\u001b[0m | \u001b[91m  20\u001b[0m matches (\u001b[91m 0.600\u001b[0m per million words)\n",
      " 35: Testing \u001b[93m\\b(?:learn(?:s|ing|t)?|show(?:s|ing|ed)?) the ropes\\b\u001b[0m | \u001b[36m3.02 seconds\u001b[0m | \u001b[91m  16\u001b[0m matches (\u001b[91m 0.480\u001b[0m per million words)\n",
      " 36: Testing \u001b[93m\\bpipe dreams?\\b                                  \u001b[0m | \u001b[36m2.83 seconds\u001b[0m | \u001b[91m  23\u001b[0m matches (\u001b[91m 0.690\u001b[0m per million words)\n",
      " 37: Testing \u001b[93m\\blives? under a rock\\b                           \u001b[0m | \u001b[36m2.64 seconds\u001b[0m | \u001b[91m   1\u001b[0m matches (\u001b[91m 0.030\u001b[0m per million words)\n",
      " 38: Testing \u001b[93m\\bdiamonds? in the rough\\b                        \u001b[0m | \u001b[36m2.52 seconds\u001b[0m | \u001b[91m   8\u001b[0m matches (\u001b[91m 0.240\u001b[0m per million words)\n",
      " 39: Testing \u001b[93m\\bnothing to (?:sneeze|scoff) at\\b                \u001b[0m | \u001b[36m2.54 seconds\u001b[0m | \u001b[91m   5\u001b[0m matches (\u001b[91m 0.150\u001b[0m per million words)\n",
      " 40: Testing \u001b[93m\\bfrom a to z\\b                                   \u001b[0m | \u001b[36m2.75 seconds\u001b[0m | \u001b[91m  11\u001b[0m matches (\u001b[91m 0.330\u001b[0m per million words)\n",
      " 41: Testing \u001b[93m\\bfrom (?:point )?a to (?:point )?b\\b             \u001b[0m | \u001b[36m4.39 seconds\u001b[0m | \u001b[91m  20\u001b[0m matches (\u001b[91m 0.600\u001b[0m per million words)\n",
      " 42: Testing \u001b[93m\\b(?:hard|tough) as (?:a )?nails?\\b               \u001b[0m | \u001b[36m6.91 seconds\u001b[0m | \u001b[91m   7\u001b[0m matches (\u001b[91m 0.210\u001b[0m per million words)\n",
      " 43: Testing \u001b[93m\\b(?:hard|tough) nut to crack\\b                   \u001b[0m | \u001b[36m5.22 seconds\u001b[0m | \u001b[91m   4\u001b[0m matches (\u001b[91m 0.120\u001b[0m per million words)\n",
      " 44: Testing \u001b[93m\\bthe big picture\\b                               \u001b[0m | \u001b[36m3.53 seconds\u001b[0m | \u001b[91m 118\u001b[0m matches (\u001b[91m 3.540\u001b[0m per million words)\n",
      " 45: Testing \u001b[93m\\b(?:come|comes|coming|came) into play\\b          \u001b[0m | \u001b[36m3.73 seconds\u001b[0m | \u001b[91m  85\u001b[0m matches (\u001b[91m 2.550\u001b[0m per million words)\n",
      " 46: Testing \u001b[93m\\bwhat the (?:hell|heck)\\b                        \u001b[0m | \u001b[36m3.13 seconds\u001b[0m | \u001b[91m 102\u001b[0m matches (\u001b[91m 3.060\u001b[0m per million words)\n",
      " 47: Testing \u001b[93m\\bwhat the fuck\\b                                 \u001b[0m | \u001b[36m3.05 seconds\u001b[0m | \u001b[91m   0\u001b[0m matches (\u001b[91m 0.000\u001b[0m per million words)\n",
      " 48: Testing \u001b[93m\\bdown the line\\b                                 \u001b[0m | \u001b[36m3.20 seconds\u001b[0m | \u001b[91m 104\u001b[0m matches (\u001b[91m 3.120\u001b[0m per million words)\n",
      " 49: Testing \u001b[93m\\bon the line\\b                                   \u001b[0m | \u001b[36m3.10 seconds\u001b[0m | \u001b[91m 352\u001b[0m matches (\u001b[91m10.559\u001b[0m per million words)\n",
      " 50: Testing \u001b[93m\\bout of line\\b                                   \u001b[0m | \u001b[36m3.14 seconds\u001b[0m | \u001b[91m  38\u001b[0m matches (\u001b[91m 1.140\u001b[0m per million words)\n",
      " 51: Testing \u001b[93m\\bdown to the line\\b                              \u001b[0m | \u001b[36m2.98 seconds\u001b[0m | \u001b[91m   1\u001b[0m matches (\u001b[91m 0.030\u001b[0m per million words)\n",
      " 52: Testing \u001b[93m\\bon (?:the right)?track\\b                        \u001b[0m | \u001b[36m3.19 seconds\u001b[0m | \u001b[91m 493\u001b[0m matches (\u001b[91m14.788\u001b[0m per million words)\n",
      " 53: Testing \u001b[93m\\bknee(?: |-)?jerk\\b                              \u001b[0m | \u001b[36m3.21 seconds\u001b[0m | \u001b[91m  44\u001b[0m matches (\u001b[91m 1.320\u001b[0m per million words)\n",
      " 54: Testing \u001b[93m\\b(?:right|straight) off the bat\\b                \u001b[0m | \u001b[36m3.44 seconds\u001b[0m | \u001b[91m  33\u001b[0m matches (\u001b[91m 0.990\u001b[0m per million words)\n",
      " 55: Testing \u001b[93m\\bon target\\b                                     \u001b[0m | \u001b[36m3.22 seconds\u001b[0m | \u001b[91m  70\u001b[0m matches (\u001b[91m 2.100\u001b[0m per million words)\n",
      " 56: Testing \u001b[93m\\bthumbs up\\b                                     \u001b[0m | \u001b[36m3.22 seconds\u001b[0m | \u001b[91m  58\u001b[0m matches (\u001b[91m 1.740\u001b[0m per million words)\n",
      " 57: Testing \u001b[93m\\b(?:fell|fall(?:s|ing|en)?) in love\\b            \u001b[0m | \u001b[36m3.24 seconds\u001b[0m | \u001b[91m 424\u001b[0m matches (\u001b[91m12.718\u001b[0m per million words)\n"
     ]
    }
   ],
   "source": [
    "news_results = testCorpus(newsTexts, idiom_list_confident, \"NEWS\")"
   ]
  },
  {
   "cell_type": "code",
   "execution_count": 67,
   "id": "7c9c55d5-842f-453c-a72b-2c1b7d313685",
   "metadata": {},
   "outputs": [
    {
     "data": {
      "image/png": "[encoded data removed]",
      "text/plain": [
       "<Figure size 1000x400 with 2 Axes>"
      ]
     },
     "metadata": {},
     "output_type": "display_data"
    }
   ],
   "source": [
    "histCorpusMatches(*news_results, news_size, corpusName=\"NEWS\")"
   ]
  },
  {
   "cell_type": "code",
   "execution_count": null,
   "id": "865d18b0-afb0-45f3-912a-6f3067a95f65",
   "metadata": {},
   "outputs": [],
   "source": []
  }
 ],
 "metadata": {
  "kernelspec": {
   "display_name": "Python 3 (ipykernel)",
   "language": "python",
   "name": "python3"
  },
  "language_info": {
   "codemirror_mode": {
    "name": "ipython",
    "version": 3
   },
   "file_extension": ".py",
   "mimetype": "text/x-python",
   "name": "python",
   "nbconvert_exporter": "python",
   "pygments_lexer": "ipython3",
   "version": "3.12.4"
  }
 },
 "nbformat": 4,
 "nbformat_minor": 5
}
